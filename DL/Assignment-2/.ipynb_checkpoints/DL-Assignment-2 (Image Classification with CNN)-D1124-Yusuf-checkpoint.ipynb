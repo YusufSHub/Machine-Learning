{
 "cells": [
  {
   "cell_type": "markdown",
   "metadata": {
    "id": "s-65ZAgap_jt"
   },
   "source": [
    "___\n",
    "\n",
    "<p style=\"text-align: center;\"><img src=\"https://docs.google.com/uc?id=1lY0Uj5R04yMY3-ZppPWxqCr5pvBLYPnV\" class=\"img-fluid\" alt=\"CLRSWY\"></p>\n",
    "\n",
    "___"
   ]
  },
  {
   "cell_type": "markdown",
   "metadata": {
    "id": "5NNGLZ40p_j8"
   },
   "source": [
    "<h1 style=\"text-align: center;\">Deep Learning<br><br>Assignment-2 (CNN)<br><br>Image Classification with CNN<br><h1>"
   ]
  },
  {
   "cell_type": "markdown",
   "metadata": {
    "id": "RSyWYQcNp_j_"
   },
   "source": [
    "# Task and Dataset Info\n",
    "\n",
    "Welcome to second assignment of Deep learning lesson. Follow the instructions and complete the assignment.\n",
    "\n",
    "**Build an image classifier with Convolutional Neural Networks for the Fashion MNIST dataset. This data set includes 10 labels of different clothing types with 28 by 28 *grayscale* images. There is a training set of 60,000 images and 10,000 test images.**\n",
    "\n",
    "    Label\tDescription\n",
    "    0\t    T-shirt/top\n",
    "    1\t    Trouser\n",
    "    2\t    Pullover\n",
    "    3\t    Dress\n",
    "    4\t    Coat\n",
    "    5\t    Sandal\n",
    "    6\t    Shirt\n",
    "    7\t    Sneaker\n",
    "    8\t    Bag\n",
    "    9\t    Ankle boot"
   ]
  },
  {
   "cell_type": "markdown",
   "metadata": {
    "id": "iQEC2Rgip_kB"
   },
   "source": [
    "# Import Libraries"
   ]
  },
  {
   "cell_type": "code",
   "execution_count": 1,
   "metadata": {
    "executionInfo": {
     "elapsed": 1402,
     "status": "ok",
     "timestamp": 1656188564223,
     "user": {
      "displayName": "Yusuf Satilmis",
      "userId": "14929913006915313571"
     },
     "user_tz": -60
    },
    "id": "b2ybtpzrp_kD"
   },
   "outputs": [],
   "source": [
    "import numpy as np\n",
    "import pandas as pd\n",
    "import matplotlib.pyplot as plt\n",
    "import seaborn as sns\n",
    "\n",
    "import warnings\n",
    "warnings.filterwarnings(\"ignore\")\n",
    "warnings.warn(\"this will not show\")\n",
    "\n",
    "plt.rcParams[\"figure.figsize\"] = (10,6)\n",
    "\n",
    "sns.set_style(\"whitegrid\")\n",
    "pd.set_option('display.float_format', lambda x: '%.3f' % x)\n",
    "\n",
    "# Set it None to display all rows in the dataframe\n",
    "# pd.set_option('display.max_rows', None)\n",
    "\n",
    "# Set it to None to display all columns in the dataframe\n",
    "pd.set_option('display.max_columns', None)"
   ]
  },
  {
   "cell_type": "code",
   "execution_count": 2,
   "metadata": {
    "colab": {
     "base_uri": "https://localhost:8080/"
    },
    "executionInfo": {
     "elapsed": 1866,
     "status": "ok",
     "timestamp": 1656188566085,
     "user": {
      "displayName": "Yusuf Satilmis",
      "userId": "14929913006915313571"
     },
     "user_tz": -60
    },
    "id": "CUK6XKpqoz9v",
    "outputId": "e9992691-05e0-4b56-bab1-cfefe68a515b"
   },
   "outputs": [
    {
     "data": {
      "text/plain": [
       "[PhysicalDevice(name='/physical_device:GPU:0', device_type='GPU')]"
      ]
     },
     "execution_count": 2,
     "metadata": {},
     "output_type": "execute_result"
    }
   ],
   "source": [
    "import tensorflow as tf\n",
    "\n",
    "tf.config.list_physical_devices(\"GPU\")"
   ]
  },
  {
   "cell_type": "code",
   "execution_count": 2,
   "metadata": {
    "executionInfo": {
     "elapsed": 22,
     "status": "ok",
     "timestamp": 1656188566086,
     "user": {
      "displayName": "Yusuf Satilmis",
      "userId": "14929913006915313571"
     },
     "user_tz": -60
    },
    "id": "l9Yof_KIozyT"
   },
   "outputs": [],
   "source": []
  },
  {
   "cell_type": "markdown",
   "metadata": {
    "id": "RGqxtIw5p_kG"
   },
   "source": [
    "# Recognizing and Understanding Data\n",
    "\n",
    "**TASK 1: Run the code below to download the dataset using Keras.**"
   ]
  },
  {
   "cell_type": "code",
   "execution_count": 3,
   "metadata": {
    "executionInfo": {
     "elapsed": 23,
     "status": "ok",
     "timestamp": 1656188566087,
     "user": {
      "displayName": "Yusuf Satilmis",
      "userId": "14929913006915313571"
     },
     "user_tz": -60
    },
    "id": "x69gCkIDp_kI"
   },
   "outputs": [],
   "source": [
    "from tensorflow.keras.datasets import fashion_mnist\n",
    "\n",
    "(X_train, y_train), (X_test, y_test) = fashion_mnist.load_data()"
   ]
  },
  {
   "cell_type": "code",
   "execution_count": 4,
   "metadata": {
    "colab": {
     "base_uri": "https://localhost:8080/"
    },
    "executionInfo": {
     "elapsed": 23,
     "status": "ok",
     "timestamp": 1656188566088,
     "user": {
      "displayName": "Yusuf Satilmis",
      "userId": "14929913006915313571"
     },
     "user_tz": -60
    },
    "id": "Itlt-5ako-mO",
    "outputId": "a95e4bcd-20f3-4ab8-8ee0-d0edad9f26fc"
   },
   "outputs": [
    {
     "data": {
      "text/plain": [
       "(28, 28)"
      ]
     },
     "execution_count": 4,
     "metadata": {},
     "output_type": "execute_result"
    }
   ],
   "source": [
    "X_train[5].shape\n",
    "# Checking the shape of one image"
   ]
  },
  {
   "cell_type": "code",
   "execution_count": 5,
   "metadata": {
    "executionInfo": {
     "elapsed": 18,
     "status": "ok",
     "timestamp": 1656188566088,
     "user": {
      "displayName": "Yusuf Satilmis",
      "userId": "14929913006915313571"
     },
     "user_tz": -60
    },
    "id": "_HRNPgb0pu9z"
   },
   "outputs": [],
   "source": [
    "#Its 28 rows and 28 columns array"
   ]
  },
  {
   "cell_type": "code",
   "execution_count": 6,
   "metadata": {
    "colab": {
     "base_uri": "https://localhost:8080/"
    },
    "executionInfo": {
     "elapsed": 18,
     "status": "ok",
     "timestamp": 1656188566089,
     "user": {
      "displayName": "Yusuf Satilmis",
      "userId": "14929913006915313571"
     },
     "user_tz": -60
    },
    "id": "D9Q7Yc-Hp_kN",
    "outputId": "e66fb92f-455a-4709-f95d-90d3bd081f4d"
   },
   "outputs": [
    {
     "name": "stdout",
     "output_type": "stream",
     "text": [
      "There are  60000 images in the training dataset\n",
      "There are  10000 images in the test dataset\n"
     ]
    }
   ],
   "source": [
    "print(\"There are \", len(X_train), \"images in the training dataset\")     \n",
    "print(\"There are \", len(X_test), \"images in the test dataset\")"
   ]
  },
  {
   "cell_type": "code",
   "execution_count": 6,
   "metadata": {
    "executionInfo": {
     "elapsed": 14,
     "status": "ok",
     "timestamp": 1656188566089,
     "user": {
      "displayName": "Yusuf Satilmis",
      "userId": "14929913006915313571"
     },
     "user_tz": -60
    },
    "id": "hQjERzZMp_kP"
   },
   "outputs": [],
   "source": []
  },
  {
   "cell_type": "code",
   "execution_count": 6,
   "metadata": {
    "executionInfo": {
     "elapsed": 15,
     "status": "ok",
     "timestamp": 1656188566090,
     "user": {
      "displayName": "Yusuf Satilmis",
      "userId": "14929913006915313571"
     },
     "user_tz": -60
    },
    "id": "I6Kj8t2hp1KE"
   },
   "outputs": [],
   "source": []
  },
  {
   "cell_type": "markdown",
   "metadata": {
    "id": "v0PcEq4Qp_kR"
   },
   "source": [
    "**TASK 2: Use matplotlib to view an image from the data set. It can be any image from the data set.**"
   ]
  },
  {
   "cell_type": "code",
   "execution_count": 7,
   "metadata": {
    "executionInfo": {
     "elapsed": 14,
     "status": "ok",
     "timestamp": 1656188566090,
     "user": {
      "displayName": "Yusuf Satilmis",
      "userId": "14929913006915313571"
     },
     "user_tz": -60
    },
    "id": "VEhYidNSp_kT"
   },
   "outputs": [],
   "source": [
    "classes=[\"T-shirt/top\", \"Trouser\",\"Pullover\",\"Dress\",\"Coat\",\"Sandal\",\"Shirt\",\"Sneaker\",\"Bag\",\"Ankle boot\"]"
   ]
  },
  {
   "cell_type": "code",
   "execution_count": 8,
   "metadata": {
    "colab": {
     "base_uri": "https://localhost:8080/",
     "height": 282
    },
    "executionInfo": {
     "elapsed": 1172,
     "status": "ok",
     "timestamp": 1656188567248,
     "user": {
      "displayName": "Yusuf Satilmis",
      "userId": "14929913006915313571"
     },
     "user_tz": -60
    },
    "id": "hKhFjoBkp_kV",
    "outputId": "c6f98ca4-7d2a-461b-fe6e-9904cd90b051"
   },
   "outputs": [
    {
     "data": {
      "text/plain": [
       "<matplotlib.image.AxesImage at 0x7f886228ead0>"
      ]
     },
     "execution_count": 8,
     "metadata": {},
     "output_type": "execute_result"
    },
    {
     "data": {
      "image/png": "[encoded data removed]",
      "text/plain": [
       "<Figure size 432x288 with 1 Axes>"
      ]
     },
     "metadata": {
      "needs_background": "light"
     },
     "output_type": "display_data"
    }
   ],
   "source": [
    "plt.imshow(X_train[9])\n",
    "# plt.matshow(X_train[9])\n",
    "#image located on 9 index"
   ]
  },
  {
   "cell_type": "code",
   "execution_count": 9,
   "metadata": {
    "colab": {
     "base_uri": "https://localhost:8080/",
     "height": 36
    },
    "executionInfo": {
     "elapsed": 39,
     "status": "ok",
     "timestamp": 1656188567250,
     "user": {
      "displayName": "Yusuf Satilmis",
      "userId": "14929913006915313571"
     },
     "user_tz": -60
    },
    "id": "UTC3WEgep_kX",
    "outputId": "571bd7bc-ca84-409e-baef-f63eade0c716"
   },
   "outputs": [
    {
     "data": {
      "application/vnd.google.colaboratory.intrinsic+json": {
       "type": "string"
      },
      "text/plain": [
       "'T-shirt/top'"
      ]
     },
     "execution_count": 9,
     "metadata": {},
     "output_type": "execute_result"
    }
   ],
   "source": [
    "classes[int(X_train[9][0][0])]"
   ]
  },
  {
   "cell_type": "code",
   "execution_count": 9,
   "metadata": {
    "executionInfo": {
     "elapsed": 37,
     "status": "ok",
     "timestamp": 1656188567251,
     "user": {
      "displayName": "Yusuf Satilmis",
      "userId": "14929913006915313571"
     },
     "user_tz": -60
    },
    "id": "y6xWgLZjq2Sj"
   },
   "outputs": [],
   "source": []
  },
  {
   "cell_type": "code",
   "execution_count": 10,
   "metadata": {
    "colab": {
     "base_uri": "https://localhost:8080/",
     "height": 282
    },
    "executionInfo": {
     "elapsed": 37,
     "status": "ok",
     "timestamp": 1656188567252,
     "user": {
      "displayName": "Yusuf Satilmis",
      "userId": "14929913006915313571"
     },
     "user_tz": -60
    },
    "id": "reCfZ9Thq2Eg",
    "outputId": "44c9b03f-8551-45cd-e1f1-52e324136f8b"
   },
   "outputs": [
    {
     "data": {
      "text/plain": [
       "<matplotlib.image.AxesImage at 0x7f8861d810d0>"
      ]
     },
     "execution_count": 10,
     "metadata": {},
     "output_type": "execute_result"
    },
    {
     "data": {
      "image/png": "[encoded data removed]",
      "text/plain": [
       "<Figure size 432x288 with 1 Axes>"
      ]
     },
     "metadata": {
      "needs_background": "light"
     },
     "output_type": "display_data"
    }
   ],
   "source": [
    "plt.imshow(X_train[1729])\n",
    "# plt.matshow(X_train[9])\n",
    "#image located on 9 index"
   ]
  },
  {
   "cell_type": "code",
   "execution_count": 11,
   "metadata": {
    "colab": {
     "base_uri": "https://localhost:8080/",
     "height": 36
    },
    "executionInfo": {
     "elapsed": 25,
     "status": "ok",
     "timestamp": 1656188567253,
     "user": {
      "displayName": "Yusuf Satilmis",
      "userId": "14929913006915313571"
     },
     "user_tz": -60
    },
    "id": "keNkzuUXr9sj",
    "outputId": "55106957-4a64-4b87-d43f-09787c5ce0c4"
   },
   "outputs": [
    {
     "data": {
      "application/vnd.google.colaboratory.intrinsic+json": {
       "type": "string"
      },
      "text/plain": [
       "'T-shirt/top'"
      ]
     },
     "execution_count": 11,
     "metadata": {},
     "output_type": "execute_result"
    }
   ],
   "source": [
    "classes[int(X_train[1729][0][0])]"
   ]
  },
  {
   "cell_type": "code",
   "execution_count": 12,
   "metadata": {
    "colab": {
     "base_uri": "https://localhost:8080/",
     "height": 301
    },
    "executionInfo": {
     "elapsed": 1345,
     "status": "ok",
     "timestamp": 1656188568576,
     "user": {
      "displayName": "Yusuf Satilmis",
      "userId": "14929913006915313571"
     },
     "user_tz": -60
    },
    "id": "CD8iSJgJsIzF",
    "outputId": "8e1d588e-b28e-4685-f277-ab03e7e98842"
   },
   "outputs": [
    {
     "data": {
      "image/png": "[encoded data removed]",
      "text/plain": [
       "<Figure size 1440x1440 with 15 Axes>"
      ]
     },
     "metadata": {
      "needs_background": "light"
     },
     "output_type": "display_data"
    }
   ],
   "source": [
    "plt.figure(figsize=(20, 20))\n",
    "for i in range(15):\n",
    "    rand_index = int(np.random.randint(low=0, high=60000, size=1))\n",
    "    plt.subplot(8, 8, i+1)\n",
    "    plt.axis('off')\n",
    "    plt.title(classes[int(y_train[rand_index])])\n",
    "    plt.imshow(X_train[rand_index])"
   ]
  },
  {
   "cell_type": "code",
   "execution_count": 13,
   "metadata": {
    "executionInfo": {
     "elapsed": 32,
     "status": "ok",
     "timestamp": 1656188568576,
     "user": {
      "displayName": "Yusuf Satilmis",
      "userId": "14929913006915313571"
     },
     "user_tz": -60
    },
    "id": "g39OliOnsU2j"
   },
   "outputs": [],
   "source": [
    "#15 random images"
   ]
  },
  {
   "cell_type": "markdown",
   "metadata": {
    "id": "DbIWbfZpp_kY"
   },
   "source": [
    "# Data Preprocessing\n",
    "\n",
    "**TASK 3: Normalize the X train and X test data by dividing by the max value of the image arrays.**"
   ]
  },
  {
   "cell_type": "code",
   "execution_count": 14,
   "metadata": {
    "colab": {
     "base_uri": "https://localhost:8080/"
    },
    "executionInfo": {
     "elapsed": 32,
     "status": "ok",
     "timestamp": 1656188568577,
     "user": {
      "displayName": "Yusuf Satilmis",
      "userId": "14929913006915313571"
     },
     "user_tz": -60
    },
    "id": "9pSIyFarp_ka",
    "outputId": "31f244ad-8ef7-44e3-ba0a-1d9b1ca37726"
   },
   "outputs": [
    {
     "data": {
      "text/plain": [
       "0"
      ]
     },
     "execution_count": 14,
     "metadata": {},
     "output_type": "execute_result"
    }
   ],
   "source": [
    "X_train[5].min()"
   ]
  },
  {
   "cell_type": "code",
   "execution_count": 15,
   "metadata": {
    "colab": {
     "base_uri": "https://localhost:8080/"
    },
    "executionInfo": {
     "elapsed": 28,
     "status": "ok",
     "timestamp": 1656188568577,
     "user": {
      "displayName": "Yusuf Satilmis",
      "userId": "14929913006915313571"
     },
     "user_tz": -60
    },
    "id": "ZcBlIc2op_ka",
    "outputId": "e92e8702-00b5-4b9e-8e8e-7ee59af91f07"
   },
   "outputs": [
    {
     "data": {
      "text/plain": [
       "255"
      ]
     },
     "execution_count": 15,
     "metadata": {},
     "output_type": "execute_result"
    }
   ],
   "source": [
    "X_train[5].max()"
   ]
  },
  {
   "cell_type": "code",
   "execution_count": 16,
   "metadata": {
    "executionInfo": {
     "elapsed": 27,
     "status": "ok",
     "timestamp": 1656188568578,
     "user": {
      "displayName": "Yusuf Satilmis",
      "userId": "14929913006915313571"
     },
     "user_tz": -60
    },
    "id": "NfvYFwEmp_kb"
   },
   "outputs": [],
   "source": [
    "# Normalize image pixels\n",
    "X_train = X_train.astype('float32')\n",
    "X_test = X_test.astype('float32')\n",
    "X_train /= 255\n",
    "X_test /= 255"
   ]
  },
  {
   "cell_type": "markdown",
   "metadata": {
    "id": "5qUDr3HVp_kc"
   },
   "source": [
    "**Task 4: Reshape the X arrays to include a 4 dimension of the single channel. Similar to what we did for the numbers MNIST data set.**"
   ]
  },
  {
   "cell_type": "code",
   "execution_count": 17,
   "metadata": {
    "colab": {
     "base_uri": "https://localhost:8080/"
    },
    "executionInfo": {
     "elapsed": 26,
     "status": "ok",
     "timestamp": 1656188568578,
     "user": {
      "displayName": "Yusuf Satilmis",
      "userId": "14929913006915313571"
     },
     "user_tz": -60
    },
    "id": "zTE85q4Up_kd",
    "outputId": "c6b21b0a-a0d7-48c6-cf30-c156b729e3f1"
   },
   "outputs": [
    {
     "data": {
      "text/plain": [
       "0.0"
      ]
     },
     "execution_count": 17,
     "metadata": {},
     "output_type": "execute_result"
    }
   ],
   "source": [
    "X_train[5].min()"
   ]
  },
  {
   "cell_type": "code",
   "execution_count": 18,
   "metadata": {
    "colab": {
     "base_uri": "https://localhost:8080/"
    },
    "executionInfo": {
     "elapsed": 25,
     "status": "ok",
     "timestamp": 1656188568579,
     "user": {
      "displayName": "Yusuf Satilmis",
      "userId": "14929913006915313571"
     },
     "user_tz": -60
    },
    "id": "HlenRvqCp_kf",
    "outputId": "dfd2fb2b-0dfc-4ac8-c3f2-c67c271f3391"
   },
   "outputs": [
    {
     "data": {
      "text/plain": [
       "1.0"
      ]
     },
     "execution_count": 18,
     "metadata": {},
     "output_type": "execute_result"
    }
   ],
   "source": [
    "X_train[5].max()"
   ]
  },
  {
   "cell_type": "code",
   "execution_count": 19,
   "metadata": {
    "executionInfo": {
     "elapsed": 22,
     "status": "ok",
     "timestamp": 1656188568579,
     "user": {
      "displayName": "Yusuf Satilmis",
      "userId": "14929913006915313571"
     },
     "user_tz": -60
    },
    "id": "4ugAd_Z9s8Hl"
   },
   "outputs": [],
   "source": [
    "X_train = X_train.reshape(X_train.shape[0],28, 28, 1) \n",
    "X_test = X_test.reshape(X_test.shape[0], 28, 28, 1)"
   ]
  },
  {
   "cell_type": "code",
   "execution_count": 20,
   "metadata": {
    "colab": {
     "base_uri": "https://localhost:8080/"
    },
    "executionInfo": {
     "elapsed": 22,
     "status": "ok",
     "timestamp": 1656188568580,
     "user": {
      "displayName": "Yusuf Satilmis",
      "userId": "14929913006915313571"
     },
     "user_tz": -60
    },
    "id": "fPrumPextVXb",
    "outputId": "b9cde90b-70d8-4748-8c14-6ffd47d20a03"
   },
   "outputs": [
    {
     "data": {
      "text/plain": [
       "((60000, 28, 28, 1), (10000, 28, 28, 1))"
      ]
     },
     "execution_count": 20,
     "metadata": {},
     "output_type": "execute_result"
    }
   ],
   "source": [
    "X_train.shape, X_test.shape"
   ]
  },
  {
   "cell_type": "code",
   "execution_count": 21,
   "metadata": {
    "colab": {
     "base_uri": "https://localhost:8080/"
    },
    "executionInfo": {
     "elapsed": 18,
     "status": "ok",
     "timestamp": 1656188568580,
     "user": {
      "displayName": "Yusuf Satilmis",
      "userId": "14929913006915313571"
     },
     "user_tz": -60
    },
    "id": "pJNQFCQbtVUs",
    "outputId": "abf63718-3a36-44ca-e8eb-9358ec1c01b6"
   },
   "outputs": [
    {
     "data": {
      "text/plain": [
       "array([9, 0, 0, ..., 3, 0, 5], dtype=uint8)"
      ]
     },
     "execution_count": 21,
     "metadata": {},
     "output_type": "execute_result"
    }
   ],
   "source": [
    "y_train"
   ]
  },
  {
   "cell_type": "code",
   "execution_count": 22,
   "metadata": {
    "colab": {
     "base_uri": "https://localhost:8080/"
    },
    "executionInfo": {
     "elapsed": 14,
     "status": "ok",
     "timestamp": 1656188568580,
     "user": {
      "displayName": "Yusuf Satilmis",
      "userId": "14929913006915313571"
     },
     "user_tz": -60
    },
    "id": "jSoU5PVqtVRN",
    "outputId": "2da079ef-90d1-4976-9ff2-b6e7ca44031b"
   },
   "outputs": [
    {
     "data": {
      "text/plain": [
       "(60000,)"
      ]
     },
     "execution_count": 22,
     "metadata": {},
     "output_type": "execute_result"
    }
   ],
   "source": [
    "y_train.shape"
   ]
  },
  {
   "cell_type": "code",
   "execution_count": 22,
   "metadata": {
    "executionInfo": {
     "elapsed": 12,
     "status": "ok",
     "timestamp": 1656188568581,
     "user": {
      "displayName": "Yusuf Satilmis",
      "userId": "14929913006915313571"
     },
     "user_tz": -60
    },
    "id": "mz-UCDK1tVLM"
   },
   "outputs": [],
   "source": []
  },
  {
   "cell_type": "markdown",
   "metadata": {
    "id": "G3-p39_lp_kg"
   },
   "source": [
    "**TASK 5: Convert the y_train and y_test values to be one-hot encoded for categorical analysis by Keras.**"
   ]
  },
  {
   "cell_type": "code",
   "execution_count": 23,
   "metadata": {
    "executionInfo": {
     "elapsed": 11,
     "status": "ok",
     "timestamp": 1656188568581,
     "user": {
      "displayName": "Yusuf Satilmis",
      "userId": "14929913006915313571"
     },
     "user_tz": -60
    },
    "id": "1UP3TvsTp_kh"
   },
   "outputs": [],
   "source": [
    "from tensorflow.keras.utils import to_categorical"
   ]
  },
  {
   "cell_type": "code",
   "execution_count": 24,
   "metadata": {
    "colab": {
     "base_uri": "https://localhost:8080/"
    },
    "executionInfo": {
     "elapsed": 482,
     "status": "ok",
     "timestamp": 1656188569052,
     "user": {
      "displayName": "Yusuf Satilmis",
      "userId": "14929913006915313571"
     },
     "user_tz": -60
    },
    "id": "1cE8fPycp_ki",
    "outputId": "80c05959-6162-4c80-ea49-c5d2164422ec"
   },
   "outputs": [
    {
     "data": {
      "text/plain": [
       "(60000, 10)"
      ]
     },
     "execution_count": 24,
     "metadata": {},
     "output_type": "execute_result"
    }
   ],
   "source": [
    "#one hot encoding\n",
    "Y_train = to_categorical(y_train, 10) \n",
    "Y_test = to_categorical(y_test, 10)\n",
    "Y_train.shape"
   ]
  },
  {
   "cell_type": "code",
   "execution_count": 25,
   "metadata": {
    "colab": {
     "base_uri": "https://localhost:8080/"
    },
    "executionInfo": {
     "elapsed": 26,
     "status": "ok",
     "timestamp": 1656188569055,
     "user": {
      "displayName": "Yusuf Satilmis",
      "userId": "14929913006915313571"
     },
     "user_tz": -60
    },
    "id": "L6pakEJAp_ki",
    "outputId": "0ffb392d-8b93-46bc-9b35-0cccbcda27a2"
   },
   "outputs": [
    {
     "data": {
      "text/plain": [
       "5"
      ]
     },
     "execution_count": 25,
     "metadata": {},
     "output_type": "execute_result"
    }
   ],
   "source": [
    "y_train[9]"
   ]
  },
  {
   "cell_type": "code",
   "execution_count": 26,
   "metadata": {
    "colab": {
     "base_uri": "https://localhost:8080/"
    },
    "executionInfo": {
     "elapsed": 20,
     "status": "ok",
     "timestamp": 1656188569056,
     "user": {
      "displayName": "Yusuf Satilmis",
      "userId": "14929913006915313571"
     },
     "user_tz": -60
    },
    "id": "Gb74oprKp_kj",
    "outputId": "7da46b0b-b69c-4253-b619-502f51ca8e20"
   },
   "outputs": [
    {
     "data": {
      "text/plain": [
       "array([0., 0., 0., 0., 0., 1., 0., 0., 0., 0.], dtype=float32)"
      ]
     },
     "execution_count": 26,
     "metadata": {},
     "output_type": "execute_result"
    }
   ],
   "source": [
    "Y_train[9]"
   ]
  },
  {
   "cell_type": "code",
   "execution_count": 26,
   "metadata": {
    "executionInfo": {
     "elapsed": 14,
     "status": "ok",
     "timestamp": 1656188569057,
     "user": {
      "displayName": "Yusuf Satilmis",
      "userId": "14929913006915313571"
     },
     "user_tz": -60
    },
    "id": "bkVdSInDvdGa"
   },
   "outputs": [],
   "source": []
  },
  {
   "cell_type": "markdown",
   "metadata": {
    "id": "yX3_3Htgp_kj"
   },
   "source": [
    "# Modeling"
   ]
  },
  {
   "cell_type": "markdown",
   "metadata": {
    "id": "Pc2RvhZep_kk"
   },
   "source": [
    "## Create the model\n",
    "\n",
    "**TASK 5: Use Keras to create a model consisting of at least the following layers (but feel free to experiment):**\n",
    "\n",
    "* 2D Convolutional Layer, filters=28 and kernel_size=(3,3)\n",
    "* Pooling Layer where pool_size = (2,2) strides=(1,1)\n",
    "\n",
    "* Flatten Layer\n",
    "* Dense Layer (128 Neurons, but feel free to play around with this value), RELU activation\n",
    "\n",
    "* Final Dense Layer of 10 Neurons with a softmax activation\n",
    "\n",
    "**Then compile the model with these parameters: loss='categorical_crossentropy', optimizer='rmsprop', metrics=['accuracy']**"
   ]
  },
  {
   "cell_type": "code",
   "execution_count": 27,
   "metadata": {
    "executionInfo": {
     "elapsed": 14,
     "status": "ok",
     "timestamp": 1656188569058,
     "user": {
      "displayName": "Yusuf Satilmis",
      "userId": "14929913006915313571"
     },
     "user_tz": -60
    },
    "id": "sYefIZhbtiZT"
   },
   "outputs": [],
   "source": [
    "from tensorflow.keras.models import Sequential\n",
    "from tensorflow.keras.layers import Dense, Conv2D, MaxPool2D, Flatten, Dropout"
   ]
  },
  {
   "cell_type": "code",
   "execution_count": 252,
   "metadata": {
    "executionInfo": {
     "elapsed": 1034,
     "status": "ok",
     "timestamp": 1656189498273,
     "user": {
      "displayName": "Yusuf Satilmis",
      "userId": "14929913006915313571"
     },
     "user_tz": -60
    },
    "id": "j4jSNsHFtiWX"
   },
   "outputs": [],
   "source": [
    "model = Sequential()\n",
    "\n",
    "model.add(Conv2D(filters=28, kernel_size=(3,3), input_shape=(28, 28, 1), activation='relu')) # stride = 1, padding = valid \n",
    "model.add(MaxPool2D(pool_size=(2, 2))) # stride = pool size, padding = valid\n",
    "\n",
    "model.add(Conv2D(filters=28, kernel_size=(3,3), input_shape=(28, 28, 1), activation='relu')) # stride = 1, padding = valid \n",
    "model.add(MaxPool2D(pool_size=(2, 2))) # stride = pool size, padding = valid\n",
    "\n",
    "\n",
    "model.add(Flatten())\n",
    "\n",
    "model.add(Dense(128, activation='relu'))\n",
    "\n",
    "model.add(Dense(10, activation='softmax'))\n",
    "\n",
    "model.compile(loss='categorical_crossentropy',\n",
    "              optimizer='rmsprop',\n",
    "              metrics=['accuracy'])"
   ]
  },
  {
   "cell_type": "code",
   "execution_count": 253,
   "metadata": {
    "executionInfo": {
     "elapsed": 46,
     "status": "ok",
     "timestamp": 1656189498273,
     "user": {
      "displayName": "Yusuf Satilmis",
      "userId": "14929913006915313571"
     },
     "user_tz": -60
    },
    "id": "_bkogkv4g-RL"
   },
   "outputs": [],
   "source": [
    "from tensorflow.keras.layers import BatchNormalization"
   ]
  },
  {
   "cell_type": "code",
   "execution_count": 254,
   "metadata": {
    "colab": {
     "base_uri": "https://localhost:8080/"
    },
    "executionInfo": {
     "elapsed": 46,
     "status": "ok",
     "timestamp": 1656189498274,
     "user": {
      "displayName": "Yusuf Satilmis",
      "userId": "14929913006915313571"
     },
     "user_tz": -60
    },
    "id": "Ev7JatXgtiTU",
    "outputId": "61785c3e-17cc-4d1d-96ac-ed83be82678f"
   },
   "outputs": [
    {
     "name": "stdout",
     "output_type": "stream",
     "text": [
      "Model: \"sequential_11\"\n",
      "_________________________________________________________________\n",
      " Layer (type)                Output Shape              Param #   \n",
      "=================================================================\n",
      " conv2d_25 (Conv2D)          (None, 26, 26, 28)        280       \n",
      "                                                                 \n",
      " max_pooling2d_19 (MaxPoolin  (None, 13, 13, 28)       0         \n",
      " g2D)                                                            \n",
      "                                                                 \n",
      " conv2d_26 (Conv2D)          (None, 11, 11, 28)        7084      \n",
      "                                                                 \n",
      " max_pooling2d_20 (MaxPoolin  (None, 5, 5, 28)         0         \n",
      " g2D)                                                            \n",
      "                                                                 \n",
      " flatten_11 (Flatten)        (None, 700)               0         \n",
      "                                                                 \n",
      " dense_29 (Dense)            (None, 128)               89728     \n",
      "                                                                 \n",
      " dense_30 (Dense)            (None, 10)                1290      \n",
      "                                                                 \n",
      "=================================================================\n",
      "Total params: 98,382\n",
      "Trainable params: 98,382\n",
      "Non-trainable params: 0\n",
      "_________________________________________________________________\n"
     ]
    }
   ],
   "source": [
    "model.summary()"
   ]
  },
  {
   "cell_type": "code",
   "execution_count": 254,
   "metadata": {
    "executionInfo": {
     "elapsed": 26,
     "status": "ok",
     "timestamp": 1656189498275,
     "user": {
      "displayName": "Yusuf Satilmis",
      "userId": "14929913006915313571"
     },
     "user_tz": -60
    },
    "id": "OnQYFFojvcM3"
   },
   "outputs": [],
   "source": []
  },
  {
   "cell_type": "markdown",
   "metadata": {
    "id": "Dbi0euAcp_km"
   },
   "source": [
    "##  Model Training \n",
    "\n",
    "**TASK 6: Train/Fit the model to the x_train set by using EarlyStop. Amount of epochs is up to you.**"
   ]
  },
  {
   "cell_type": "code",
   "execution_count": 255,
   "metadata": {
    "executionInfo": {
     "elapsed": 26,
     "status": "ok",
     "timestamp": 1656189498276,
     "user": {
      "displayName": "Yusuf Satilmis",
      "userId": "14929913006915313571"
     },
     "user_tz": -60
    },
    "id": "wCXw6sJItiQm"
   },
   "outputs": [],
   "source": [
    "from tensorflow.keras.callbacks import EarlyStopping"
   ]
  },
  {
   "cell_type": "code",
   "execution_count": 256,
   "metadata": {
    "executionInfo": {
     "elapsed": 27,
     "status": "ok",
     "timestamp": 1656189498277,
     "user": {
      "displayName": "Yusuf Satilmis",
      "userId": "14929913006915313571"
     },
     "user_tz": -60
    },
    "id": "ufEv1LLltiNW"
   },
   "outputs": [],
   "source": [
    "early_stop = EarlyStopping(monitor='val_loss', patience=2, restore_best_weights = True)"
   ]
  },
  {
   "cell_type": "code",
   "execution_count": 257,
   "metadata": {
    "colab": {
     "base_uri": "https://localhost:8080/"
    },
    "executionInfo": {
     "elapsed": 65691,
     "status": "ok",
     "timestamp": 1656189563941,
     "user": {
      "displayName": "Yusuf Satilmis",
      "userId": "14929913006915313571"
     },
     "user_tz": -60
    },
    "id": "gWHJ5TyUtiKX",
    "outputId": "de66293c-e331-4bf4-d0c5-b295e57247b6"
   },
   "outputs": [
    {
     "name": "stdout",
     "output_type": "stream",
     "text": [
      "Epoch 1/10\n",
      "1875/1875 [==============================] - 9s 4ms/step - loss: 0.4736 - accuracy: 0.8274 - val_loss: 0.3565 - val_accuracy: 0.8708\n",
      "Epoch 2/10\n",
      "1875/1875 [==============================] - 8s 4ms/step - loss: 0.3169 - accuracy: 0.8850 - val_loss: 0.3353 - val_accuracy: 0.8828\n",
      "Epoch 3/10\n",
      "1875/1875 [==============================] - 8s 4ms/step - loss: 0.2766 - accuracy: 0.8989 - val_loss: 0.2995 - val_accuracy: 0.8901\n",
      "Epoch 4/10\n",
      "1875/1875 [==============================] - 8s 4ms/step - loss: 0.2549 - accuracy: 0.9073 - val_loss: 0.2901 - val_accuracy: 0.8946\n",
      "Epoch 5/10\n",
      "1875/1875 [==============================] - 9s 5ms/step - loss: 0.2377 - accuracy: 0.9139 - val_loss: 0.2780 - val_accuracy: 0.9036\n",
      "Epoch 6/10\n",
      "1875/1875 [==============================] - 8s 4ms/step - loss: 0.2251 - accuracy: 0.9193 - val_loss: 0.2780 - val_accuracy: 0.9077\n",
      "Epoch 7/10\n",
      "1875/1875 [==============================] - 8s 4ms/step - loss: 0.2162 - accuracy: 0.9220 - val_loss: 0.2920 - val_accuracy: 0.9051\n",
      "Epoch 8/10\n",
      "1875/1875 [==============================] - 8s 4ms/step - loss: 0.2078 - accuracy: 0.9246 - val_loss: 0.3135 - val_accuracy: 0.8856\n"
     ]
    },
    {
     "data": {
      "text/plain": [
       "<keras.callbacks.History at 0x7f87a7592490>"
      ]
     },
     "execution_count": 257,
     "metadata": {},
     "output_type": "execute_result"
    }
   ],
   "source": [
    "model.fit(X_train, Y_train, batch_size=32, epochs=10, validation_data=(X_test,Y_test),callbacks=[early_stop])\n"
   ]
  },
  {
   "cell_type": "code",
   "execution_count": 258,
   "metadata": {
    "colab": {
     "base_uri": "https://localhost:8080/"
    },
    "executionInfo": {
     "elapsed": 54,
     "status": "ok",
     "timestamp": 1656189563942,
     "user": {
      "displayName": "Yusuf Satilmis",
      "userId": "14929913006915313571"
     },
     "user_tz": -60
    },
    "id": "nwyZo0AdtiG0",
    "outputId": "3ffe8623-575a-4566-a1b8-b363893b9549"
   },
   "outputs": [
    {
     "data": {
      "text/plain": [
       "['loss', 'accuracy']"
      ]
     },
     "execution_count": 258,
     "metadata": {},
     "output_type": "execute_result"
    }
   ],
   "source": [
    "model.metrics_names"
   ]
  },
  {
   "cell_type": "code",
   "execution_count": 259,
   "metadata": {
    "colab": {
     "base_uri": "https://localhost:8080/",
     "height": 206
    },
    "executionInfo": {
     "elapsed": 45,
     "status": "ok",
     "timestamp": 1656189563943,
     "user": {
      "displayName": "Yusuf Satilmis",
      "userId": "14929913006915313571"
     },
     "user_tz": -60
    },
    "id": "8kvxTT1RtiBL",
    "outputId": "e63c1b82-8cca-4b30-ee89-16feeff07193"
   },
   "outputs": [
    {
     "data": {
      "text/html": [
       "\n",
       "  <div id=\"df-ee4f1eec-3a0b-42cd-a06b-af4fde78c7ed\">\n",
       "    <div class=\"colab-df-container\">\n",
       "      <div>\n",
       "<style scoped>\n",
       "    .dataframe tbody tr th:only-of-type {\n",
       "        vertical-align: middle;\n",
       "    }\n",
       "\n",
       "    .dataframe tbody tr th {\n",
       "        vertical-align: top;\n",
       "    }\n",
       "\n",
       "    .dataframe thead th {\n",
       "        text-align: right;\n",
       "    }\n",
       "</style>\n",
       "<table border=\"1\" class=\"dataframe\">\n",
       "  <thead>\n",
       "    <tr style=\"text-align: right;\">\n",
       "      <th></th>\n",
       "      <th>loss</th>\n",
       "      <th>accuracy</th>\n",
       "      <th>val_loss</th>\n",
       "      <th>val_accuracy</th>\n",
       "    </tr>\n",
       "  </thead>\n",
       "  <tbody>\n",
       "    <tr>\n",
       "      <th>0</th>\n",
       "      <td>0.474</td>\n",
       "      <td>0.827</td>\n",
       "      <td>0.357</td>\n",
       "      <td>0.871</td>\n",
       "    </tr>\n",
       "    <tr>\n",
       "      <th>1</th>\n",
       "      <td>0.317</td>\n",
       "      <td>0.885</td>\n",
       "      <td>0.335</td>\n",
       "      <td>0.883</td>\n",
       "    </tr>\n",
       "    <tr>\n",
       "      <th>2</th>\n",
       "      <td>0.277</td>\n",
       "      <td>0.899</td>\n",
       "      <td>0.300</td>\n",
       "      <td>0.890</td>\n",
       "    </tr>\n",
       "    <tr>\n",
       "      <th>3</th>\n",
       "      <td>0.255</td>\n",
       "      <td>0.907</td>\n",
       "      <td>0.290</td>\n",
       "      <td>0.895</td>\n",
       "    </tr>\n",
       "    <tr>\n",
       "      <th>4</th>\n",
       "      <td>0.238</td>\n",
       "      <td>0.914</td>\n",
       "      <td>0.278</td>\n",
       "      <td>0.904</td>\n",
       "    </tr>\n",
       "  </tbody>\n",
       "</table>\n",
       "</div>\n",
       "      <button class=\"colab-df-convert\" onclick=\"convertToInteractive('df-ee4f1eec-3a0b-42cd-a06b-af4fde78c7ed')\"\n",
       "              title=\"Convert this dataframe to an interactive table.\"\n",
       "              style=\"display:none;\">\n",
       "        \n",
       "  <svg xmlns=\"http://www.w3.org/2000/svg\" height=\"24px\"viewBox=\"0 0 24 24\"\n",
       "       width=\"24px\">\n",
       "    <path d=\"M0 0h24v24H0V0z\" fill=\"none\"/>\n",
       "    <path d=\"M18.56 5.44l.94 2.06.94-2.06 2.06-.94-2.06-.94-.94-2.06-.94 2.06-2.06.94zm-11 1L8.5 8.5l.94-2.06 2.06-.94-2.06-.94L8.5 2.5l-.94 2.06-2.06.94zm10 10l.94 2.06.94-2.06 2.06-.94-2.06-.94-.94-2.06-.94 2.06-2.06.94z\"/><path d=\"M17.41 7.96l-1.37-1.37c-.4-.4-.92-.59-1.43-.59-.52 0-1.04.2-1.43.59L10.3 9.45l-7.72 7.72c-.78.78-.78 2.05 0 2.83L4 21.41c.39.39.9.59 1.41.59.51 0 1.02-.2 1.41-.59l7.78-7.78 2.81-2.81c.8-.78.8-2.07 0-2.86zM5.41 20L4 18.59l7.72-7.72 1.47 1.35L5.41 20z\"/>\n",
       "  </svg>\n",
       "      </button>\n",
       "      \n",
       "  <style>\n",
       "    .colab-df-container {\n",
       "      display:flex;\n",
       "      flex-wrap:wrap;\n",
       "      gap: 12px;\n",
       "    }\n",
       "\n",
       "    .colab-df-convert {\n",
       "      background-color: #E8F0FE;\n",
       "      border: none;\n",
       "      border-radius: 50%;\n",
       "      cursor: pointer;\n",
       "      display: none;\n",
       "      fill: #1967D2;\n",
       "      height: 32px;\n",
       "      padding: 0 0 0 0;\n",
       "      width: 32px;\n",
       "    }\n",
       "\n",
       "    .colab-df-convert:hover {\n",
       "      background-color: #E2EBFA;\n",
       "      box-shadow: 0px 1px 2px rgba(60, 64, 67, 0.3), 0px 1px 3px 1px rgba(60, 64, 67, 0.15);\n",
       "      fill: #174EA6;\n",
       "    }\n",
       "\n",
       "    [theme=dark] .colab-df-convert {\n",
       "      background-color: #3B4455;\n",
       "      fill: #D2E3FC;\n",
       "    }\n",
       "\n",
       "    [theme=dark] .colab-df-convert:hover {\n",
       "      background-color: #434B5C;\n",
       "      box-shadow: 0px 1px 3px 1px rgba(0, 0, 0, 0.15);\n",
       "      filter: drop-shadow(0px 1px 2px rgba(0, 0, 0, 0.3));\n",
       "      fill: #FFFFFF;\n",
       "    }\n",
       "  </style>\n",
       "\n",
       "      <script>\n",
       "        const buttonEl =\n",
       "          document.querySelector('#df-ee4f1eec-3a0b-42cd-a06b-af4fde78c7ed button.colab-df-convert');\n",
       "        buttonEl.style.display =\n",
       "          google.colab.kernel.accessAllowed ? 'block' : 'none';\n",
       "\n",
       "        async function convertToInteractive(key) {\n",
       "          const element = document.querySelector('#df-ee4f1eec-3a0b-42cd-a06b-af4fde78c7ed');\n",
       "          const dataTable =\n",
       "            await google.colab.kernel.invokeFunction('convertToInteractive',\n",
       "                                                     [key], {});\n",
       "          if (!dataTable) return;\n",
       "\n",
       "          const docLinkHtml = 'Like what you see? Visit the ' +\n",
       "            '<a target=\"_blank\" href=https://colab.research.google.com/notebooks/data_table.ipynb>data table notebook</a>'\n",
       "            + ' to learn more about interactive tables.';\n",
       "          element.innerHTML = '';\n",
       "          dataTable['output_type'] = 'display_data';\n",
       "          await google.colab.output.renderOutput(dataTable, element);\n",
       "          const docLink = document.createElement('div');\n",
       "          docLink.innerHTML = docLinkHtml;\n",
       "          element.appendChild(docLink);\n",
       "        }\n",
       "      </script>\n",
       "    </div>\n",
       "  </div>\n",
       "  "
      ],
      "text/plain": [
       "   loss  accuracy  val_loss  val_accuracy\n",
       "0 0.474     0.827     0.357         0.871\n",
       "1 0.317     0.885     0.335         0.883\n",
       "2 0.277     0.899     0.300         0.890\n",
       "3 0.255     0.907     0.290         0.895\n",
       "4 0.238     0.914     0.278         0.904"
      ]
     },
     "execution_count": 259,
     "metadata": {},
     "output_type": "execute_result"
    }
   ],
   "source": [
    "summary = pd.DataFrame(model.history.history)\n",
    "summary.head()"
   ]
  },
  {
   "cell_type": "code",
   "execution_count": 259,
   "metadata": {
    "executionInfo": {
     "elapsed": 42,
     "status": "ok",
     "timestamp": 1656189563944,
     "user": {
      "displayName": "Yusuf Satilmis",
      "userId": "14929913006915313571"
     },
     "user_tz": -60
    },
    "id": "dctIiDwYvba8"
   },
   "outputs": [],
   "source": []
  },
  {
   "cell_type": "markdown",
   "metadata": {
    "id": "uWLppe0Ip_ko"
   },
   "source": [
    "**TASK 7: Plot values of metrics you used in your model.**"
   ]
  },
  {
   "cell_type": "code",
   "execution_count": 260,
   "metadata": {
    "colab": {
     "base_uri": "https://localhost:8080/",
     "height": 265
    },
    "executionInfo": {
     "elapsed": 17275,
     "status": "ok",
     "timestamp": 1656189581178,
     "user": {
      "displayName": "Yusuf Satilmis",
      "userId": "14929913006915313571"
     },
     "user_tz": -60
    },
    "id": "3zMtc7_N0x6y",
    "outputId": "ab85cce7-cf0c-422e-80d6-9045242fce02"
   },
   "outputs": [
    {
     "data": {
      "image/png": "[encoded data removed]",
      "text/plain": [
       "<Figure size 432x288 with 1 Axes>"
      ]
     },
     "metadata": {
      "needs_background": "light"
     },
     "output_type": "display_data"
    }
   ],
   "source": [
    "summary.plot();"
   ]
  },
  {
   "cell_type": "code",
   "execution_count": 261,
   "metadata": {
    "colab": {
     "base_uri": "https://localhost:8080/",
     "height": 265
    },
    "executionInfo": {
     "elapsed": 8,
     "status": "ok",
     "timestamp": 1656189581178,
     "user": {
      "displayName": "Yusuf Satilmis",
      "userId": "14929913006915313571"
     },
     "user_tz": -60
    },
    "id": "7hUWci8ht6WQ",
    "outputId": "3505e3f6-0c6a-4dcd-ab59-eb7212dfd49d"
   },
   "outputs": [
    {
     "data": {
      "image/png": "[encoded data removed]",
      "text/plain": [
       "<Figure size 432x288 with 1 Axes>"
      ]
     },
     "metadata": {
      "needs_background": "light"
     },
     "output_type": "display_data"
    }
   ],
   "source": [
    "summary[[\"loss\", \"val_loss\"]].plot();"
   ]
  },
  {
   "cell_type": "code",
   "execution_count": 262,
   "metadata": {
    "colab": {
     "base_uri": "https://localhost:8080/",
     "height": 265
    },
    "executionInfo": {
     "elapsed": 899,
     "status": "ok",
     "timestamp": 1656189582071,
     "user": {
      "displayName": "Yusuf Satilmis",
      "userId": "14929913006915313571"
     },
     "user_tz": -60
    },
    "id": "bCJqVOGat6Ra",
    "outputId": "48ffd8d0-f349-4b3c-dcb7-159cd4e02b69"
   },
   "outputs": [
    {
     "data": {
      "image/png": "[encoded data removed]",
      "text/plain": [
       "<Figure size 432x288 with 1 Axes>"
      ]
     },
     "metadata": {
      "needs_background": "light"
     },
     "output_type": "display_data"
    }
   ],
   "source": [
    "summary[[\"accuracy\", \"val_accuracy\"]].plot();"
   ]
  },
  {
   "cell_type": "code",
   "execution_count": 262,
   "metadata": {
    "executionInfo": {
     "elapsed": 10,
     "status": "ok",
     "timestamp": 1656189582072,
     "user": {
      "displayName": "Yusuf Satilmis",
      "userId": "14929913006915313571"
     },
     "user_tz": -60
    },
    "id": "IC9iB_cSp_kq"
   },
   "outputs": [],
   "source": []
  },
  {
   "cell_type": "markdown",
   "metadata": {
    "id": "aU4XWkXtp_kq"
   },
   "source": [
    "## Model Evaluation\n",
    "\n",
    "**TASK 8: Show the accuracy,precision,recall,f1-score the model achieved on the x_test data set. Keep in mind, there are quite a few ways to do this, but we recommend following the same procedure we showed in the MNIST lecture.**"
   ]
  },
  {
   "cell_type": "code",
   "execution_count": 263,
   "metadata": {
    "executionInfo": {
     "elapsed": 10,
     "status": "ok",
     "timestamp": 1656189582072,
     "user": {
      "displayName": "Yusuf Satilmis",
      "userId": "14929913006915313571"
     },
     "user_tz": -60
    },
    "id": "i1zDFKbhp_kr"
   },
   "outputs": [],
   "source": [
    "from sklearn.metrics import classification_report, confusion_matrix,multilabel_confusion_matrix"
   ]
  },
  {
   "cell_type": "code",
   "execution_count": 264,
   "metadata": {
    "colab": {
     "base_uri": "https://localhost:8080/"
    },
    "executionInfo": {
     "elapsed": 625,
     "status": "ok",
     "timestamp": 1656189582688,
     "user": {
      "displayName": "Yusuf Satilmis",
      "userId": "14929913006915313571"
     },
     "user_tz": -60
    },
    "id": "RtV8_YCnp_kr",
    "outputId": "e9676f5a-ec02-4ff9-80c8-8851de06ed2d"
   },
   "outputs": [
    {
     "name": "stdout",
     "output_type": "stream",
     "text": [
      "313/313 [==============================] - 1s 3ms/step - loss: 0.2780 - accuracy: 0.9077\n"
     ]
    },
    {
     "data": {
      "text/plain": [
       "[0.27799543738365173, 0.9077000021934509]"
      ]
     },
     "execution_count": 264,
     "metadata": {},
     "output_type": "execute_result"
    }
   ],
   "source": [
    "model.evaluate(X_test,Y_test)"
   ]
  },
  {
   "cell_type": "code",
   "execution_count": 265,
   "metadata": {
    "colab": {
     "base_uri": "https://localhost:8080/"
    },
    "executionInfo": {
     "elapsed": 930,
     "status": "ok",
     "timestamp": 1656189583615,
     "user": {
      "displayName": "Yusuf Satilmis",
      "userId": "14929913006915313571"
     },
     "user_tz": -60
    },
    "id": "TL6sUPEyp_ks",
    "outputId": "28d4b1b5-6d0e-4f26-ce0e-02552d363af4"
   },
   "outputs": [
    {
     "name": "stdout",
     "output_type": "stream",
     "text": [
      "Test loss: 0.27799543738365173\n",
      "Test accuracy: 0.9077000021934509\n"
     ]
    }
   ],
   "source": [
    "score = model.evaluate(X_test, Y_test, verbose=0)\n",
    "print('Test loss:', score[0])\n",
    "print('Test accuracy:', score[1])"
   ]
  },
  {
   "cell_type": "code",
   "execution_count": 266,
   "metadata": {
    "colab": {
     "base_uri": "https://localhost:8080/"
    },
    "executionInfo": {
     "elapsed": 958,
     "status": "ok",
     "timestamp": 1656189584569,
     "user": {
      "displayName": "Yusuf Satilmis",
      "userId": "14929913006915313571"
     },
     "user_tz": -60
    },
    "id": "gy_a_nt9p_ks",
    "outputId": "6519b48c-a115-4fdf-de6a-3b17811f8f2b"
   },
   "outputs": [
    {
     "name": "stdout",
     "output_type": "stream",
     "text": [
      "Test loss: 0.27799543738365173\n",
      "Test accuracy: 0.9077000021934509\n"
     ]
    }
   ],
   "source": [
    "score = model.evaluate(X_test, Y_test, verbose=0)\n",
    "print('Test loss:', score[0])\n",
    "print('Test accuracy:', score[1])"
   ]
  },
  {
   "cell_type": "code",
   "execution_count": 267,
   "metadata": {
    "colab": {
     "base_uri": "https://localhost:8080/"
    },
    "executionInfo": {
     "elapsed": 629,
     "status": "ok",
     "timestamp": 1656189585193,
     "user": {
      "displayName": "Yusuf Satilmis",
      "userId": "14929913006915313571"
     },
     "user_tz": -60
    },
    "id": "EPWMsS8ywcg3",
    "outputId": "01ead069-edc6-4510-bdf5-681048636424"
   },
   "outputs": [
    {
     "data": {
      "text/plain": [
       "array([[6.9056370e-08, 7.0544840e-13, 3.7109011e-08, ..., 4.4104312e-05,\n",
       "        6.8401711e-08, 9.9974400e-01],\n",
       "       [8.6655099e-08, 7.5462774e-16, 9.9998248e-01, ..., 1.4185393e-12,\n",
       "        4.5294449e-10, 2.5893854e-13],\n",
       "       [6.1700156e-09, 1.0000000e+00, 9.1653954e-15, ..., 4.2436634e-15,\n",
       "        1.3860660e-11, 1.3479957e-14],\n",
       "       ...,\n",
       "       [2.2451724e-08, 1.9844993e-17, 1.7688925e-09, ..., 4.2978838e-14,\n",
       "        1.0000000e+00, 3.2309748e-13],\n",
       "       [5.1624799e-10, 9.9999988e-01, 3.1936007e-13, ..., 1.4711395e-12,\n",
       "        8.0440391e-13, 2.1652913e-10],\n",
       "       [4.7928907e-04, 2.6155317e-06, 5.7574525e-05, ..., 9.8713720e-03,\n",
       "        2.1846274e-02, 5.3689245e-04]], dtype=float32)"
      ]
     },
     "execution_count": 267,
     "metadata": {},
     "output_type": "execute_result"
    }
   ],
   "source": [
    "pred_prob = model.predict(X_test)\n",
    "pred_prob"
   ]
  },
  {
   "cell_type": "code",
   "execution_count": 268,
   "metadata": {
    "colab": {
     "base_uri": "https://localhost:8080/"
    },
    "executionInfo": {
     "elapsed": 67,
     "status": "ok",
     "timestamp": 1656189585194,
     "user": {
      "displayName": "Yusuf Satilmis",
      "userId": "14929913006915313571"
     },
     "user_tz": -60
    },
    "id": "sDKS1FN0wcZQ",
    "outputId": "89847895-53a8-44a9-b25d-f7bdbe1b2dc6"
   },
   "outputs": [
    {
     "data": {
      "text/plain": [
       "(10000, 10)"
      ]
     },
     "execution_count": 268,
     "metadata": {},
     "output_type": "execute_result"
    }
   ],
   "source": [
    "pred_prob.shape"
   ]
  },
  {
   "cell_type": "code",
   "execution_count": 269,
   "metadata": {
    "colab": {
     "base_uri": "https://localhost:8080/"
    },
    "executionInfo": {
     "elapsed": 58,
     "status": "ok",
     "timestamp": 1656189585194,
     "user": {
      "displayName": "Yusuf Satilmis",
      "userId": "14929913006915313571"
     },
     "user_tz": -60
    },
    "id": "O4LyEWalwh4q",
    "outputId": "7962ef39-f79f-4745-953c-d853d4eaa432"
   },
   "outputs": [
    {
     "data": {
      "text/plain": [
       "array([6.9056370e-08, 7.0544840e-13, 3.7109011e-08, 3.3341750e-11,\n",
       "       2.0407437e-10, 2.1163307e-04, 1.5690272e-08, 4.4104312e-05,\n",
       "       6.8401711e-08, 9.9974400e-01], dtype=float32)"
      ]
     },
     "execution_count": 269,
     "metadata": {},
     "output_type": "execute_result"
    }
   ],
   "source": [
    "pred_prob[0]"
   ]
  },
  {
   "cell_type": "code",
   "execution_count": 270,
   "metadata": {
    "colab": {
     "base_uri": "https://localhost:8080/"
    },
    "executionInfo": {
     "elapsed": 51,
     "status": "ok",
     "timestamp": 1656189585195,
     "user": {
      "displayName": "Yusuf Satilmis",
      "userId": "14929913006915313571"
     },
     "user_tz": -60
    },
    "id": "fKpEmMkLwh1q",
    "outputId": "3503d098-728f-4358-8725-29e88448f41a"
   },
   "outputs": [
    {
     "data": {
      "text/plain": [
       "9"
      ]
     },
     "execution_count": 270,
     "metadata": {},
     "output_type": "execute_result"
    }
   ],
   "source": [
    "np.argmax(pred_prob[0])"
   ]
  },
  {
   "cell_type": "code",
   "execution_count": 271,
   "metadata": {
    "colab": {
     "base_uri": "https://localhost:8080/"
    },
    "executionInfo": {
     "elapsed": 44,
     "status": "ok",
     "timestamp": 1656189585195,
     "user": {
      "displayName": "Yusuf Satilmis",
      "userId": "14929913006915313571"
     },
     "user_tz": -60
    },
    "id": "CyFdQNA_why1",
    "outputId": "c77a5187-a946-45aa-c58f-2685b79ce92a"
   },
   "outputs": [
    {
     "data": {
      "text/plain": [
       "array([9, 2, 1, ..., 8, 1, 5])"
      ]
     },
     "execution_count": 271,
     "metadata": {},
     "output_type": "execute_result"
    }
   ],
   "source": [
    "y_pred = np.argmax(pred_prob, axis=1)\n",
    "y_pred"
   ]
  },
  {
   "cell_type": "code",
   "execution_count": 272,
   "metadata": {
    "colab": {
     "base_uri": "https://localhost:8080/"
    },
    "executionInfo": {
     "elapsed": 38,
     "status": "ok",
     "timestamp": 1656189585196,
     "user": {
      "displayName": "Yusuf Satilmis",
      "userId": "14929913006915313571"
     },
     "user_tz": -60
    },
    "id": "4iQ7FKZewhvL",
    "outputId": "ed5143b2-7a36-4938-f653-03ff51d21967"
   },
   "outputs": [
    {
     "data": {
      "text/plain": [
       "(10000,)"
      ]
     },
     "execution_count": 272,
     "metadata": {},
     "output_type": "execute_result"
    }
   ],
   "source": [
    "y_pred.shape"
   ]
  },
  {
   "cell_type": "code",
   "execution_count": 273,
   "metadata": {
    "colab": {
     "base_uri": "https://localhost:8080/"
    },
    "executionInfo": {
     "elapsed": 32,
     "status": "ok",
     "timestamp": 1656189585196,
     "user": {
      "displayName": "Yusuf Satilmis",
      "userId": "14929913006915313571"
     },
     "user_tz": -60
    },
    "id": "MxwDPjsgwhr7",
    "outputId": "5fe4cfd8-a8fe-4112-f1ad-bc54628a1bc2"
   },
   "outputs": [
    {
     "name": "stdout",
     "output_type": "stream",
     "text": [
      "              precision    recall  f1-score   support\n",
      "\n",
      "           0       0.86      0.85      0.86      1000\n",
      "           1       0.99      0.98      0.99      1000\n",
      "           2       0.86      0.86      0.86      1000\n",
      "           3       0.88      0.94      0.91      1000\n",
      "           4       0.82      0.88      0.85      1000\n",
      "           5       0.97      0.99      0.98      1000\n",
      "           6       0.78      0.69      0.73      1000\n",
      "           7       0.95      0.96      0.95      1000\n",
      "           8       0.96      0.98      0.97      1000\n",
      "           9       0.98      0.95      0.96      1000\n",
      "\n",
      "    accuracy                           0.91     10000\n",
      "   macro avg       0.91      0.91      0.91     10000\n",
      "weighted avg       0.91      0.91      0.91     10000\n",
      "\n"
     ]
    }
   ],
   "source": [
    "print(classification_report(y_test, y_pred))"
   ]
  },
  {
   "cell_type": "code",
   "execution_count": 274,
   "metadata": {
    "colab": {
     "base_uri": "https://localhost:8080/",
     "height": 36
    },
    "executionInfo": {
     "elapsed": 28,
     "status": "ok",
     "timestamp": 1656189585198,
     "user": {
      "displayName": "Yusuf Satilmis",
      "userId": "14929913006915313571"
     },
     "user_tz": -60
    },
    "id": "n_Vdj6caiy1D",
    "outputId": "3a1ec6bc-b2e3-4bc3-a87f-9633945f6004"
   },
   "outputs": [
    {
     "data": {
      "application/vnd.google.colaboratory.intrinsic+json": {
       "type": "string"
      },
      "text/plain": [
       "'Shirt'"
      ]
     },
     "execution_count": 274,
     "metadata": {},
     "output_type": "execute_result"
    }
   ],
   "source": [
    "classes[6]"
   ]
  },
  {
   "cell_type": "code",
   "execution_count": 275,
   "metadata": {
    "colab": {
     "base_uri": "https://localhost:8080/"
    },
    "executionInfo": {
     "elapsed": 25,
     "status": "ok",
     "timestamp": 1656189585198,
     "user": {
      "displayName": "Yusuf Satilmis",
      "userId": "14929913006915313571"
     },
     "user_tz": -60
    },
    "id": "1v3Vj97mwhpA",
    "outputId": "952f2691-c48c-4209-f5ff-e4553b425d7c"
   },
   "outputs": [
    {
     "name": "stdout",
     "output_type": "stream",
     "text": [
      "[[854   2  15  23   5   1  92   0   8   0]\n",
      " [  0 976   1  17   1   0   2   0   3   0]\n",
      " [ 18   0 860  10  69   0  43   0   0   0]\n",
      " [ 12   2   7 939  24   0  12   0   4   0]\n",
      " [  0   0  41  37 880   0  39   0   3   0]\n",
      " [  0   0   0   0   0 990   0   7   1   2]\n",
      " [104   0  70  36  84   0 691   0  15   0]\n",
      " [  0   0   0   0   0  22   0 959   4  15]\n",
      " [  2   1   1   3   7   1   2   2 981   0]\n",
      " [  0   0   0   0   0   7   0  44   2 947]]\n"
     ]
    }
   ],
   "source": [
    "print(confusion_matrix(y_test, y_pred))"
   ]
  },
  {
   "cell_type": "code",
   "execution_count": 276,
   "metadata": {
    "colab": {
     "base_uri": "https://localhost:8080/",
     "height": 609
    },
    "executionInfo": {
     "elapsed": 3188,
     "status": "ok",
     "timestamp": 1656189588370,
     "user": {
      "displayName": "Yusuf Satilmis",
      "userId": "14929913006915313571"
     },
     "user_tz": -60
    },
    "id": "OUDA5QYU1OhB",
    "outputId": "a6c0a03d-f7fb-4979-9b2e-eda2ebcdcd85"
   },
   "outputs": [
    {
     "data": {
      "text/plain": [
       "<matplotlib.axes._subplots.AxesSubplot at 0x7f87441944d0>"
      ]
     },
     "execution_count": 276,
     "metadata": {},
     "output_type": "execute_result"
    },
    {
     "data": {
      "image/png": "[encoded data removed]",
      "text/plain": [
       "<Figure size 1080x720 with 2 Axes>"
      ]
     },
     "metadata": {
      "needs_background": "light"
     },
     "output_type": "display_data"
    }
   ],
   "source": [
    "plt.figure(figsize=(15,10))\n",
    "sns.heatmap(confusion_matrix(y_test, y_pred), annot=True, cmap=\"Blues\", linewidths=.5, linecolor='black', fmt='g', annot_kws = {\"size\": 14})"
   ]
  },
  {
   "cell_type": "code",
   "execution_count": 277,
   "metadata": {
    "colab": {
     "base_uri": "https://localhost:8080/"
    },
    "executionInfo": {
     "elapsed": 55,
     "status": "ok",
     "timestamp": 1656189588370,
     "user": {
      "displayName": "Yusuf Satilmis",
      "userId": "14929913006915313571"
     },
     "user_tz": -60
    },
    "id": "ahKpNSA5wnrv",
    "outputId": "3913fcc9-f2ef-4154-a4ec-c0ae68de17fb"
   },
   "outputs": [
    {
     "data": {
      "text/plain": [
       "array([False, False, False, ..., False, False, False])"
      ]
     },
     "execution_count": 277,
     "metadata": {},
     "output_type": "execute_result"
    }
   ],
   "source": [
    "y_test != y_pred"
   ]
  },
  {
   "cell_type": "code",
   "execution_count": 278,
   "metadata": {
    "colab": {
     "base_uri": "https://localhost:8080/"
    },
    "executionInfo": {
     "elapsed": 52,
     "status": "ok",
     "timestamp": 1656189588371,
     "user": {
      "displayName": "Yusuf Satilmis",
      "userId": "14929913006915313571"
     },
     "user_tz": -60
    },
    "id": "EZN9pUNcwno7",
    "outputId": "f7140bce-889b-4780-d8bc-420fce26fd0c"
   },
   "outputs": [
    {
     "data": {
      "text/plain": [
       "923"
      ]
     },
     "execution_count": 278,
     "metadata": {},
     "output_type": "execute_result"
    }
   ],
   "source": [
    "(y_test != y_pred).sum()"
   ]
  },
  {
   "cell_type": "code",
   "execution_count": 278,
   "metadata": {
    "executionInfo": {
     "elapsed": 48,
     "status": "ok",
     "timestamp": 1656189588371,
     "user": {
      "displayName": "Yusuf Satilmis",
      "userId": "14929913006915313571"
     },
     "user_tz": -60
    },
    "id": "dun0GNWQwnl9"
   },
   "outputs": [],
   "source": []
  },
  {
   "cell_type": "code",
   "execution_count": 278,
   "metadata": {
    "executionInfo": {
     "elapsed": 48,
     "status": "ok",
     "timestamp": 1656189588372,
     "user": {
      "displayName": "Yusuf Satilmis",
      "userId": "14929913006915313571"
     },
     "user_tz": -60
    },
    "id": "8tlGw3ozwni8"
   },
   "outputs": [],
   "source": []
  },
  {
   "cell_type": "markdown",
   "metadata": {
    "id": "SdeB6Vlap_kt"
   },
   "source": [
    "## Prediction"
   ]
  },
  {
   "cell_type": "code",
   "execution_count": 279,
   "metadata": {
    "executionInfo": {
     "elapsed": 48,
     "status": "ok",
     "timestamp": 1656189588372,
     "user": {
      "displayName": "Yusuf Satilmis",
      "userId": "14929913006915313571"
     },
     "user_tz": -60
    },
    "id": "c_X4o4a8p_kt"
   },
   "outputs": [],
   "source": [
    "my_image = X_test[3]"
   ]
  },
  {
   "cell_type": "code",
   "execution_count": 280,
   "metadata": {
    "colab": {
     "base_uri": "https://localhost:8080/",
     "height": 265
    },
    "executionInfo": {
     "elapsed": 48,
     "status": "ok",
     "timestamp": 1656189588373,
     "user": {
      "displayName": "Yusuf Satilmis",
      "userId": "14929913006915313571"
     },
     "user_tz": -60
    },
    "id": "t8nc5Chcdhap",
    "outputId": "c1db039e-63cd-41f7-fee9-715836344bc1"
   },
   "outputs": [
    {
     "data": {
      "image/png": "[encoded data removed]",
      "text/plain": [
       "<Figure size 432x288 with 1 Axes>"
      ]
     },
     "metadata": {
      "needs_background": "light"
     },
     "output_type": "display_data"
    }
   ],
   "source": [
    "plt.imshow(my_image.reshape(28,28));"
   ]
  },
  {
   "cell_type": "code",
   "execution_count": 281,
   "metadata": {
    "colab": {
     "base_uri": "https://localhost:8080/"
    },
    "executionInfo": {
     "elapsed": 48,
     "status": "ok",
     "timestamp": 1656189588374,
     "user": {
      "displayName": "Yusuf Satilmis",
      "userId": "14929913006915313571"
     },
     "user_tz": -60
    },
    "id": "SwzSzlJydhXV",
    "outputId": "42e7a69c-fae4-4c5f-d2ef-36677c66883b"
   },
   "outputs": [
    {
     "data": {
      "text/plain": [
       "array([[1.01698136e-10, 1.00000000e+00, 8.64583555e-15, 2.12610207e-10,\n",
       "        8.93410693e-12, 2.31563629e-13, 9.28091631e-12, 2.19988483e-14,\n",
       "        5.55827967e-14, 1.86707136e-14]], dtype=float32)"
      ]
     },
     "execution_count": 281,
     "metadata": {},
     "output_type": "execute_result"
    }
   ],
   "source": [
    "pred_prob = model.predict(my_image.reshape(1,28,28,1))\n",
    "pred_prob"
   ]
  },
  {
   "cell_type": "code",
   "execution_count": 282,
   "metadata": {
    "colab": {
     "base_uri": "https://localhost:8080/"
    },
    "executionInfo": {
     "elapsed": 45,
     "status": "ok",
     "timestamp": 1656189588374,
     "user": {
      "displayName": "Yusuf Satilmis",
      "userId": "14929913006915313571"
     },
     "user_tz": -60
    },
    "id": "PhB8N01KdhTd",
    "outputId": "d554d109-45a6-4780-ee59-041e8d6badad"
   },
   "outputs": [
    {
     "data": {
      "text/plain": [
       "1"
      ]
     },
     "execution_count": 282,
     "metadata": {},
     "output_type": "execute_result"
    }
   ],
   "source": [
    "# SHAPE --> (num_images,width,height,color_channels)\n",
    "y_pred = np.argmax(pred_prob)\n",
    "y_pred"
   ]
  },
  {
   "cell_type": "code",
   "execution_count": 283,
   "metadata": {
    "executionInfo": {
     "elapsed": 42,
     "status": "ok",
     "timestamp": 1656189588375,
     "user": {
      "displayName": "Yusuf Satilmis",
      "userId": "14929913006915313571"
     },
     "user_tz": -60
    },
    "id": "yekbucV4dwc9"
   },
   "outputs": [],
   "source": [
    "model.save(\"cnn-1.h5\")"
   ]
  },
  {
   "cell_type": "code",
   "execution_count": 284,
   "metadata": {
    "executionInfo": {
     "elapsed": 44,
     "status": "ok",
     "timestamp": 1656189588377,
     "user": {
      "displayName": "Yusuf Satilmis",
      "userId": "14929913006915313571"
     },
     "user_tz": -60
    },
    "id": "cps4tMCHdwZP"
   },
   "outputs": [],
   "source": [
    "model=tf.keras.models.load_model('cnn-1.h5')"
   ]
  },
  {
   "cell_type": "code",
   "execution_count": 285,
   "metadata": {
    "executionInfo": {
     "elapsed": 45,
     "status": "ok",
     "timestamp": 1656189588378,
     "user": {
      "displayName": "Yusuf Satilmis",
      "userId": "14929913006915313571"
     },
     "user_tz": -60
    },
    "id": "98bNymYvd4cw"
   },
   "outputs": [],
   "source": [
    "pred=model.predict(np.expand_dims(X_test[5555],axis=0))"
   ]
  },
  {
   "cell_type": "code",
   "execution_count": 286,
   "metadata": {
    "colab": {
     "base_uri": "https://localhost:8080/"
    },
    "executionInfo": {
     "elapsed": 45,
     "status": "ok",
     "timestamp": 1656189588379,
     "user": {
      "displayName": "Yusuf Satilmis",
      "userId": "14929913006915313571"
     },
     "user_tz": -60
    },
    "id": "x_o6in8fdwO9",
    "outputId": "a1378599-9189-41a1-bde5-024268ac1378"
   },
   "outputs": [
    {
     "data": {
      "text/plain": [
       "0"
      ]
     },
     "execution_count": 286,
     "metadata": {},
     "output_type": "execute_result"
    }
   ],
   "source": [
    "np.argmax(pred)"
   ]
  },
  {
   "cell_type": "code",
   "execution_count": 287,
   "metadata": {
    "colab": {
     "base_uri": "https://localhost:8080/",
     "height": 282
    },
    "executionInfo": {
     "elapsed": 42,
     "status": "ok",
     "timestamp": 1656189588379,
     "user": {
      "displayName": "Yusuf Satilmis",
      "userId": "14929913006915313571"
     },
     "user_tz": -60
    },
    "id": "4dNExxTop_ku",
    "outputId": "b6d2e915-77ae-46ed-94f0-7e5eb06e717c"
   },
   "outputs": [
    {
     "data": {
      "text/plain": [
       "<matplotlib.image.AxesImage at 0x7f872c5a3810>"
      ]
     },
     "execution_count": 287,
     "metadata": {},
     "output_type": "execute_result"
    },
    {
     "data": {
      "image/png": "[encoded data removed]",
      "text/plain": [
       "<Figure size 432x288 with 1 Axes>"
      ]
     },
     "metadata": {
      "needs_background": "light"
     },
     "output_type": "display_data"
    }
   ],
   "source": [
    "plt.imshow(X_test[5555].reshape(28,28))"
   ]
  },
  {
   "cell_type": "code",
   "execution_count": 288,
   "metadata": {
    "colab": {
     "base_uri": "https://localhost:8080/",
     "height": 36
    },
    "executionInfo": {
     "elapsed": 37,
     "status": "ok",
     "timestamp": 1656189588380,
     "user": {
      "displayName": "Yusuf Satilmis",
      "userId": "14929913006915313571"
     },
     "user_tz": -60
    },
    "id": "UnajKakXd1h-",
    "outputId": "01d4da3a-0b33-42ec-d3dd-28a7987ebf45"
   },
   "outputs": [
    {
     "data": {
      "application/vnd.google.colaboratory.intrinsic+json": {
       "type": "string"
      },
      "text/plain": [
       "'T-shirt/top'"
      ]
     },
     "execution_count": 288,
     "metadata": {},
     "output_type": "execute_result"
    }
   ],
   "source": [
    "classes[0]"
   ]
  },
  {
   "cell_type": "code",
   "execution_count": 289,
   "metadata": {
    "executionInfo": {
     "elapsed": 35,
     "status": "ok",
     "timestamp": 1656189588380,
     "user": {
      "displayName": "Yusuf Satilmis",
      "userId": "14929913006915313571"
     },
     "user_tz": -60
    },
    "id": "Vl0x4UbHeIh9"
   },
   "outputs": [],
   "source": [
    "pred=model.predict(np.expand_dims(X_test[50],axis=0))"
   ]
  },
  {
   "cell_type": "code",
   "execution_count": 290,
   "metadata": {
    "colab": {
     "base_uri": "https://localhost:8080/"
    },
    "executionInfo": {
     "elapsed": 36,
     "status": "ok",
     "timestamp": 1656189588381,
     "user": {
      "displayName": "Yusuf Satilmis",
      "userId": "14929913006915313571"
     },
     "user_tz": -60
    },
    "id": "RBDDv3KLeTi7",
    "outputId": "11d81c1a-7b0d-4e5f-e154-7b26704d6805"
   },
   "outputs": [
    {
     "data": {
      "text/plain": [
       "4"
      ]
     },
     "execution_count": 290,
     "metadata": {},
     "output_type": "execute_result"
    }
   ],
   "source": [
    "np.argmax(pred)"
   ]
  },
  {
   "cell_type": "code",
   "execution_count": 291,
   "metadata": {
    "colab": {
     "base_uri": "https://localhost:8080/",
     "height": 282
    },
    "executionInfo": {
     "elapsed": 32,
     "status": "ok",
     "timestamp": 1656189588381,
     "user": {
      "displayName": "Yusuf Satilmis",
      "userId": "14929913006915313571"
     },
     "user_tz": -60
    },
    "id": "C2AEVl1veInm",
    "outputId": "ea7bc973-ef13-48d1-e04b-8a21d743c3fd"
   },
   "outputs": [
    {
     "data": {
      "text/plain": [
       "<matplotlib.image.AxesImage at 0x7f872c5be590>"
      ]
     },
     "execution_count": 291,
     "metadata": {},
     "output_type": "execute_result"
    },
    {
     "data": {
      "image/png": "[encoded data removed]",
      "text/plain": [
       "<Figure size 432x288 with 1 Axes>"
      ]
     },
     "metadata": {
      "needs_background": "light"
     },
     "output_type": "display_data"
    }
   ],
   "source": [
    "plt.imshow(X_test[50].reshape(28,28))"
   ]
  },
  {
   "cell_type": "code",
   "execution_count": 292,
   "metadata": {
    "colab": {
     "base_uri": "https://localhost:8080/",
     "height": 36
    },
    "executionInfo": {
     "elapsed": 30,
     "status": "ok",
     "timestamp": 1656189588382,
     "user": {
      "displayName": "Yusuf Satilmis",
      "userId": "14929913006915313571"
     },
     "user_tz": -60
    },
    "id": "VVLHvtLweIyq",
    "outputId": "3b83189b-9b8e-4ed0-ad62-ae50d6563fbd"
   },
   "outputs": [
    {
     "data": {
      "application/vnd.google.colaboratory.intrinsic+json": {
       "type": "string"
      },
      "text/plain": [
       "'Coat'"
      ]
     },
     "execution_count": 292,
     "metadata": {},
     "output_type": "execute_result"
    }
   ],
   "source": [
    "classes[4]"
   ]
  },
  {
   "cell_type": "markdown",
   "metadata": {
    "id": "vL5u8c-Kp_ku"
   },
   "source": [
    "# End of Assignment"
   ]
  },
  {
   "cell_type": "markdown",
   "metadata": {
    "id": "5UzhWu1Dp_kv"
   },
   "source": [
    "___\n",
    "\n",
    "<p style=\"text-align: center;\"><img src=\"https://docs.google.com/uc?id=1lY0Uj5R04yMY3-ZppPWxqCr5pvBLYPnV\" class=\"img-fluid\" alt=\"CLRSWY\"></p>\n",
    "\n",
    "___"
   ]
  }
 ],
 "metadata": {
  "accelerator": "GPU",
  "colab": {
   "collapsed_sections": [],
   "name": "DL-Assignment-2 (Image Classification with CNN)-D1124-Yusuf.ipynb",
   "provenance": []
  },
  "gpuClass": "standard",
  "kernelspec": {
   "display_name": "Python 3 (ipykernel)",
   "language": "python",
   "name": "python3"
  },
  "language_info": {
   "codemirror_mode": {
    "name": "ipython",
    "version": 3
   },
   "file_extension": ".py",
   "mimetype": "text/x-python",
   "name": "python",
   "nbconvert_exporter": "python",
   "pygments_lexer": "ipython3",
   "version": "3.9.12"
  },
  "toc": {
   "base_numbering": 1,
   "nav_menu": {},
   "number_sections": false,
   "sideBar": true,
   "skip_h1_title": false,
   "title_cell": "Table of Contents",
   "title_sidebar": "Contents",
   "toc_cell": false,
   "toc_position": {},
   "toc_section_display": true,
   "toc_window_display": true
  }
 },
 "nbformat": 4,
 "nbformat_minor": 1
}
