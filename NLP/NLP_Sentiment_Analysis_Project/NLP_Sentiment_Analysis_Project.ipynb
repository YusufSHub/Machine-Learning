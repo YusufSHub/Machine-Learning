{
 "cells": [
  {
   "cell_type": "markdown",
   "metadata": {},
   "source": [
    "___\n",
    "\n",
    "<p style=\"text-align: center;\"><img src=\"https://docs.google.com/uc?id=1lY0Uj5R04yMY3-ZppPWxqCr5pvBLYPnV\" class=\"img-fluid\" alt=\"CLRSWY\"></p>\n",
    "\n",
    "___"
   ]
  },
  {
   "cell_type": "markdown",
   "metadata": {},
   "source": [
    "# WELCOME!"
   ]
  },
  {
   "cell_type": "markdown",
   "metadata": {},
   "source": [
    "Welcome to the \"***Sentiment Analysis and Classification Project***\" project, the first and only project of the ***Natural Language Processing (NLP)*** course.\n",
    "\n",
    "This analysis will focus on using Natural Language techniques to find broad trends in the written thoughts of the customers. \n",
    "The goal in this project is to predict whether customers recommend the product they purchased using the information in their review text.\n",
    "\n",
    "One of the challenges in this project is to extract useful information from the *Review Text* variable using text mining techniques. The other challenge is that you need to convert text files into numeric feature vectors to run machine learning algorithms.\n",
    "\n",
    "At the end of this project, you will learn how to build sentiment classification models using Machine Learning algorithms (***Logistic Regression, Naive Bayes, Support Vector Machine, Random Forest*** and ***Ada Boosting***), **Deep Learning algorithms** and **BERT algorithm**.\n",
    "\n",
    "Before diving into the project, please take a look at the Determines and Tasks.\n",
    "\n",
    "- ***NOTE:*** *This tutorial assumes that you already know the basics of coding in Python and are familiar with the theory behind the algorithms mentioned above as well as NLP techniques.*\n",
    "\n"
   ]
  },
  {
   "cell_type": "markdown",
   "metadata": {},
   "source": [
    "---\n",
    "---\n"
   ]
  },
  {
   "cell_type": "markdown",
   "metadata": {},
   "source": [
    "# #Determines\n",
    "The data is a collection of 22641 Rows and 10 column variables. Each row includes a written comment as well as additional customer information. \n",
    "Also each row corresponds to a customer review, and includes the variables:\n",
    "\n",
    "\n",
    "**Feature Information:**\n",
    "\n",
    "**Clothing ID:** Integer Categorical variable that refers to the specific piece being reviewed.\n",
    "\n",
    "**Age:** Positive Integer variable of the reviewers age.\n",
    "\n",
    "**Title:** String variable for the title of the review.\n",
    "\n",
    "**Review Text:** String variable for the review body.\n",
    "\n",
    "**Rating:** Positive Ordinal Integer variable for the product score granted by the customer from 1 Worst, to 5 Best.\n",
    "\n",
    "**Recommended IND:** Binary variable stating where the customer recommends the product where 1 is recommended, 0 is not recommended.\n",
    "\n",
    "**Positive Feedback Count:** Positive Integer documenting the number of other customers who found this review positive.\n",
    "\n",
    "**Division Name:** Categorical name of the product high level division.\n",
    "\n",
    "**Department Name:** Categorical name of the product department name.\n",
    "\n",
    "**Class Name:** Categorical name of the product class name.\n",
    "\n",
    "---\n",
    "\n",
    "The basic goal in this project is to predict whether customers recommend the product they purchased using the information in their *Review Text*.\n",
    "Especially, it should be noted that the expectation in this project is to use only the \"Review Text\" variable and neglect the other ones. \n",
    "Of course, if you want, you can work on other variables individually.\n",
    "\n",
    "Project Structure is separated in five tasks: ***EDA, Feature Selection and Data Cleaning , Text Mining, Word Cloud*** and ***Sentiment Classification with Machine Learning, Deep Learning and BERT model***.\n",
    "\n",
    "Classically, you can start to know the data after doing the import and load operations. \n",
    "You need to do missing value detection for Review Text, which is the only variable you need to care about. You can drop other variables.\n",
    "\n",
    "You will need to apply ***noise removal*** and ***lexicon normalization*** processes by using the capabilities of the ***nltk*** library to the data set that is ready for text mining.\n",
    "\n",
    "Afterwards, you will implement ***Word Cloud*** as a visual analysis of word repetition.\n",
    "\n",
    "Finally, You will build models with five different algorithms and compare their performance. Thus, you will determine the algorithm that makes the most accurate emotion estimation by using the information obtained from the * Review Text * variable.\n",
    "\n",
    "\n",
    "\n",
    "\n"
   ]
  },
  {
   "cell_type": "markdown",
   "metadata": {},
   "source": [
    "---\n",
    "---\n"
   ]
  },
  {
   "cell_type": "markdown",
   "metadata": {},
   "source": [
    "# #Tasks\n",
    "\n",
    "#### 1. Exploratory Data Analysis\n",
    "\n",
    "- Import Modules, Load Discover the Data\n",
    "\n",
    "#### 2. Feature Selection and Data Cleaning\n",
    "\n",
    "- Feature Selection and Rename Column Name\n",
    "- Missing Value Detection\n",
    "\n",
    "#### 3. Text Mining\n",
    "\n",
    "- Tokenization\n",
    "- Noise Removal\n",
    "- Lexicon Normalization\n",
    "\n",
    "#### 4. WordCloud - Repetition of Words\n",
    "\n",
    "- Detect Reviews\n",
    "- Collect Words \n",
    "- Create Word Cloud \n",
    "\n",
    "\n",
    "#### 5. Sentiment Classification with Machine Learning, Deep Learning and BERT Model\n",
    "\n",
    "- Train - Test Split\n",
    "- Vectorization\n",
    "- TF-IDF\n",
    "- Logistic Regression\n",
    "- Naive Bayes\n",
    "- Support Vector Machine\n",
    "- Random Forest\n",
    "- AdaBoost\n",
    "- Deep Learning Model\n",
    "- BERT Model\n",
    "- Model Comparison"
   ]
  },
  {
   "cell_type": "markdown",
   "metadata": {},
   "source": [
    "---\n",
    "---\n"
   ]
  },
  {
   "cell_type": "markdown",
   "metadata": {
    "id": "HOkP9vyYCV31"
   },
   "source": [
    "# Sentiment analysis of women's clothes reviews\n",
    "\n",
    "\n",
    "In this project we used sentiment analysis to determined whether the product is recommended or not. We used different machine learning algorithms to get more accurate predictions. The following classification algorithms have been used: ML algorithms(Logistic Regression, Naive Bayes, Support Vector Machine (SVM), Random Forest and Ada Boosting), Deep learning algorithm and BERT algorithm. The dataset comes from Woman Clothing Review that can be find at (https://www.kaggle.com/nicapotato/womens-ecommerce-clothing-reviews. \n"
   ]
  },
  {
   "cell_type": "markdown",
   "metadata": {},
   "source": [
    "## 1. Exploratory Data Analysis"
   ]
  },
  {
   "cell_type": "markdown",
   "metadata": {
    "id": "FXzFEeYkCV32"
   },
   "source": [
    "### Import Libraries, Load and Discover the Data"
   ]
  },
  {
   "cell_type": "code",
   "execution_count": 1,
   "metadata": {},
   "outputs": [],
   "source": [
    "import pandas as pd\n",
    "import seaborn as sns\n",
    "import matplotlib.pyplot as plt\n",
    "import nltk\n",
    "from nltk.tokenize import sent_tokenize, word_tokenize\n",
    "from nltk.corpus import stopwords\n",
    "from nltk.stem import WordNetLemmatizer\n",
    "from nltk.stem import PorterStemmer\n",
    "import warnings\n",
    "warnings.filterwarnings(\"ignore\")\n",
    "plt.rcParams[\"figure.figsize\"] = (12,8)\n",
    "pd.set_option('display.max_columns', 50)"
   ]
  },
  {
   "cell_type": "code",
   "execution_count": 2,
   "metadata": {},
   "outputs": [
    {
     "data": {
      "text/html": [
       "<div>\n",
       "<style scoped>\n",
       "    .dataframe tbody tr th:only-of-type {\n",
       "        vertical-align: middle;\n",
       "    }\n",
       "\n",
       "    .dataframe tbody tr th {\n",
       "        vertical-align: top;\n",
       "    }\n",
       "\n",
       "    .dataframe thead th {\n",
       "        text-align: right;\n",
       "    }\n",
       "</style>\n",
       "<table border=\"1\" class=\"dataframe\">\n",
       "  <thead>\n",
       "    <tr style=\"text-align: right;\">\n",
       "      <th></th>\n",
       "      <th>Clothing ID</th>\n",
       "      <th>Age</th>\n",
       "      <th>Title</th>\n",
       "      <th>Review Text</th>\n",
       "      <th>Rating</th>\n",
       "      <th>Recommended IND</th>\n",
       "      <th>Positive Feedback Count</th>\n",
       "      <th>Division Name</th>\n",
       "      <th>Department Name</th>\n",
       "      <th>Class Name</th>\n",
       "    </tr>\n",
       "  </thead>\n",
       "  <tbody>\n",
       "    <tr>\n",
       "      <th>0</th>\n",
       "      <td>767</td>\n",
       "      <td>33</td>\n",
       "      <td>NaN</td>\n",
       "      <td>Absolutely wonderful - silky and sexy and comf...</td>\n",
       "      <td>4</td>\n",
       "      <td>1</td>\n",
       "      <td>0</td>\n",
       "      <td>Initmates</td>\n",
       "      <td>Intimate</td>\n",
       "      <td>Intimates</td>\n",
       "    </tr>\n",
       "    <tr>\n",
       "      <th>1</th>\n",
       "      <td>1080</td>\n",
       "      <td>34</td>\n",
       "      <td>NaN</td>\n",
       "      <td>Love this dress!  it's sooo pretty.  i happene...</td>\n",
       "      <td>5</td>\n",
       "      <td>1</td>\n",
       "      <td>4</td>\n",
       "      <td>General</td>\n",
       "      <td>Dresses</td>\n",
       "      <td>Dresses</td>\n",
       "    </tr>\n",
       "    <tr>\n",
       "      <th>2</th>\n",
       "      <td>1077</td>\n",
       "      <td>60</td>\n",
       "      <td>Some major design flaws</td>\n",
       "      <td>I had such high hopes for this dress and reall...</td>\n",
       "      <td>3</td>\n",
       "      <td>0</td>\n",
       "      <td>0</td>\n",
       "      <td>General</td>\n",
       "      <td>Dresses</td>\n",
       "      <td>Dresses</td>\n",
       "    </tr>\n",
       "    <tr>\n",
       "      <th>3</th>\n",
       "      <td>1049</td>\n",
       "      <td>50</td>\n",
       "      <td>My favorite buy!</td>\n",
       "      <td>I love, love, love this jumpsuit. it's fun, fl...</td>\n",
       "      <td>5</td>\n",
       "      <td>1</td>\n",
       "      <td>0</td>\n",
       "      <td>General Petite</td>\n",
       "      <td>Bottoms</td>\n",
       "      <td>Pants</td>\n",
       "    </tr>\n",
       "    <tr>\n",
       "      <th>4</th>\n",
       "      <td>847</td>\n",
       "      <td>47</td>\n",
       "      <td>Flattering shirt</td>\n",
       "      <td>This shirt is very flattering to all due to th...</td>\n",
       "      <td>5</td>\n",
       "      <td>1</td>\n",
       "      <td>6</td>\n",
       "      <td>General</td>\n",
       "      <td>Tops</td>\n",
       "      <td>Blouses</td>\n",
       "    </tr>\n",
       "  </tbody>\n",
       "</table>\n",
       "</div>"
      ],
      "text/plain": [
       "   Clothing ID  Age                    Title  \\\n",
       "0          767   33                      NaN   \n",
       "1         1080   34                      NaN   \n",
       "2         1077   60  Some major design flaws   \n",
       "3         1049   50         My favorite buy!   \n",
       "4          847   47         Flattering shirt   \n",
       "\n",
       "                                         Review Text  Rating  Recommended IND  \\\n",
       "0  Absolutely wonderful - silky and sexy and comf...       4                1   \n",
       "1  Love this dress!  it's sooo pretty.  i happene...       5                1   \n",
       "2  I had such high hopes for this dress and reall...       3                0   \n",
       "3  I love, love, love this jumpsuit. it's fun, fl...       5                1   \n",
       "4  This shirt is very flattering to all due to th...       5                1   \n",
       "\n",
       "   Positive Feedback Count   Division Name Department Name Class Name  \n",
       "0                        0       Initmates        Intimate  Intimates  \n",
       "1                        4         General         Dresses    Dresses  \n",
       "2                        0         General         Dresses    Dresses  \n",
       "3                        0  General Petite         Bottoms      Pants  \n",
       "4                        6         General            Tops    Blouses  "
      ]
     },
     "execution_count": 2,
     "metadata": {},
     "output_type": "execute_result"
    }
   ],
   "source": [
    "df = pd.read_csv(\"Womens Clothing E-Commerce Reviews.csv\", index_col=\"Unnamed: 0\")\n",
    "df.head()"
   ]
  },
  {
   "cell_type": "raw",
   "metadata": {},
   "source": [
    "Rating: Positive Ordinal Integer variable for the product score granted by the customer from 1 Worst, to 5 Best."
   ]
  },
  {
   "cell_type": "code",
   "execution_count": 3,
   "metadata": {},
   "outputs": [
    {
     "data": {
      "image/png": "[encoded data removed]",
      "text/plain": [
       "<Figure size 864x576 with 1 Axes>"
      ]
     },
     "metadata": {
      "needs_background": "light"
     },
     "output_type": "display_data"
    }
   ],
   "source": [
    "ax = sns.countplot(data = df, x =\"Division Name\", hue = \"Rating\")\n",
    "for p in ax.containers:\n",
    "    ax.bar_label(p)"
   ]
  },
  {
   "cell_type": "raw",
   "metadata": {},
   "source": [
    "Recommended IND: Binary variable stating where the customer recommends the product where 1 is recommended, 0 is not recommended."
   ]
  },
  {
   "cell_type": "code",
   "execution_count": 4,
   "metadata": {},
   "outputs": [
    {
     "data": {
      "image/png": "[encoded data removed]",
      "text/plain": [
       "<Figure size 864x576 with 1 Axes>"
      ]
     },
     "metadata": {
      "needs_background": "light"
     },
     "output_type": "display_data"
    }
   ],
   "source": [
    "ax = sns.countplot(data = df, x =\"Division Name\", hue = \"Recommended IND\")\n",
    "for p in ax.containers:\n",
    "    ax.bar_label(p)"
   ]
  },
  {
   "cell_type": "code",
   "execution_count": null,
   "metadata": {},
   "outputs": [],
   "source": []
  },
  {
   "cell_type": "code",
   "execution_count": 5,
   "metadata": {},
   "outputs": [
    {
     "data": {
      "image/png": "[encoded data removed]",
      "text/plain": [
       "<Figure size 864x576 with 1 Axes>"
      ]
     },
     "metadata": {
      "needs_background": "light"
     },
     "output_type": "display_data"
    }
   ],
   "source": [
    "ax = sns.countplot(data = df, x =\"Department Name\", hue = \"Rating\")\n",
    "for p in ax.containers:\n",
    "    ax.bar_label(p)"
   ]
  },
  {
   "cell_type": "code",
   "execution_count": null,
   "metadata": {},
   "outputs": [],
   "source": []
  },
  {
   "cell_type": "code",
   "execution_count": null,
   "metadata": {},
   "outputs": [],
   "source": []
  },
  {
   "cell_type": "markdown",
   "metadata": {
    "id": "T54GVJwICV36"
   },
   "source": [
    "### Data Wrangling"
   ]
  },
  {
   "cell_type": "code",
   "execution_count": 6,
   "metadata": {},
   "outputs": [
    {
     "data": {
      "text/plain": [
       "20763    Comfort is very important to me. as someone wh...\n",
       "10348    Gorgeous colors, high quality. my only word of...\n",
       "18556    This sweet dress is perfect for fall and sprin...\n",
       "16083    Adorable suit, super cute print and great qual...\n",
       "4147     I bought this tunic today because it paired we...\n",
       "18117    I loved this shirt and attempted to buy it - h...\n",
       "21799    These are cool jeans to have in a mound of typ...\n",
       "960      I tried these on as a return at my store and s...\n",
       "7008     White and silver threads made fabric look grey...\n",
       "3066     I couldn't agree more with that first review. ...\n",
       "18801    Purchased these in the blue motif. love the he...\n",
       "21046    Beautiful dress but the fit was off for me. ov...\n",
       "7567     I got the taupe and loved it so much i ordered...\n",
       "6757     The most disappointing thing about buying flar...\n",
       "13719    Very flattering dress but i think the black is...\n",
       "1734     Lovely embroidery with a classic look, great a...\n",
       "19220    I wore this top right out of the package i lov...\n",
       "2287     This dress caught my eye online and i had to h...\n",
       "16573                                                  NaN\n",
       "Name: Review Text, dtype: object"
      ]
     },
     "execution_count": 6,
     "metadata": {},
     "output_type": "execute_result"
    }
   ],
   "source": [
    "df[\"Review Text\"].sample(19)"
   ]
  },
  {
   "cell_type": "code",
   "execution_count": null,
   "metadata": {},
   "outputs": [],
   "source": []
  },
  {
   "cell_type": "markdown",
   "metadata": {
    "id": "AQuhTpcwCV38"
   },
   "source": [
    "#### Check Proportion of Target Class Variable:"
   ]
  },
  {
   "cell_type": "markdown",
   "metadata": {
    "id": "0YXKZ5QgCV39"
   },
   "source": [
    "The target class variable is imbalanced, where \"Recommended\" values are more dominating then \"Not Recommendation\"."
   ]
  },
  {
   "cell_type": "code",
   "execution_count": 7,
   "metadata": {},
   "outputs": [
    {
     "data": {
      "text/plain": [
       "Index(['Clothing ID', 'Age', 'Title', 'Review Text', 'Rating',\n",
       "       'Recommended IND', 'Positive Feedback Count', 'Division Name',\n",
       "       'Department Name', 'Class Name'],\n",
       "      dtype='object')"
      ]
     },
     "execution_count": 7,
     "metadata": {},
     "output_type": "execute_result"
    }
   ],
   "source": [
    "df.columns"
   ]
  },
  {
   "cell_type": "code",
   "execution_count": 8,
   "metadata": {},
   "outputs": [
    {
     "data": {
      "text/plain": [
       "1    19314\n",
       "0     4172\n",
       "Name: Recommended IND, dtype: int64"
      ]
     },
     "execution_count": 8,
     "metadata": {},
     "output_type": "execute_result"
    }
   ],
   "source": [
    "df[\"Recommended IND\"].value_counts()"
   ]
  },
  {
   "cell_type": "markdown",
   "metadata": {
    "id": "cPEVV0JGCV37"
   },
   "source": [
    "## 2. Feature Selection and Data Cleaning\n",
    "\n",
    "From now on, the DataFrame you will work with should contain two columns: **\"Review Text\"** and **\"Recommended IND\"**. You can do the missing value detection operations from now on. You can also rename the column names if you want.\n",
    "\n"
   ]
  },
  {
   "cell_type": "markdown",
   "metadata": {},
   "source": [
    "### Feature Selection and Rename Column Name"
   ]
  },
  {
   "cell_type": "code",
   "execution_count": 9,
   "metadata": {},
   "outputs": [],
   "source": [
    "df2 =df[[\"Recommended IND\", \"Review Text\"]]"
   ]
  },
  {
   "cell_type": "code",
   "execution_count": 10,
   "metadata": {},
   "outputs": [
    {
     "data": {
      "text/html": [
       "<div>\n",
       "<style scoped>\n",
       "    .dataframe tbody tr th:only-of-type {\n",
       "        vertical-align: middle;\n",
       "    }\n",
       "\n",
       "    .dataframe tbody tr th {\n",
       "        vertical-align: top;\n",
       "    }\n",
       "\n",
       "    .dataframe thead th {\n",
       "        text-align: right;\n",
       "    }\n",
       "</style>\n",
       "<table border=\"1\" class=\"dataframe\">\n",
       "  <thead>\n",
       "    <tr style=\"text-align: right;\">\n",
       "      <th></th>\n",
       "      <th>Recommended IND</th>\n",
       "      <th>Review Text</th>\n",
       "    </tr>\n",
       "  </thead>\n",
       "  <tbody>\n",
       "    <tr>\n",
       "      <th>0</th>\n",
       "      <td>1</td>\n",
       "      <td>Absolutely wonderful - silky and sexy and comf...</td>\n",
       "    </tr>\n",
       "    <tr>\n",
       "      <th>1</th>\n",
       "      <td>1</td>\n",
       "      <td>Love this dress!  it's sooo pretty.  i happene...</td>\n",
       "    </tr>\n",
       "    <tr>\n",
       "      <th>2</th>\n",
       "      <td>0</td>\n",
       "      <td>I had such high hopes for this dress and reall...</td>\n",
       "    </tr>\n",
       "    <tr>\n",
       "      <th>3</th>\n",
       "      <td>1</td>\n",
       "      <td>I love, love, love this jumpsuit. it's fun, fl...</td>\n",
       "    </tr>\n",
       "    <tr>\n",
       "      <th>4</th>\n",
       "      <td>1</td>\n",
       "      <td>This shirt is very flattering to all due to th...</td>\n",
       "    </tr>\n",
       "  </tbody>\n",
       "</table>\n",
       "</div>"
      ],
      "text/plain": [
       "   Recommended IND                                        Review Text\n",
       "0                1  Absolutely wonderful - silky and sexy and comf...\n",
       "1                1  Love this dress!  it's sooo pretty.  i happene...\n",
       "2                0  I had such high hopes for this dress and reall...\n",
       "3                1  I love, love, love this jumpsuit. it's fun, fl...\n",
       "4                1  This shirt is very flattering to all due to th..."
      ]
     },
     "execution_count": 10,
     "metadata": {},
     "output_type": "execute_result"
    }
   ],
   "source": [
    "df2.head()"
   ]
  },
  {
   "cell_type": "code",
   "execution_count": 11,
   "metadata": {},
   "outputs": [],
   "source": [
    "df2.rename(columns={\"Review Text\":\"text\", \"Recommended IND\":\"label\"}, inplace=True)"
   ]
  },
  {
   "cell_type": "markdown",
   "metadata": {},
   "source": [
    "---\n",
    "---\n"
   ]
  },
  {
   "cell_type": "markdown",
   "metadata": {
    "id": "vl2h73vYCV38"
   },
   "source": [
    "### Missing Value Detection"
   ]
  },
  {
   "cell_type": "code",
   "execution_count": 12,
   "metadata": {},
   "outputs": [
    {
     "data": {
      "text/plain": [
       "label    0.000000\n",
       "text     3.597888\n",
       "dtype: float64"
      ]
     },
     "execution_count": 12,
     "metadata": {},
     "output_type": "execute_result"
    }
   ],
   "source": [
    "df2.isnull().sum()/df2.shape[0]*100"
   ]
  },
  {
   "cell_type": "code",
   "execution_count": 13,
   "metadata": {
    "scrolled": true
   },
   "outputs": [
    {
     "ename": "KeyError",
     "evalue": "'Review Text'",
     "output_type": "error",
     "traceback": [
      "\u001b[1;31m---------------------------------------------------------------------------\u001b[0m",
      "\u001b[1;31mKeyError\u001b[0m                                  Traceback (most recent call last)",
      "File \u001b[1;32m~\\anaconda3\\lib\\site-packages\\pandas\\core\\indexes\\base.py:3621\u001b[0m, in \u001b[0;36mIndex.get_loc\u001b[1;34m(self, key, method, tolerance)\u001b[0m\n\u001b[0;32m   3620\u001b[0m \u001b[38;5;28;01mtry\u001b[39;00m:\n\u001b[1;32m-> 3621\u001b[0m     \u001b[38;5;28;01mreturn\u001b[39;00m \u001b[38;5;28;43mself\u001b[39;49m\u001b[38;5;241;43m.\u001b[39;49m\u001b[43m_engine\u001b[49m\u001b[38;5;241;43m.\u001b[39;49m\u001b[43mget_loc\u001b[49m\u001b[43m(\u001b[49m\u001b[43mcasted_key\u001b[49m\u001b[43m)\u001b[49m\n\u001b[0;32m   3622\u001b[0m \u001b[38;5;28;01mexcept\u001b[39;00m \u001b[38;5;167;01mKeyError\u001b[39;00m \u001b[38;5;28;01mas\u001b[39;00m err:\n",
      "File \u001b[1;32m~\\anaconda3\\lib\\site-packages\\pandas\\_libs\\index.pyx:136\u001b[0m, in \u001b[0;36mpandas._libs.index.IndexEngine.get_loc\u001b[1;34m()\u001b[0m\n",
      "File \u001b[1;32m~\\anaconda3\\lib\\site-packages\\pandas\\_libs\\index.pyx:163\u001b[0m, in \u001b[0;36mpandas._libs.index.IndexEngine.get_loc\u001b[1;34m()\u001b[0m\n",
      "File \u001b[1;32mpandas\\_libs\\hashtable_class_helper.pxi:5198\u001b[0m, in \u001b[0;36mpandas._libs.hashtable.PyObjectHashTable.get_item\u001b[1;34m()\u001b[0m\n",
      "File \u001b[1;32mpandas\\_libs\\hashtable_class_helper.pxi:5206\u001b[0m, in \u001b[0;36mpandas._libs.hashtable.PyObjectHashTable.get_item\u001b[1;34m()\u001b[0m\n",
      "\u001b[1;31mKeyError\u001b[0m: 'Review Text'",
      "\nThe above exception was the direct cause of the following exception:\n",
      "\u001b[1;31mKeyError\u001b[0m                                  Traceback (most recent call last)",
      "Input \u001b[1;32mIn [13]\u001b[0m, in \u001b[0;36m<cell line: 1>\u001b[1;34m()\u001b[0m\n\u001b[1;32m----> 1\u001b[0m \u001b[43mdf2\u001b[49m\u001b[43m[\u001b[49m\u001b[38;5;124;43m\"\u001b[39;49m\u001b[38;5;124;43mReview Text\u001b[39;49m\u001b[38;5;124;43m\"\u001b[39;49m\u001b[43m]\u001b[49m\u001b[38;5;241m.\u001b[39misna()\u001b[38;5;241m.\u001b[39mvalue_counts()\n",
      "File \u001b[1;32m~\\anaconda3\\lib\\site-packages\\pandas\\core\\frame.py:3505\u001b[0m, in \u001b[0;36mDataFrame.__getitem__\u001b[1;34m(self, key)\u001b[0m\n\u001b[0;32m   3503\u001b[0m \u001b[38;5;28;01mif\u001b[39;00m \u001b[38;5;28mself\u001b[39m\u001b[38;5;241m.\u001b[39mcolumns\u001b[38;5;241m.\u001b[39mnlevels \u001b[38;5;241m>\u001b[39m \u001b[38;5;241m1\u001b[39m:\n\u001b[0;32m   3504\u001b[0m     \u001b[38;5;28;01mreturn\u001b[39;00m \u001b[38;5;28mself\u001b[39m\u001b[38;5;241m.\u001b[39m_getitem_multilevel(key)\n\u001b[1;32m-> 3505\u001b[0m indexer \u001b[38;5;241m=\u001b[39m \u001b[38;5;28;43mself\u001b[39;49m\u001b[38;5;241;43m.\u001b[39;49m\u001b[43mcolumns\u001b[49m\u001b[38;5;241;43m.\u001b[39;49m\u001b[43mget_loc\u001b[49m\u001b[43m(\u001b[49m\u001b[43mkey\u001b[49m\u001b[43m)\u001b[49m\n\u001b[0;32m   3506\u001b[0m \u001b[38;5;28;01mif\u001b[39;00m is_integer(indexer):\n\u001b[0;32m   3507\u001b[0m     indexer \u001b[38;5;241m=\u001b[39m [indexer]\n",
      "File \u001b[1;32m~\\anaconda3\\lib\\site-packages\\pandas\\core\\indexes\\base.py:3623\u001b[0m, in \u001b[0;36mIndex.get_loc\u001b[1;34m(self, key, method, tolerance)\u001b[0m\n\u001b[0;32m   3621\u001b[0m     \u001b[38;5;28;01mreturn\u001b[39;00m \u001b[38;5;28mself\u001b[39m\u001b[38;5;241m.\u001b[39m_engine\u001b[38;5;241m.\u001b[39mget_loc(casted_key)\n\u001b[0;32m   3622\u001b[0m \u001b[38;5;28;01mexcept\u001b[39;00m \u001b[38;5;167;01mKeyError\u001b[39;00m \u001b[38;5;28;01mas\u001b[39;00m err:\n\u001b[1;32m-> 3623\u001b[0m     \u001b[38;5;28;01mraise\u001b[39;00m \u001b[38;5;167;01mKeyError\u001b[39;00m(key) \u001b[38;5;28;01mfrom\u001b[39;00m \u001b[38;5;21;01merr\u001b[39;00m\n\u001b[0;32m   3624\u001b[0m \u001b[38;5;28;01mexcept\u001b[39;00m \u001b[38;5;167;01mTypeError\u001b[39;00m:\n\u001b[0;32m   3625\u001b[0m     \u001b[38;5;66;03m# If we have a listlike key, _check_indexing_error will raise\u001b[39;00m\n\u001b[0;32m   3626\u001b[0m     \u001b[38;5;66;03m#  InvalidIndexError. Otherwise we fall through and re-raise\u001b[39;00m\n\u001b[0;32m   3627\u001b[0m     \u001b[38;5;66;03m#  the TypeError.\u001b[39;00m\n\u001b[0;32m   3628\u001b[0m     \u001b[38;5;28mself\u001b[39m\u001b[38;5;241m.\u001b[39m_check_indexing_error(key)\n",
      "\u001b[1;31mKeyError\u001b[0m: 'Review Text'"
     ]
    }
   ],
   "source": [
    "df2[\"Review Text\"].isna().value_counts()"
   ]
  },
  {
   "cell_type": "code",
   "execution_count": null,
   "metadata": {},
   "outputs": [],
   "source": [
    "df2.loc[pd.isna(df2[\"Review Text\"]), :].index"
   ]
  },
  {
   "cell_type": "code",
   "execution_count": null,
   "metadata": {},
   "outputs": [],
   "source": [
    "x = df2.loc[pd.isna(df2[\"Review Text\"]), :].index"
   ]
  },
  {
   "cell_type": "code",
   "execution_count": null,
   "metadata": {},
   "outputs": [],
   "source": [
    "df.iloc[92]"
   ]
  },
  {
   "cell_type": "code",
   "execution_count": null,
   "metadata": {},
   "outputs": [],
   "source": [
    "df.iloc[93]"
   ]
  },
  {
   "cell_type": "code",
   "execution_count": null,
   "metadata": {},
   "outputs": [],
   "source": [
    "df2.shape\n"
   ]
  },
  {
   "cell_type": "code",
   "execution_count": null,
   "metadata": {
    "scrolled": true
   },
   "outputs": [],
   "source": [
    "df2.drop(x, inplace=True)"
   ]
  },
  {
   "cell_type": "code",
   "execution_count": null,
   "metadata": {},
   "outputs": [],
   "source": [
    "df2.shape\n"
   ]
  },
  {
   "cell_type": "markdown",
   "metadata": {},
   "source": [
    "---\n",
    "---\n"
   ]
  },
  {
   "cell_type": "markdown",
   "metadata": {
    "id": "WO_zLq2UCV39"
   },
   "source": [
    "## 3. Text Mining\n",
    "\n",
    "Text is the most unstructured form of all the available data, therefore various types of noise are present in it. This means that the data is not readily analyzable without any pre-processing. The entire process of cleaning and standardization of text, making it noise-free and ready for analysis is known as **text preprocessing**.\n",
    "\n",
    "The three key steps of text preprocessing:\n",
    "\n",
    "- **Tokenization:**\n",
    "This step is one of the top priorities when it comes to working on text mining. Tokenization is essentially splitting a phrase, sentence, paragraph, or an entire text document into smaller units, such as individual words or terms. Each of these smaller units are called tokens.\n",
    "\n",
    "- **Noise Removal:**\n",
    "Any piece of text which is not relevant to the context of the data and the end-output can be specified as the noise.\n",
    "For example – language stopwords (commonly used words of a language – is, am, the, of, in etc), URLs or links, upper and lower case differentiation, punctuations and industry specific words. This step deals with removal of all types of noisy entities present in the text.\n",
    "\n",
    "\n",
    "- **Lexicon Normalization:**\n",
    "Another type of textual noise is about the multiple representations exhibited by single word.\n",
    "For example – “play”, “player”, “played”, “plays” and “playing” are the different variations of the word – “play”. Though they mean different things, contextually they all are similar. This step converts all the disparities of a word into their normalized form (also known as lemma). \n",
    "There are two methods of lexicon normalisation; **[Stemming or Lemmatization](https://www.guru99.com/stemming-lemmatization-python-nltk.html)**. Lemmatization is recommended for this case, because Lemmatization as this will return the root form of each word (rather than just stripping suffixes, which is stemming).\n",
    "\n",
    "As the first step change text to tokens and convertion all of the words to lower case.  Next remove punctuation, bad characters, numbers and stop words. The second step is aimed to normalization them throught the Lemmatization method. \n",
    "\n",
    "\n",
    "***Note:*** *Use the functions of the ***[nltk Library](https://www.guru99.com/nltk-tutorial.html)*** for all the above operations.*\n",
    "\n"
   ]
  },
  {
   "cell_type": "code",
   "execution_count": null,
   "metadata": {},
   "outputs": [],
   "source": [
    "def cleaning(data):\n",
    "    \n",
    "    import re\n",
    "    \n",
    "    #1. Removing URLS\n",
    "    data = re.sub('http\\S+', '', data).strip()\n",
    "    data = re.sub('www\\S+', '', data).strip()\n",
    "\n",
    "    #2. Removing Tags\n",
    "    data = re.sub('#\\S+', '', data).strip()\n",
    "\n",
    "    #3. Removing Mentions\n",
    "    data = re.sub('@\\S+', '', data).strip()\n",
    "    \n",
    "    #4. Removing upper brackets to keep negative auxiliary verbs in text\n",
    "    data = data.replace(\"'\", \"\")\n",
    "    \n",
    "    #5. Tokenize\n",
    "    text_tokens = word_tokenize(data.lower())\n",
    "    \n",
    "    #6. Remove Puncs and number\n",
    "    tokens_without_punc = [w for w in text_tokens if w.isalpha()]\n",
    "    \n",
    "    #7. Removing Stopwords\n",
    "    tokens_without_sw = [t for t in tokens_without_punc if t not in stop_words]\n",
    "    \n",
    "    #8. lemma\n",
    "    text_cleaned = [WordNetLemmatizer().lemmatize(t) for t in tokens_without_sw]\n",
    "    \n",
    "    #joining\n",
    "    return \" \".join(text_cleaned)"
   ]
  },
  {
   "cell_type": "code",
   "execution_count": null,
   "metadata": {},
   "outputs": [],
   "source": [
    "stop_words = stopwords.words('english')\n"
   ]
  },
  {
   "cell_type": "markdown",
   "metadata": {},
   "source": [
    "### Tokenization, Noise Removal, Lexicon Normalization"
   ]
  },
  {
   "cell_type": "code",
   "execution_count": null,
   "metadata": {},
   "outputs": [],
   "source": [
    "X = df2[\"Review Text\"]\n",
    "y= df2[\"Recommended IND\"]"
   ]
  },
  {
   "cell_type": "code",
   "execution_count": null,
   "metadata": {
    "scrolled": false
   },
   "outputs": [],
   "source": [
    "X"
   ]
  },
  {
   "cell_type": "code",
   "execution_count": null,
   "metadata": {},
   "outputs": [],
   "source": [
    "y"
   ]
  },
  {
   "cell_type": "code",
   "execution_count": null,
   "metadata": {},
   "outputs": [],
   "source": [
    "df2.isna().any()"
   ]
  },
  {
   "cell_type": "code",
   "execution_count": null,
   "metadata": {},
   "outputs": [],
   "source": [
    "X_train, X_test, y_train, y_test = train_test_split(X, y, test_size=0.2, stratify=y, random_state=101)"
   ]
  },
  {
   "cell_type": "code",
   "execution_count": null,
   "metadata": {},
   "outputs": [],
   "source": [
    "from sklearn.feature_extraction.text import CountVectorizer"
   ]
  },
  {
   "cell_type": "code",
   "execution_count": null,
   "metadata": {},
   "outputs": [],
   "source": [
    "vectorizer = CountVectorizer(preprocessor=cleaning, min_df=3) # ngram_range=(1,2), max_features= 1500\n",
    "X_train_count = vectorizer.fit_transform(X_train)\n",
    "X_test_count = vectorizer.transform(X_test)"
   ]
  },
  {
   "cell_type": "code",
   "execution_count": null,
   "metadata": {},
   "outputs": [],
   "source": [
    "X_train_count.toarray()"
   ]
  },
  {
   "cell_type": "code",
   "execution_count": null,
   "metadata": {},
   "outputs": [],
   "source": [
    "pd.DataFrame(X_train_count.toarray(), columns = vectorizer.get_feature_names())"
   ]
  },
  {
   "cell_type": "code",
   "execution_count": null,
   "metadata": {},
   "outputs": [],
   "source": []
  },
  {
   "cell_type": "markdown",
   "metadata": {
    "id": "_DTNRasaCV3-"
   },
   "source": [
    "## 4. WordCloud - Repetition of Words\n",
    "\n",
    "Now you'll create a Word Clouds for reviews, representing most common words in each target class.\n",
    "\n",
    "Word Cloud is a data visualization technique used for representing text data in which the size of each word indicates its frequency or importance. Significant textual data points can be highlighted using a word cloud.\n",
    "\n",
    "You are expected to create separate word clouds for positive and negative reviews. You can qualify a review as positive or negative, by looking at its recommended status. You may need to use capabilities of matplotlib for visualizations.\n",
    "\n",
    "You can follow the steps below:\n",
    "\n",
    "- Detect Reviews\n",
    "- Collect Words \n",
    "- Create Word Cloud \n"
   ]
  },
  {
   "cell_type": "code",
   "execution_count": null,
   "metadata": {},
   "outputs": [],
   "source": [
    "df2"
   ]
  },
  {
   "cell_type": "markdown",
   "metadata": {},
   "source": [
    "### Detect Reviews (positive and negative separately)"
   ]
  },
  {
   "cell_type": "code",
   "execution_count": null,
   "metadata": {},
   "outputs": [],
   "source": [
    "positive_sentences = df2[df2[\"label\"] == 1][\"text\"]\n",
    "positive_sentences"
   ]
  },
  {
   "cell_type": "code",
   "execution_count": null,
   "metadata": {},
   "outputs": [],
   "source": [
    "negative_sentences = df2[df2[\"label\"] == 0][\"text\"]\n",
    "negative_sentences"
   ]
  },
  {
   "cell_type": "markdown",
   "metadata": {},
   "source": [
    "### Collect Words (positive and negative separately)"
   ]
  },
  {
   "cell_type": "code",
   "execution_count": null,
   "metadata": {},
   "outputs": [],
   "source": [
    "positive_words = \" \".join(positive_sentences)\n",
    "positive_words[:1000]"
   ]
  },
  {
   "cell_type": "code",
   "execution_count": null,
   "metadata": {},
   "outputs": [],
   "source": [
    "negative_words = \" \".join(negative_sentences)\n",
    "negative_words[:1000]"
   ]
  },
  {
   "cell_type": "markdown",
   "metadata": {},
   "source": [
    "### Create Word Cloud (for most common words in recommended not recommended reviews separately)"
   ]
  },
  {
   "cell_type": "code",
   "execution_count": null,
   "metadata": {},
   "outputs": [],
   "source": [
    "from wordcloud import WordCloud"
   ]
  },
  {
   "cell_type": "code",
   "execution_count": null,
   "metadata": {},
   "outputs": [],
   "source": [
    "wordcloud_positive = WordCloud(background_color=\"white\", max_words =250)"
   ]
  },
  {
   "cell_type": "code",
   "execution_count": null,
   "metadata": {},
   "outputs": [],
   "source": [
    "wordcloud_positive.generate(positive_words)"
   ]
  },
  {
   "cell_type": "code",
   "execution_count": null,
   "metadata": {},
   "outputs": [],
   "source": [
    "import matplotlib.pyplot as plt\n",
    "plt.figure(figsize = (13,13))\n",
    "plt.imshow(wordcloud_positive, interpolation=\"bilinear\")\n",
    "plt.axis(\"off\")\n",
    "plt.show()"
   ]
  },
  {
   "cell_type": "code",
   "execution_count": null,
   "metadata": {},
   "outputs": [],
   "source": [
    "wordcloud_negative = WordCloud(background_color=\"white\", max_words=250, colormap='gist_heat')\n",
    "\n",
    "wordcloud_negative.generate(negative_words)\n",
    "\n",
    "plt.figure(figsize=(13,13))\n",
    "plt.imshow(wordcloud_negative, interpolation=\"bilinear\")\n",
    "plt.axis(\"off\")\n",
    "plt.show()"
   ]
  },
  {
   "cell_type": "markdown",
   "metadata": {
    "id": "-9_e1A26CV3_"
   },
   "source": [
    "## 5. Sentiment Classification with Machine Learning, Deep Learning and BERT model\n",
    "\n",
    "Before moving on to modeling, as data preprocessing steps you will need to perform **[vectorization](https://machinelearningmastery.com/prepare-text-data-machine-learning-scikit-learn/)** and **train-test split**. You have performed many times train test split process before.\n",
    "But you will perform the vectorization for the first time.\n",
    "\n",
    "Machine learning algorithms most often take numeric feature vectors as input. Thus, when working with text documents, you need a way to convert each document into a numeric vector. This process is known as text vectorization. Commonly used vectorization approach that you will use here is to represent each text as a vector of word counts.\n",
    "\n",
    "At this moment, you have your review text column as a token (which has no punctuations and stopwords). You can use Scikit-learn’s CountVectorizer to convert the text collection into a matrix of token counts. You can imagine this resulting matrix as a 2-D matrix, where each row is a unique word, and each column is a review.\n",
    "\n",
    "Train all models using TFIDF and Count vectorizer data.\n",
    "\n",
    "**For Deep learning model, use embedding layer for all words.** \n",
    "\n",
    "**For BERT model, use TF tensor**\n",
    "\n",
    "After performing data preprocessing, build your models using following classification algorithms:\n",
    "\n",
    "- Logistic Regression,\n",
    "- Naive Bayes,\n",
    "- Support Vector Machine,\n",
    "- Random Forest,\n",
    "- Ada Boosting\n",
    "- Deep Learning Model\n",
    "- BERT Model"
   ]
  },
  {
   "cell_type": "markdown",
   "metadata": {},
   "source": [
    "### Train - Test Split"
   ]
  },
  {
   "cell_type": "markdown",
   "metadata": {
    "id": "T2SMUUrxCV3_"
   },
   "source": [
    "To run machine learning algorithms we need to convert text files into numerical feature vectors. We will use bag of words model for our analysis.\n",
    "\n",
    "First we spliting the data into train and test sets:"
   ]
  },
  {
   "cell_type": "code",
   "execution_count": null,
   "metadata": {},
   "outputs": [],
   "source": [
    "from sklearn.model_selection import train_test_split"
   ]
  },
  {
   "cell_type": "code",
   "execution_count": null,
   "metadata": {},
   "outputs": [],
   "source": [
    "X = df2[\"text\"]\n",
    "y= df2[\"label\"]"
   ]
  },
  {
   "cell_type": "code",
   "execution_count": null,
   "metadata": {},
   "outputs": [],
   "source": [
    "y = y.map({0:1, 1:0})"
   ]
  },
  {
   "cell_type": "code",
   "execution_count": null,
   "metadata": {},
   "outputs": [],
   "source": [
    "X_train, X_test, y_train, y_test = train_test_split(X, y, test_size=0.2, stratify=y, random_state=101)"
   ]
  },
  {
   "cell_type": "markdown",
   "metadata": {
    "id": "adhWeL_iCV3_"
   },
   "source": [
    "In the next step we create a numerical feature vector for each document:"
   ]
  },
  {
   "cell_type": "markdown",
   "metadata": {},
   "source": [
    "### Count Vectorization"
   ]
  },
  {
   "cell_type": "code",
   "execution_count": null,
   "metadata": {},
   "outputs": [],
   "source": [
    "from sklearn.feature_extraction.text import CountVectorizer"
   ]
  },
  {
   "cell_type": "code",
   "execution_count": null,
   "metadata": {},
   "outputs": [],
   "source": [
    "vectorizer = CountVectorizer()\n",
    "X_train_count = vectorizer.fit_transform(X_train)\n",
    "X_test_count = vectorizer.transform(X_test)"
   ]
  },
  {
   "cell_type": "code",
   "execution_count": null,
   "metadata": {},
   "outputs": [],
   "source": [
    "X_train_count.toarray()"
   ]
  },
  {
   "cell_type": "code",
   "execution_count": null,
   "metadata": {},
   "outputs": [],
   "source": [
    "pd.DataFrame(X_train_count.toarray(), columns = vectorizer.get_feature_names())"
   ]
  },
  {
   "cell_type": "code",
   "execution_count": null,
   "metadata": {},
   "outputs": [],
   "source": []
  },
  {
   "cell_type": "code",
   "execution_count": null,
   "metadata": {},
   "outputs": [],
   "source": []
  },
  {
   "cell_type": "code",
   "execution_count": null,
   "metadata": {},
   "outputs": [],
   "source": []
  },
  {
   "cell_type": "markdown",
   "metadata": {},
   "source": [
    "### TF-IDF"
   ]
  },
  {
   "cell_type": "code",
   "execution_count": null,
   "metadata": {},
   "outputs": [],
   "source": [
    "from sklearn.feature_extraction.text import TfidfVectorizer"
   ]
  },
  {
   "cell_type": "code",
   "execution_count": null,
   "metadata": {},
   "outputs": [],
   "source": [
    "tf_idf_vectorizer = TfidfVectorizer()\n",
    "X_train_tf_idf = tf_idf_vectorizer.fit_transform(X_train)\n",
    "X_test_tf_idf = tf_idf_vectorizer.transform(X_test)"
   ]
  },
  {
   "cell_type": "code",
   "execution_count": null,
   "metadata": {},
   "outputs": [],
   "source": [
    "X_train_tf_idf.toarray()"
   ]
  },
  {
   "cell_type": "code",
   "execution_count": null,
   "metadata": {},
   "outputs": [],
   "source": [
    "pd.DataFrame(X_train_tf_idf.toarray(), columns = tf_idf_vectorizer.get_feature_names())"
   ]
  },
  {
   "cell_type": "code",
   "execution_count": null,
   "metadata": {},
   "outputs": [],
   "source": [
    "from sklearn.metrics import confusion_matrix,classification_report, f1_score, recall_score, accuracy_score, precision_score"
   ]
  },
  {
   "cell_type": "code",
   "execution_count": null,
   "metadata": {},
   "outputs": [],
   "source": [
    "def eval(model, X_train, X_test):\n",
    "    y_pred = model.predict(X_test)\n",
    "    y_pred_train = model.predict(X_train)\n",
    "    print(confusion_matrix(y_test, y_pred))\n",
    "    print(\"Test_Set\")\n",
    "    print(classification_report(y_test,y_pred))\n",
    "    print(\"Train_Set\")\n",
    "    print(classification_report(y_train,y_pred_train))"
   ]
  },
  {
   "cell_type": "markdown",
   "metadata": {
    "id": "xaVrkxRpCV3_"
   },
   "source": [
    "## Logistic Regression"
   ]
  },
  {
   "cell_type": "markdown",
   "metadata": {},
   "source": [
    "### CountVectorizer"
   ]
  },
  {
   "cell_type": "code",
   "execution_count": null,
   "metadata": {},
   "outputs": [],
   "source": [
    "from sklearn.linear_model import LogisticRegression\n",
    "log = LogisticRegression(C =0.6, max_iter=1000, class_weight= \"balanced\", random_state=101)\n",
    "log.fit(X_train_count,y_train)"
   ]
  },
  {
   "cell_type": "code",
   "execution_count": null,
   "metadata": {},
   "outputs": [],
   "source": [
    "print(\"LOG MODEL\")\n",
    "eval(log, X_train_count, X_test_count)"
   ]
  },
  {
   "cell_type": "code",
   "execution_count": null,
   "metadata": {},
   "outputs": [],
   "source": [
    "from sklearn.metrics import make_scorer\n",
    "from sklearn.model_selection import cross_val_score\n",
    "\n",
    "custom_scorer = {'accuracy': make_scorer(accuracy_score),\n",
    "                 'precision-0': make_scorer(precision_score, pos_label=0),\n",
    "                 'recall-0': make_scorer(recall_score, pos_label=0),\n",
    "                 'f1-0': make_scorer(f1_score, pos_label=0),\n",
    "                 'precision-1': make_scorer(precision_score, pos_label=1),\n",
    "                 'recall-1': make_scorer(recall_score, pos_label=1),\n",
    "                 'f1-1': make_scorer(f1_score, pos_label=1)\n",
    "                 }\n",
    "\n",
    "for i, j in custom_scorer.items():\n",
    "    model = LogisticRegression(C =0.6, max_iter=1000, class_weight= \"balanced\", random_state=101)\n",
    "    scores = cross_val_score(model, X_train_count, y_train, cv = 10, scoring = j).mean()\n",
    "    if i == \"recall-1\":\n",
    "        log_count_rec = scores\n",
    "    elif i == \"f1-1\":\n",
    "        log_count_f1 = scores\n",
    "    print(f\" {i:20} score for count : {scores}\\n\")"
   ]
  },
  {
   "cell_type": "code",
   "execution_count": null,
   "metadata": {},
   "outputs": [],
   "source": [
    "from yellowbrick.classifier import PrecisionRecallCurve\n",
    "viz = PrecisionRecallCurve(\n",
    "    LogisticRegression(C =0.6, max_iter=1000, class_weight= \"balanced\", random_state=101),\n",
    "    classes=log.classes_,\n",
    "    per_class=True,\n",
    "    cmap=\"Set1\"\n",
    ")\n",
    "viz.fit(X_train_count,y_train)\n",
    "viz.score(X_test_count, y_test)\n",
    "viz.show();"
   ]
  },
  {
   "cell_type": "code",
   "execution_count": null,
   "metadata": {},
   "outputs": [],
   "source": [
    "log_AP_count = viz.score_"
   ]
  },
  {
   "cell_type": "code",
   "execution_count": null,
   "metadata": {},
   "outputs": [],
   "source": []
  },
  {
   "cell_type": "markdown",
   "metadata": {},
   "source": [
    "### TF-IDF"
   ]
  },
  {
   "cell_type": "code",
   "execution_count": null,
   "metadata": {},
   "outputs": [],
   "source": [
    "log = LogisticRegression(C=0.1, max_iter=1000, random_state=101, class_weight=\"balanced\")\n",
    "log.fit(X_train_tf_idf,y_train)"
   ]
  },
  {
   "cell_type": "code",
   "execution_count": null,
   "metadata": {},
   "outputs": [],
   "source": [
    "print(\"LOG MODEL\")\n",
    "eval(log, X_train_tf_idf, X_test_tf_idf)"
   ]
  },
  {
   "cell_type": "code",
   "execution_count": null,
   "metadata": {},
   "outputs": [],
   "source": [
    "custom_scorer = {'accuracy': make_scorer(accuracy_score),\n",
    "                 'precision-0': make_scorer(precision_score, pos_label=0),\n",
    "                 'recall-0': make_scorer(recall_score, pos_label=0),\n",
    "                 'f1-0': make_scorer(f1_score, pos_label=0),\n",
    "                 'precision-1': make_scorer(precision_score, pos_label=1),\n",
    "                 'recall-1': make_scorer(recall_score, pos_label=1),\n",
    "                 'f1-1': make_scorer(f1_score, pos_label=1)\n",
    "                 }\n",
    "\n",
    "for i, j in custom_scorer.items():\n",
    "    LogisticRegression(C=0.1, max_iter=1000, random_state=101, class_weight=\"balanced\")\n",
    "    scores = cross_val_score(model, X_train_tf_idf, y_train, cv = 10, scoring = j).mean()\n",
    "    if i == \"recall-1\":\n",
    "        log_tfidf_rec = scores\n",
    "    elif i == \"f1-1\":\n",
    "        log_tfidf_f1 = scores\n",
    "    print(f\" {i:20} score for tfidf : {scores}\\n\")"
   ]
  },
  {
   "cell_type": "code",
   "execution_count": null,
   "metadata": {},
   "outputs": [],
   "source": [
    "viz = PrecisionRecallCurve(\n",
    "    LogisticRegression(C=0.1, max_iter=1000, random_state=101, class_weight=\"balanced\"),\n",
    "    classes=log.classes_,\n",
    "    per_class=True,\n",
    "    cmap=\"Set1\"\n",
    ")\n",
    "viz.fit(X_train_tf_idf,y_train)\n",
    "viz.score(X_test_tf_idf, y_test)\n",
    "viz.show();"
   ]
  },
  {
   "cell_type": "code",
   "execution_count": null,
   "metadata": {},
   "outputs": [],
   "source": [
    "log_AP_tfidf = viz.score_"
   ]
  },
  {
   "cell_type": "code",
   "execution_count": null,
   "metadata": {},
   "outputs": [],
   "source": []
  },
  {
   "cell_type": "markdown",
   "metadata": {
    "id": "QACRU9G3CV4A"
   },
   "source": [
    "## Naive Bayes \n",
    "\n",
    "### Countvectorizer"
   ]
  },
  {
   "cell_type": "code",
   "execution_count": null,
   "metadata": {},
   "outputs": [],
   "source": [
    "from sklearn.naive_bayes import MultinomialNB, BernoulliNB\n",
    "nb = MultinomialNB()\n",
    "nb.fit(X_train_count,y_train)"
   ]
  },
  {
   "cell_type": "code",
   "execution_count": null,
   "metadata": {},
   "outputs": [],
   "source": [
    "print(\"NB MODEL\")\n",
    "eval(nb, X_train_count, X_test_count)"
   ]
  },
  {
   "cell_type": "code",
   "execution_count": null,
   "metadata": {},
   "outputs": [],
   "source": [
    "custom_scorer = {'accuracy': make_scorer(accuracy_score),\n",
    "                 'precision-0': make_scorer(precision_score, pos_label=0),\n",
    "                 'recall-0': make_scorer(recall_score, pos_label=0),\n",
    "                 'f1-0': make_scorer(f1_score, pos_label=0),\n",
    "                 'precision-1': make_scorer(precision_score, pos_label=1),\n",
    "                 'recall-1': make_scorer(recall_score, pos_label=1),\n",
    "                 'f1-1': make_scorer(f1_score, pos_label=1)\n",
    "                 }\n",
    "\n",
    "for i, j in custom_scorer.items():\n",
    "    model = MultinomialNB()\n",
    "    scores = cross_val_score(model, X_train_count, y_train, cv = 10, scoring = j).mean()\n",
    "    if i == \"recall-1\":\n",
    "        nb_count_rec = scores\n",
    "    elif i == \"f1-1\":\n",
    "        nb_count_f1 = scores\n",
    "    print(f\" {i:20} score for count : {scores}\\n\")"
   ]
  },
  {
   "cell_type": "code",
   "execution_count": null,
   "metadata": {},
   "outputs": [],
   "source": [
    "viz = PrecisionRecallCurve(\n",
    "    MultinomialNB(),\n",
    "    classes=nb.classes_,\n",
    "    per_class=True,\n",
    "    cmap=\"Set1\"\n",
    ")\n",
    "viz.fit(X_train_count,y_train)\n",
    "viz.score(X_test_count, y_test)\n",
    "viz.show();"
   ]
  },
  {
   "cell_type": "code",
   "execution_count": null,
   "metadata": {},
   "outputs": [],
   "source": [
    "nb_AP_count = viz.score_"
   ]
  },
  {
   "cell_type": "code",
   "execution_count": null,
   "metadata": {},
   "outputs": [],
   "source": []
  },
  {
   "cell_type": "code",
   "execution_count": null,
   "metadata": {},
   "outputs": [],
   "source": []
  },
  {
   "cell_type": "code",
   "execution_count": null,
   "metadata": {},
   "outputs": [],
   "source": []
  },
  {
   "cell_type": "markdown",
   "metadata": {},
   "source": [
    "### TF-IDF"
   ]
  },
  {
   "cell_type": "code",
   "execution_count": null,
   "metadata": {},
   "outputs": [],
   "source": [
    "nb = BernoulliNB()\n",
    "nb.fit(X_train_tf_idf,y_train)"
   ]
  },
  {
   "cell_type": "code",
   "execution_count": null,
   "metadata": {},
   "outputs": [],
   "source": [
    "print(\"NB MODEL\")\n",
    "eval(nb, X_train_tf_idf, X_test_tf_idf)"
   ]
  },
  {
   "cell_type": "code",
   "execution_count": null,
   "metadata": {},
   "outputs": [],
   "source": [
    "custom_scorer = {'accuracy': make_scorer(accuracy_score),\n",
    "                 'precision-0': make_scorer(precision_score, pos_label=0),\n",
    "                 'recall-0': make_scorer(recall_score, pos_label=0),\n",
    "                 'f1-0': make_scorer(f1_score, pos_label=0),\n",
    "                 'precision-1': make_scorer(precision_score, pos_label=1),\n",
    "                 'recall-1': make_scorer(recall_score, pos_label=1),\n",
    "                 'f1-1': make_scorer(f1_score, pos_label=1)\n",
    "                 }\n",
    "\n",
    "for i, j in custom_scorer.items():\n",
    "    model = BernoulliNB()\n",
    "    scores = cross_val_score(model, X_train_tf_idf, y_train, cv = 10, scoring = j).mean()\n",
    "    if i == \"recall-1\":\n",
    "        nb_tfidf_rec = scores\n",
    "    elif i == \"f1-1\":\n",
    "        nb_tfidf_f1 = scores\n",
    "    print(f\" {i:20} score for tfidf : {scores}\\n\")"
   ]
  },
  {
   "cell_type": "code",
   "execution_count": null,
   "metadata": {},
   "outputs": [],
   "source": [
    "viz = PrecisionRecallCurve(\n",
    "    BernoulliNB(),\n",
    "    classes=nb.classes_,\n",
    "    per_class=True,\n",
    "    cmap=\"Set1\"\n",
    ")\n",
    "viz.fit(X_train_tf_idf,y_train)\n",
    "viz.score(X_test_tf_idf, y_test)\n",
    "viz.show();"
   ]
  },
  {
   "cell_type": "code",
   "execution_count": null,
   "metadata": {},
   "outputs": [],
   "source": [
    "nb_AP_tfidf = viz.score_"
   ]
  },
  {
   "cell_type": "markdown",
   "metadata": {
    "id": "OSkbnJJiCV4A"
   },
   "source": [
    "## Support Vector Machine (SVM)\n",
    "\n",
    "### Countvectorizer"
   ]
  },
  {
   "cell_type": "code",
   "execution_count": null,
   "metadata": {},
   "outputs": [],
   "source": [
    "from sklearn.svm import LinearSVC\n",
    "svc = LinearSVC(C=0.01, class_weight=\"balanced\", random_state=101)\n",
    "svc.fit(X_train_count,y_train)"
   ]
  },
  {
   "cell_type": "code",
   "execution_count": null,
   "metadata": {},
   "outputs": [],
   "source": [
    "print(\"SVC MODEL\")\n",
    "eval(svc, X_train_count, X_test_count)"
   ]
  },
  {
   "cell_type": "code",
   "execution_count": null,
   "metadata": {},
   "outputs": [],
   "source": [
    "custom_scorer = {'accuracy': make_scorer(accuracy_score),\n",
    "                 'precision-0': make_scorer(precision_score, pos_label=0),\n",
    "                 'recall-0': make_scorer(recall_score, pos_label=0),\n",
    "                 'f1-0': make_scorer(f1_score, pos_label=0),\n",
    "                 'precision-1': make_scorer(precision_score, pos_label=1),\n",
    "                 'recall-1': make_scorer(recall_score, pos_label=1),\n",
    "                 'f1-1': make_scorer(f1_score, pos_label=1)\n",
    "                 }\n",
    "\n",
    "for i, j in custom_scorer.items():\n",
    "    model = LinearSVC(C=0.01, class_weight=\"balanced\", random_state=101)\n",
    "    scores = cross_val_score(model, X_train_count, y_train, cv = 10, scoring = j).mean()\n",
    "    if i == \"recall-1\":\n",
    "        svc_count_rec = scores\n",
    "    elif i == \"f1-1\":\n",
    "        svc_count_f1 = scores\n",
    "    print(f\" {i:20} score for count : {scores}\\n\")"
   ]
  },
  {
   "cell_type": "code",
   "execution_count": null,
   "metadata": {},
   "outputs": [],
   "source": [
    "viz = PrecisionRecallCurve(\n",
    "    LinearSVC(C=0.01, class_weight=\"balanced\", random_state=101),\n",
    "    classes=svc.classes_,\n",
    "    per_class=True,\n",
    "    cmap=\"Set1\"\n",
    ")\n",
    "viz.fit(X_train_count,y_train)\n",
    "viz.score(X_test_count, y_test)\n",
    "viz.show();"
   ]
  },
  {
   "cell_type": "code",
   "execution_count": null,
   "metadata": {},
   "outputs": [],
   "source": [
    "svc_AP_count = viz.score_"
   ]
  },
  {
   "cell_type": "markdown",
   "metadata": {},
   "source": [
    "### TD-IDF"
   ]
  },
  {
   "cell_type": "code",
   "execution_count": null,
   "metadata": {},
   "outputs": [],
   "source": [
    "svc = LinearSVC(C=0.01, class_weight=\"balanced\", random_state=101)\n",
    "svc.fit(X_train_tf_idf,y_train)"
   ]
  },
  {
   "cell_type": "code",
   "execution_count": null,
   "metadata": {},
   "outputs": [],
   "source": [
    "print(\"SVC MODEL\")\n",
    "eval(svc, X_train_tf_idf, X_test_tf_idf)"
   ]
  },
  {
   "cell_type": "code",
   "execution_count": null,
   "metadata": {},
   "outputs": [],
   "source": [
    "custom_scorer = {'accuracy': make_scorer(accuracy_score),\n",
    "                 'precision-0': make_scorer(precision_score, pos_label=0),\n",
    "                 'recall-0': make_scorer(recall_score, pos_label=0),\n",
    "                 'f1-0': make_scorer(f1_score, pos_label=0),\n",
    "                 'precision-1': make_scorer(precision_score, pos_label=1),\n",
    "                 'recall-1': make_scorer(recall_score, pos_label=1),\n",
    "                 'f1-1': make_scorer(f1_score, pos_label=1)\n",
    "                 }\n",
    "\n",
    "for i, j in custom_scorer.items():\n",
    "    model = LinearSVC(C=0.01, class_weight=\"balanced\", random_state=101)\n",
    "    scores = cross_val_score(model, X_train_tf_idf, y_train, cv = 10, scoring = j).mean()\n",
    "    if i == \"recall-1\":\n",
    "        svc_tfidf_rec = scores\n",
    "    elif i == \"f1-1\":\n",
    "        svc_tfidf_f1 = scores\n",
    "    print(f\" {i:20} score for tfidf : {scores}\\n\")"
   ]
  },
  {
   "cell_type": "code",
   "execution_count": null,
   "metadata": {},
   "outputs": [],
   "source": [
    "viz = PrecisionRecallCurve(\n",
    "    LinearSVC(C=0.01, class_weight=\"balanced\", random_state=101),\n",
    "    classes=svc.classes_,\n",
    "    per_class=True,\n",
    "    cmap=\"Set1\"\n",
    ")\n",
    "viz.fit(X_train_tf_idf,y_train)\n",
    "viz.score(X_test_tf_idf, y_test)\n",
    "viz.show();"
   ]
  },
  {
   "cell_type": "code",
   "execution_count": null,
   "metadata": {},
   "outputs": [],
   "source": [
    "svc_AP_tfidf = viz.score_"
   ]
  },
  {
   "cell_type": "code",
   "execution_count": null,
   "metadata": {},
   "outputs": [],
   "source": []
  },
  {
   "cell_type": "markdown",
   "metadata": {
    "id": "qTECEchfCV4A"
   },
   "source": [
    "## Random Forest\n",
    "\n",
    "### Countvectorizer"
   ]
  },
  {
   "cell_type": "code",
   "execution_count": null,
   "metadata": {},
   "outputs": [],
   "source": [
    "from sklearn.ensemble import RandomForestClassifier\n",
    "rf = RandomForestClassifier(200, max_depth = 12, random_state = 42, n_jobs = -1, class_weight=\"balanced\")\n",
    "rf.fit(X_train_count, y_train)"
   ]
  },
  {
   "cell_type": "code",
   "execution_count": null,
   "metadata": {},
   "outputs": [],
   "source": [
    "print(\"RF MODEL\")\n",
    "eval(rf, X_train_count, X_test_count)"
   ]
  },
  {
   "cell_type": "code",
   "execution_count": null,
   "metadata": {},
   "outputs": [],
   "source": [
    "custom_scorer = {'accuracy': make_scorer(accuracy_score),\n",
    "                 'precision-0': make_scorer(precision_score, pos_label=0),\n",
    "                 'recall-0': make_scorer(recall_score, pos_label=0),\n",
    "                 'f1-0': make_scorer(f1_score, pos_label=0),\n",
    "                 'precision-1': make_scorer(precision_score, pos_label=1),\n",
    "                 'recall-1': make_scorer(recall_score, pos_label=1),\n",
    "                 'f1-1': make_scorer(f1_score, pos_label=1)\n",
    "                 }\n",
    "\n",
    "for i, j in custom_scorer.items():\n",
    "    model = RandomForestClassifier(200, max_depth = 12, random_state = 42, n_jobs = -1, class_weight=\"balanced\")\n",
    "    scores = cross_val_score(model, X_train_count, y_train, cv = 10, scoring = j).mean()\n",
    "    if i == \"recall-1\":\n",
    "        rf_count_rec = scores\n",
    "    elif i == \"f1-1\":\n",
    "        rf_count_f1 = scores\n",
    "    print(f\" {i:20} score for count : {scores}\\n\")"
   ]
  },
  {
   "cell_type": "code",
   "execution_count": null,
   "metadata": {},
   "outputs": [],
   "source": [
    "viz = PrecisionRecallCurve(\n",
    "    RandomForestClassifier(200, max_depth = 12, random_state = 42, n_jobs = -1, class_weight=\"balanced\"),\n",
    "    classes=rf.classes_,\n",
    "    per_class=True,\n",
    "    cmap=\"Set1\"\n",
    ")\n",
    "viz.fit(X_train_count,y_train)\n",
    "viz.score(X_test_count, y_test)\n",
    "viz.show();"
   ]
  },
  {
   "cell_type": "code",
   "execution_count": null,
   "metadata": {},
   "outputs": [],
   "source": [
    "rf_AP_count = viz.score_"
   ]
  },
  {
   "cell_type": "markdown",
   "metadata": {},
   "source": [
    "### TF-IDF"
   ]
  },
  {
   "cell_type": "code",
   "execution_count": null,
   "metadata": {},
   "outputs": [],
   "source": [
    "rf = RandomForestClassifier(200, max_depth = 10, random_state = 42, n_jobs = -1, class_weight=\"balanced\")\n",
    "rf.fit(X_train_tf_idf, y_train)"
   ]
  },
  {
   "cell_type": "code",
   "execution_count": null,
   "metadata": {},
   "outputs": [],
   "source": [
    "print(\"RF MODEL\")\n",
    "eval(rf, X_train_tf_idf, X_test_tf_idf)"
   ]
  },
  {
   "cell_type": "code",
   "execution_count": null,
   "metadata": {},
   "outputs": [],
   "source": [
    "custom_scorer = {'accuracy': make_scorer(accuracy_score),\n",
    "                 'precision-0': make_scorer(precision_score, pos_label=0),\n",
    "                 'recall-0': make_scorer(recall_score, pos_label=0),\n",
    "                 'f1-0': make_scorer(f1_score, pos_label=0),\n",
    "                 'precision-1': make_scorer(precision_score, pos_label=1),\n",
    "                 'recall-1': make_scorer(recall_score, pos_label=1),\n",
    "                 'f1-1': make_scorer(f1_score, pos_label=1)\n",
    "                 }\n",
    "\n",
    "for i, j in custom_scorer.items():\n",
    "    model = RandomForestClassifier(200, max_depth = 10, random_state = 42, n_jobs = -1, class_weight=\"balanced\")\n",
    "    scores = cross_val_score(model, X_train_tf_idf, y_train, cv = 10, scoring = j).mean()\n",
    "    if i == \"recall-1\":\n",
    "        rf_tfidf_rec = scores\n",
    "    elif i == \"f1-1\":\n",
    "        rf_tfidf_f1 = scores\n",
    "    print(f\" {i:20} score for tfidf : {scores}\\n\")"
   ]
  },
  {
   "cell_type": "code",
   "execution_count": null,
   "metadata": {},
   "outputs": [],
   "source": [
    "viz = PrecisionRecallCurve(\n",
    "    RandomForestClassifier(200, max_depth = 10, random_state = 42, n_jobs = -1, class_weight=\"balanced\"),\n",
    "    classes=rf.classes_,\n",
    "    per_class=True,\n",
    "    cmap=\"Set1\"\n",
    ")\n",
    "viz.fit(X_train_tf_idf,y_train)\n",
    "viz.score(X_test_tf_idf, y_test)\n",
    "viz.show();"
   ]
  },
  {
   "cell_type": "code",
   "execution_count": null,
   "metadata": {},
   "outputs": [],
   "source": [
    "rf_AP_tfidf = viz.score_"
   ]
  },
  {
   "cell_type": "code",
   "execution_count": null,
   "metadata": {},
   "outputs": [],
   "source": []
  },
  {
   "cell_type": "markdown",
   "metadata": {},
   "source": [
    "## Ada Boosting\n",
    "\n",
    "### Countvectorizer"
   ]
  },
  {
   "cell_type": "code",
   "execution_count": null,
   "metadata": {},
   "outputs": [],
   "source": [
    "# from sklearn.ensemble import AdaBoostClassifier\n",
    "# ada = AdaBoostClassifier(n_estimators= 500, random_state = 42)\n",
    "# ada.fit(X_train_count, y_train)"
   ]
  },
  {
   "cell_type": "code",
   "execution_count": null,
   "metadata": {},
   "outputs": [],
   "source": [
    "# print(\"Ada MODEL\")\n",
    "# eval(ada, X_train_count, X_test_count)"
   ]
  },
  {
   "cell_type": "code",
   "execution_count": null,
   "metadata": {},
   "outputs": [],
   "source": [
    "# custom_scorer = {'accuracy': make_scorer(accuracy_score),\n",
    "#                  'precision-0': make_scorer(precision_score, pos_label=0),\n",
    "#                  'recall-0': make_scorer(recall_score, pos_label=0),\n",
    "#                  'f1-0': make_scorer(f1_score, pos_label=0),\n",
    "#                  'precision-1': make_scorer(precision_score, pos_label=1),\n",
    "#                  'recall-1': make_scorer(recall_score, pos_label=1),\n",
    "#                  'f1-1': make_scorer(f1_score, pos_label=1)\n",
    "#                  }\n",
    "\n",
    "# for i, j in custom_scorer.items():\n",
    "#     model =AdaBoostClassifier(n_estimators= 500, random_state = 42)\n",
    "#     scores = cross_val_score(model, X_train_count, y_train, cv = 10, scoring = j).mean()\n",
    "#     if i == \"recall-1\":\n",
    "#         ada_count_rec = scores\n",
    "#     elif i == \"f1-1\":\n",
    "#         ada_count_f1 = scores\n",
    "#     print(f\" {i:20} score for count : {scores}\\n\")"
   ]
  },
  {
   "cell_type": "code",
   "execution_count": null,
   "metadata": {},
   "outputs": [],
   "source": [
    "# viz = PrecisionRecallCurve(\n",
    "#     AdaBoostClassifier(n_estimators= 500, random_state = 42),\n",
    "#     classes=ada.classes_,\n",
    "#     per_class=True,\n",
    "#     cmap=\"Set1\"\n",
    "# )\n",
    "# viz.fit(X_train_count,y_train)\n",
    "# viz.score(X_test_count, y_test)\n",
    "# viz.show();"
   ]
  },
  {
   "cell_type": "code",
   "execution_count": null,
   "metadata": {},
   "outputs": [],
   "source": [
    "# ada_AP_count = viz.score_"
   ]
  },
  {
   "cell_type": "code",
   "execution_count": null,
   "metadata": {},
   "outputs": [],
   "source": []
  },
  {
   "cell_type": "code",
   "execution_count": null,
   "metadata": {},
   "outputs": [],
   "source": []
  },
  {
   "cell_type": "markdown",
   "metadata": {},
   "source": [
    "### TF-IDF"
   ]
  },
  {
   "cell_type": "code",
   "execution_count": null,
   "metadata": {},
   "outputs": [],
   "source": [
    "# ada = AdaBoostClassifier(n_estimators= 500, random_state = 42)\n",
    "# ada.fit(X_train_tf_idf, y_train)"
   ]
  },
  {
   "cell_type": "code",
   "execution_count": null,
   "metadata": {},
   "outputs": [],
   "source": [
    "# print(\"Ada MODEL\")\n",
    "# eval(ada, X_train_tf_idf, X_test_tf_idf)"
   ]
  },
  {
   "cell_type": "code",
   "execution_count": null,
   "metadata": {},
   "outputs": [],
   "source": [
    "# custom_scorer = {'accuracy': make_scorer(accuracy_score),\n",
    "#                  'precision-0': make_scorer(precision_score, pos_label=0),\n",
    "#                  'recall-0': make_scorer(recall_score, pos_label=0),\n",
    "#                  'f1-0': make_scorer(f1_score, pos_label=0),\n",
    "#                  'precision-1': make_scorer(precision_score, pos_label=1),\n",
    "#                  'recall-1': make_scorer(recall_score, pos_label=1),\n",
    "#                  'f1-1': make_scorer(f1_score, pos_label=1)\n",
    "#                  }\n",
    "\n",
    "# for i, j in custom_scorer.items():\n",
    "#     model =AdaBoostClassifier(n_estimators= 500, random_state = 42)\n",
    "#     scores = cross_val_score(model, X_train_tf_idf, y_train, cv = 10, scoring = j).mean()\n",
    "#     if i == \"recall-1\":\n",
    "#         ada_tfidf_rec = scores\n",
    "#     elif i == \"f1-1\":\n",
    "#         ada_tfidf_f1 = scores\n",
    "#     print(f\" {i:20} score for tfidf : {scores}\\n\")"
   ]
  },
  {
   "cell_type": "code",
   "execution_count": null,
   "metadata": {},
   "outputs": [],
   "source": [
    "# viz = PrecisionRecallCurve(\n",
    "#     AdaBoostClassifier(n_estimators= 500, random_state = 42),\n",
    "#     classes=ada.classes_,\n",
    "#     per_class=True,\n",
    "#     cmap=\"Set1\"\n",
    "# )\n",
    "# viz.fit(X_train_tf_idf,y_train)\n",
    "# viz.score(X_test_tf_idf, y_test)\n",
    "# viz.show();"
   ]
  },
  {
   "cell_type": "code",
   "execution_count": 109,
   "metadata": {},
   "outputs": [],
   "source": [
    "# ada_AP_tfidf = viz.score_"
   ]
  },
  {
   "cell_type": "code",
   "execution_count": null,
   "metadata": {},
   "outputs": [],
   "source": []
  },
  {
   "cell_type": "markdown",
   "metadata": {},
   "source": [
    "## DL modeling"
   ]
  },
  {
   "cell_type": "code",
   "execution_count": 110,
   "metadata": {},
   "outputs": [],
   "source": [
    "from tensorflow.keras.models import Sequential\n",
    "from tensorflow.keras.layers import Dense, GRU, Embedding, Dropout\n",
    "from tensorflow.keras.optimizers import Adam\n",
    "from tensorflow.keras.preprocessing.text import Tokenizer\n",
    "from tensorflow.keras.preprocessing.sequence import pad_sequences"
   ]
  },
  {
   "cell_type": "code",
   "execution_count": 119,
   "metadata": {},
   "outputs": [
    {
     "data": {
      "text/html": [
       "<div>\n",
       "<style scoped>\n",
       "    .dataframe tbody tr th:only-of-type {\n",
       "        vertical-align: middle;\n",
       "    }\n",
       "\n",
       "    .dataframe tbody tr th {\n",
       "        vertical-align: top;\n",
       "    }\n",
       "\n",
       "    .dataframe thead th {\n",
       "        text-align: right;\n",
       "    }\n",
       "</style>\n",
       "<table border=\"1\" class=\"dataframe\">\n",
       "  <thead>\n",
       "    <tr style=\"text-align: right;\">\n",
       "      <th></th>\n",
       "      <th>label</th>\n",
       "      <th>text</th>\n",
       "    </tr>\n",
       "  </thead>\n",
       "  <tbody>\n",
       "    <tr>\n",
       "      <th>0</th>\n",
       "      <td>1</td>\n",
       "      <td>Absolutely wonderful - silky and sexy and comf...</td>\n",
       "    </tr>\n",
       "    <tr>\n",
       "      <th>1</th>\n",
       "      <td>1</td>\n",
       "      <td>Love this dress!  it's sooo pretty.  i happene...</td>\n",
       "    </tr>\n",
       "    <tr>\n",
       "      <th>2</th>\n",
       "      <td>0</td>\n",
       "      <td>I had such high hopes for this dress and reall...</td>\n",
       "    </tr>\n",
       "    <tr>\n",
       "      <th>3</th>\n",
       "      <td>1</td>\n",
       "      <td>I love, love, love this jumpsuit. it's fun, fl...</td>\n",
       "    </tr>\n",
       "    <tr>\n",
       "      <th>4</th>\n",
       "      <td>1</td>\n",
       "      <td>This shirt is very flattering to all due to th...</td>\n",
       "    </tr>\n",
       "    <tr>\n",
       "      <th>...</th>\n",
       "      <td>...</td>\n",
       "      <td>...</td>\n",
       "    </tr>\n",
       "    <tr>\n",
       "      <th>23481</th>\n",
       "      <td>1</td>\n",
       "      <td>I was very happy to snag this dress at such a ...</td>\n",
       "    </tr>\n",
       "    <tr>\n",
       "      <th>23482</th>\n",
       "      <td>1</td>\n",
       "      <td>It reminds me of maternity clothes. soft, stre...</td>\n",
       "    </tr>\n",
       "    <tr>\n",
       "      <th>23483</th>\n",
       "      <td>0</td>\n",
       "      <td>This fit well, but the top was very see throug...</td>\n",
       "    </tr>\n",
       "    <tr>\n",
       "      <th>23484</th>\n",
       "      <td>1</td>\n",
       "      <td>I bought this dress for a wedding i have this ...</td>\n",
       "    </tr>\n",
       "    <tr>\n",
       "      <th>23485</th>\n",
       "      <td>1</td>\n",
       "      <td>This dress in a lovely platinum is feminine an...</td>\n",
       "    </tr>\n",
       "  </tbody>\n",
       "</table>\n",
       "<p>22641 rows × 2 columns</p>\n",
       "</div>"
      ],
      "text/plain": [
       "       label                                               text\n",
       "0          1  Absolutely wonderful - silky and sexy and comf...\n",
       "1          1  Love this dress!  it's sooo pretty.  i happene...\n",
       "2          0  I had such high hopes for this dress and reall...\n",
       "3          1  I love, love, love this jumpsuit. it's fun, fl...\n",
       "4          1  This shirt is very flattering to all due to th...\n",
       "...      ...                                                ...\n",
       "23481      1  I was very happy to snag this dress at such a ...\n",
       "23482      1  It reminds me of maternity clothes. soft, stre...\n",
       "23483      0  This fit well, but the top was very see throug...\n",
       "23484      1  I bought this dress for a wedding i have this ...\n",
       "23485      1  This dress in a lovely platinum is feminine an...\n",
       "\n",
       "[22641 rows x 2 columns]"
      ]
     },
     "execution_count": 119,
     "metadata": {},
     "output_type": "execute_result"
    }
   ],
   "source": [
    "df2"
   ]
  },
  {
   "cell_type": "markdown",
   "metadata": {},
   "source": [
    "### Tokenization"
   ]
  },
  {
   "cell_type": "code",
   "execution_count": 122,
   "metadata": {},
   "outputs": [],
   "source": [
    "X = df2['text'].values\n",
    "y = df2['label'].map({0:1, 1:0}).values"
   ]
  },
  {
   "cell_type": "code",
   "execution_count": 123,
   "metadata": {},
   "outputs": [],
   "source": [
    "num_words = 15000 # corpusta geçen en fazla kullanılan ilk 15.000 kelimeyi(tokeni) alacağız gerisini yok sayacağız. \n",
    "# None değeri atanırsa tüm kelimeler dikkate alınır.\n",
    "tokenizer = Tokenizer(num_words=num_words) #filters='!\"#$%&()*+,-./:;<=>?@[\\\\]^_`{|}~\\t\\n1234567890' "
   ]
  },
  {
   "cell_type": "code",
   "execution_count": 126,
   "metadata": {},
   "outputs": [],
   "source": [
    "tokenizer.fit_on_texts(X)"
   ]
  },
  {
   "cell_type": "markdown",
   "metadata": {},
   "source": [
    "### Creating word index"
   ]
  },
  {
   "cell_type": "code",
   "execution_count": 127,
   "metadata": {},
   "outputs": [
    {
     "data": {
      "text/plain": [
       "{'the': 1,\n",
       " 'i': 2,\n",
       " 'and': 3,\n",
       " 'a': 4,\n",
       " 'it': 5,\n",
       " 'is': 6,\n",
       " 'this': 7,\n",
       " 'to': 8,\n",
       " 'in': 9,\n",
       " 'but': 10,\n",
       " 'on': 11,\n",
       " 'for': 12,\n",
       " 'of': 13,\n",
       " 'with': 14,\n",
       " 'was': 15,\n",
       " 'so': 16,\n",
       " 'my': 17,\n",
       " 'dress': 18,\n",
       " 'not': 19,\n",
       " 'that': 20,\n",
       " 'love': 21,\n",
       " 'size': 22,\n",
       " 'very': 23,\n",
       " 'have': 24,\n",
       " 'top': 25,\n",
       " 'fit': 26,\n",
       " 'are': 27,\n",
       " 'like': 28,\n",
       " 'be': 29,\n",
       " 'as': 30,\n",
       " 'me': 31,\n",
       " 'wear': 32,\n",
       " \"it's\": 33,\n",
       " 'great': 34,\n",
       " 'too': 35,\n",
       " \"i'm\": 36,\n",
       " 'or': 37,\n",
       " 'am': 38,\n",
       " 'just': 39,\n",
       " 'you': 40,\n",
       " 'would': 41,\n",
       " 'they': 42,\n",
       " 'up': 43,\n",
       " 'at': 44,\n",
       " 'fabric': 45,\n",
       " 'small': 46,\n",
       " 'color': 47,\n",
       " 'look': 48,\n",
       " 'if': 49,\n",
       " 'more': 50,\n",
       " 'really': 51,\n",
       " 'ordered': 52,\n",
       " 'little': 53,\n",
       " 'perfect': 54,\n",
       " 'will': 55,\n",
       " 'one': 56,\n",
       " 'these': 57,\n",
       " 'flattering': 58,\n",
       " 'well': 59,\n",
       " 'an': 60,\n",
       " 'soft': 61,\n",
       " 'out': 62,\n",
       " 'back': 63,\n",
       " 'because': 64,\n",
       " 'had': 65,\n",
       " 'can': 66,\n",
       " '\\r': 67,\n",
       " 'comfortable': 68,\n",
       " 'cute': 69,\n",
       " 'nice': 70,\n",
       " 'than': 71,\n",
       " 'bought': 72,\n",
       " 'beautiful': 73,\n",
       " 'when': 74,\n",
       " 'all': 75,\n",
       " 'looks': 76,\n",
       " 'bit': 77,\n",
       " 'fits': 78,\n",
       " 'large': 79,\n",
       " 'shirt': 80,\n",
       " 'down': 81,\n",
       " 'which': 82,\n",
       " 'material': 83,\n",
       " 'much': 84,\n",
       " 'them': 85,\n",
       " 'length': 86,\n",
       " 'also': 87,\n",
       " 'sweater': 88,\n",
       " 'has': 89,\n",
       " 'long': 90,\n",
       " 'got': 91,\n",
       " 'jeans': 92,\n",
       " 'colors': 93,\n",
       " 'waist': 94,\n",
       " 'petite': 95,\n",
       " 'quality': 96,\n",
       " 'medium': 97,\n",
       " 'xs': 98,\n",
       " 'pretty': 99,\n",
       " 'think': 100,\n",
       " 'even': 101,\n",
       " 'work': 102,\n",
       " 'retailer': 103,\n",
       " 'tried': 104,\n",
       " 'from': 105,\n",
       " 'store': 106,\n",
       " 'usually': 107,\n",
       " 'other': 108,\n",
       " 'skirt': 109,\n",
       " 'about': 110,\n",
       " 'good': 111,\n",
       " 'made': 112,\n",
       " 'pants': 113,\n",
       " 'short': 114,\n",
       " 'get': 115,\n",
       " 'way': 116,\n",
       " 'only': 117,\n",
       " 'could': 118,\n",
       " 'big': 119,\n",
       " 'cut': 120,\n",
       " 'see': 121,\n",
       " \"don't\": 122,\n",
       " 'black': 123,\n",
       " \"didn't\": 124,\n",
       " 'still': 125,\n",
       " 'were': 126,\n",
       " 'right': 127,\n",
       " 'super': 128,\n",
       " 'there': 129,\n",
       " 'true': 130,\n",
       " 'did': 131,\n",
       " 'runs': 132,\n",
       " 'style': 133,\n",
       " 'do': 134,\n",
       " 'sleeves': 135,\n",
       " 'online': 136,\n",
       " 'no': 137,\n",
       " 'summer': 138,\n",
       " 'purchased': 139,\n",
       " 'white': 140,\n",
       " 'wearing': 141,\n",
       " 'design': 142,\n",
       " 'however': 143,\n",
       " 'does': 144,\n",
       " 'feel': 145,\n",
       " 'off': 146,\n",
       " 'go': 147,\n",
       " 'tight': 148,\n",
       " 'enough': 149,\n",
       " 'perfectly': 150,\n",
       " 'over': 151,\n",
       " 'some': 152,\n",
       " 'model': 153,\n",
       " '4': 154,\n",
       " 'definitely': 155,\n",
       " 'front': 156,\n",
       " 'looked': 157,\n",
       " 'sale': 158,\n",
       " 'though': 159,\n",
       " '2': 160,\n",
       " 'blue': 161,\n",
       " 'price': 162,\n",
       " 'person': 163,\n",
       " 'lbs': 164,\n",
       " 'loved': 165,\n",
       " 'been': 166,\n",
       " 'how': 167,\n",
       " 'what': 168,\n",
       " 'better': 169,\n",
       " 'jacket': 170,\n",
       " 'first': 171,\n",
       " 'fall': 172,\n",
       " 'your': 173,\n",
       " 'body': 174,\n",
       " 'bottom': 175,\n",
       " 'going': 176,\n",
       " 'loose': 177,\n",
       " 'high': 178,\n",
       " 'try': 179,\n",
       " '6': 180,\n",
       " 'worn': 181,\n",
       " 'around': 182,\n",
       " 'time': 183,\n",
       " 'regular': 184,\n",
       " 'looking': 185,\n",
       " 'shape': 186,\n",
       " 'light': 187,\n",
       " 'many': 188,\n",
       " 'both': 189,\n",
       " 'chest': 190,\n",
       " 'thought': 191,\n",
       " 'make': 192,\n",
       " 'lovely': 193,\n",
       " 'arms': 194,\n",
       " 'wanted': 195,\n",
       " 'saw': 196,\n",
       " 'gorgeous': 197,\n",
       " 'piece': 198,\n",
       " 's': 199,\n",
       " 'shoulders': 200,\n",
       " 'casual': 201,\n",
       " 'thin': 202,\n",
       " 'through': 203,\n",
       " 'makes': 204,\n",
       " 'recommend': 205,\n",
       " 'after': 206,\n",
       " 'without': 207,\n",
       " 'bust': 208,\n",
       " \"doesn't\": 209,\n",
       " 'compliments': 210,\n",
       " 'pattern': 211,\n",
       " 'need': 212,\n",
       " 'being': 213,\n",
       " 'went': 214,\n",
       " 'side': 215,\n",
       " 'want': 216,\n",
       " 'run': 217,\n",
       " 'tops': 218,\n",
       " 'found': 219,\n",
       " 'blouse': 220,\n",
       " 'find': 221,\n",
       " 'pair': 222,\n",
       " 'bra': 223,\n",
       " 'sure': 224,\n",
       " 'reviews': 225,\n",
       " 'weight': 226,\n",
       " 'wore': 227,\n",
       " 'wish': 228,\n",
       " \"can't\": 229,\n",
       " 'picture': 230,\n",
       " \"i've\": 231,\n",
       " 'print': 232,\n",
       " 'buy': 233,\n",
       " 'hips': 234,\n",
       " 'since': 235,\n",
       " 'usual': 236,\n",
       " '8': 237,\n",
       " 'dresses': 238,\n",
       " 'normally': 239,\n",
       " 'by': 240,\n",
       " 'order': 241,\n",
       " 'comfy': 242,\n",
       " 'received': 243,\n",
       " 'different': 244,\n",
       " 'its': 245,\n",
       " 'lot': 246,\n",
       " 'while': 247,\n",
       " 'longer': 248,\n",
       " 'm': 249,\n",
       " 'overall': 250,\n",
       " 'any': 251,\n",
       " 'most': 252,\n",
       " 'absolutely': 253,\n",
       " 'may': 254,\n",
       " 'quite': 255,\n",
       " 'fitted': 256,\n",
       " 'detail': 257,\n",
       " 'nicely': 258,\n",
       " 'slightly': 259,\n",
       " 'keep': 260,\n",
       " 'return': 261,\n",
       " 'two': 262,\n",
       " 'day': 263,\n",
       " 'then': 264,\n",
       " '5': 265,\n",
       " 'green': 266,\n",
       " 'felt': 267,\n",
       " 'leggings': 268,\n",
       " 'might': 269,\n",
       " 'red': 270,\n",
       " 'another': 271,\n",
       " 'under': 272,\n",
       " 'underneath': 273,\n",
       " 'wide': 274,\n",
       " 'stretch': 275,\n",
       " 'neck': 276,\n",
       " 'easy': 277,\n",
       " 'unique': 278,\n",
       " 'say': 279,\n",
       " 'now': 280,\n",
       " 'lace': 281,\n",
       " \"wasn't\": 282,\n",
       " 'fun': 283,\n",
       " 'boxy': 284,\n",
       " 'extra': 285,\n",
       " 'probably': 286,\n",
       " 'happy': 287,\n",
       " '10': 288,\n",
       " 'almost': 289,\n",
       " 'sizing': 290,\n",
       " 'actually': 291,\n",
       " 'photo': 292,\n",
       " 'tank': 293,\n",
       " 'something': 294,\n",
       " 'warm': 295,\n",
       " 'sizes': 296,\n",
       " 'low': 297,\n",
       " 'area': 298,\n",
       " 'smaller': 299,\n",
       " 'sheer': 300,\n",
       " 'fine': 301,\n",
       " 'unfortunately': 302,\n",
       " 'flowy': 303,\n",
       " 'pockets': 304,\n",
       " 'dressed': 305,\n",
       " 'purchase': 306,\n",
       " 't': 307,\n",
       " 'worth': 308,\n",
       " 'feels': 309,\n",
       " \"5'4\": 310,\n",
       " 'tee': 311,\n",
       " 'such': 312,\n",
       " 'into': 313,\n",
       " 'glad': 314,\n",
       " 'full': 315,\n",
       " 'every': 316,\n",
       " 'shorter': 317,\n",
       " 'same': 318,\n",
       " 'said': 319,\n",
       " 'between': 320,\n",
       " 'boots': 321,\n",
       " 'tall': 322,\n",
       " 'put': 323,\n",
       " 'give': 324,\n",
       " 'sized': 325,\n",
       " 'yet': 326,\n",
       " 'always': 327,\n",
       " 'tts': 328,\n",
       " 'disappointed': 329,\n",
       " 'reference': 330,\n",
       " 'spring': 331,\n",
       " 'everything': 332,\n",
       " 'buttons': 333,\n",
       " 'navy': 334,\n",
       " 'line': 335,\n",
       " 'denim': 336,\n",
       " 'skinny': 337,\n",
       " 'wait': 338,\n",
       " 'maybe': 339,\n",
       " 'versatile': 340,\n",
       " 'decided': 341,\n",
       " 'larger': 342,\n",
       " 'part': 343,\n",
       " 'neckline': 344,\n",
       " 'adorable': 345,\n",
       " 'liked': 346,\n",
       " 'should': 347,\n",
       " 'huge': 348,\n",
       " 'winter': 349,\n",
       " 'above': 350,\n",
       " 'thick': 351,\n",
       " 'favorite': 352,\n",
       " 'where': 353,\n",
       " 'especially': 354,\n",
       " 'easily': 355,\n",
       " 'fitting': 356,\n",
       " \"i'd\": 357,\n",
       " 'returned': 358,\n",
       " 'problem': 359,\n",
       " 'grey': 360,\n",
       " 'figure': 361,\n",
       " 'shorts': 362,\n",
       " 'pink': 363,\n",
       " 'came': 364,\n",
       " 'details': 365,\n",
       " 'best': 366,\n",
       " 'heavy': 367,\n",
       " 'thing': 368,\n",
       " 'snug': 369,\n",
       " 'wash': 370,\n",
       " 'button': 371,\n",
       " 'seems': 372,\n",
       " \"isn't\": 373,\n",
       " 'take': 374,\n",
       " 'room': 375,\n",
       " 'slip': 376,\n",
       " 'amazing': 377,\n",
       " 'reviewers': 378,\n",
       " 'coat': 379,\n",
       " '3': 380,\n",
       " 'normal': 381,\n",
       " 'lightweight': 382,\n",
       " 'cotton': 383,\n",
       " \"5'3\": 384,\n",
       " 'feminine': 385,\n",
       " 'hem': 386,\n",
       " \"couldn't\": 387,\n",
       " 'tunic': 388,\n",
       " 'pictured': 389,\n",
       " 'know': 390,\n",
       " 'few': 391,\n",
       " 'knee': 392,\n",
       " 'knit': 393,\n",
       " 'l': 394,\n",
       " 'cardigan': 395,\n",
       " 'took': 396,\n",
       " 'kind': 397,\n",
       " 'cami': 398,\n",
       " \"that's\": 399,\n",
       " 'expected': 400,\n",
       " 'dark': 401,\n",
       " 'goes': 402,\n",
       " 'torso': 403,\n",
       " 'hit': 404,\n",
       " 'embroidery': 405,\n",
       " 'belt': 406,\n",
       " '12': 407,\n",
       " 'curvy': 408,\n",
       " 'returning': 409,\n",
       " \"5'5\": 410,\n",
       " 'beautifully': 411,\n",
       " 'reviewer': 412,\n",
       " \"5'2\": 413,\n",
       " 'arm': 414,\n",
       " '0': 415,\n",
       " 'hits': 416,\n",
       " 'extremely': 417,\n",
       " 'xl': 418,\n",
       " 'lined': 419,\n",
       " 'lining': 420,\n",
       " 'show': 421,\n",
       " 'frame': 422,\n",
       " 'typically': 423,\n",
       " 'works': 424,\n",
       " 'once': 425,\n",
       " 'although': 426,\n",
       " 'able': 427,\n",
       " \"i'll\": 428,\n",
       " 'never': 429,\n",
       " 'before': 430,\n",
       " 'excited': 431,\n",
       " 'legs': 432,\n",
       " 'highly': 433,\n",
       " 'washed': 434,\n",
       " 'anything': 435,\n",
       " 'today': 436,\n",
       " 'either': 437,\n",
       " 'someone': 438,\n",
       " 'who': 439,\n",
       " 'year': 440,\n",
       " 'those': 441,\n",
       " 'shown': 442,\n",
       " 'sleeve': 443,\n",
       " 'xxs': 444,\n",
       " 'bad': 445,\n",
       " \"5'7\": 446,\n",
       " 'new': 447,\n",
       " 'ended': 448,\n",
       " 'issue': 449,\n",
       " 'sold': 450,\n",
       " 'photos': 451,\n",
       " 'weather': 452,\n",
       " 'things': 453,\n",
       " 'below': 454,\n",
       " 'already': 455,\n",
       " 'stretchy': 456,\n",
       " 'shoulder': 457,\n",
       " 'trying': 458,\n",
       " \"5'6\": 459,\n",
       " 'cool': 460,\n",
       " \"you're\": 461,\n",
       " 'gray': 462,\n",
       " 'needed': 463,\n",
       " 'type': 464,\n",
       " 'holes': 465,\n",
       " 'agree': 466,\n",
       " 'tie': 467,\n",
       " 'last': 468,\n",
       " 'zipper': 469,\n",
       " 'arrived': 470,\n",
       " 'otherwise': 471,\n",
       " 'hard': 472,\n",
       " 'fell': 473,\n",
       " 'why': 474,\n",
       " 'layer': 475,\n",
       " 'hoping': 476,\n",
       " 'days': 477,\n",
       " 'exactly': 478,\n",
       " 'wardrobe': 479,\n",
       " 'brand': 480,\n",
       " 'cozy': 481,\n",
       " 'orange': 482,\n",
       " 'suit': 483,\n",
       " 'come': 484,\n",
       " 'add': 485,\n",
       " 'due': 486,\n",
       " '26': 487,\n",
       " 'across': 488,\n",
       " 'cheap': 489,\n",
       " 'inches': 490,\n",
       " 'straps': 491,\n",
       " 'vest': 492,\n",
       " 'sadly': 493,\n",
       " 'local': 494,\n",
       " 'hot': 495,\n",
       " 'skin': 496,\n",
       " 'away': 497,\n",
       " 'again': 498,\n",
       " 'swing': 499,\n",
       " 'unflattering': 500,\n",
       " \"5'8\": 501,\n",
       " 'least': 502,\n",
       " 'heels': 503,\n",
       " '1': 504,\n",
       " 'ever': 505,\n",
       " \"wouldn't\": 506,\n",
       " 'tad': 507,\n",
       " 'sides': 508,\n",
       " \"5'\": 509,\n",
       " 'rather': 510,\n",
       " 'keeping': 511,\n",
       " 'open': 512,\n",
       " 'stylish': 513,\n",
       " 'dry': 514,\n",
       " 'getting': 515,\n",
       " 'ran': 516,\n",
       " 'must': 517,\n",
       " 'vibrant': 518,\n",
       " 'classic': 519,\n",
       " \"they're\": 520,\n",
       " 'plan': 521,\n",
       " 'straight': 522,\n",
       " 'baggy': 523,\n",
       " 'slim': 524,\n",
       " 'others': 525,\n",
       " 'pictures': 526,\n",
       " 'several': 527,\n",
       " 'plus': 528,\n",
       " 'delicate': 529,\n",
       " 'pilcro': 530,\n",
       " 'surprised': 531,\n",
       " 'wonderful': 532,\n",
       " 'nothing': 533,\n",
       " 'less': 534,\n",
       " 'pull': 535,\n",
       " 'touch': 536,\n",
       " 'kept': 537,\n",
       " 'pounds': 538,\n",
       " 'ordering': 539,\n",
       " 'item': 540,\n",
       " 'based': 541,\n",
       " 'roomy': 542,\n",
       " 'waisted': 543,\n",
       " 'seem': 544,\n",
       " 'stunning': 545,\n",
       " 'bright': 546,\n",
       " 'yellow': 547,\n",
       " 'simple': 548,\n",
       " 'drapes': 549,\n",
       " 'drape': 550,\n",
       " 'use': 551,\n",
       " 'years': 552,\n",
       " 'shirts': 553,\n",
       " 'cropped': 554,\n",
       " 'hangs': 555,\n",
       " 'sometimes': 556,\n",
       " '27': 557,\n",
       " 'their': 558,\n",
       " 'available': 559,\n",
       " 'itchy': 560,\n",
       " 'worked': 561,\n",
       " 'v': 562,\n",
       " 'paired': 563,\n",
       " 'night': 564,\n",
       " 'review': 565,\n",
       " 'version': 566,\n",
       " 'ankle': 567,\n",
       " 'gives': 568,\n",
       " 'bigger': 569,\n",
       " 'flat': 570,\n",
       " 'instead': 571,\n",
       " 'own': 572,\n",
       " 'myself': 573,\n",
       " 'far': 574,\n",
       " 'skirts': 575,\n",
       " 'seemed': 576,\n",
       " 'tights': 577,\n",
       " 'times': 578,\n",
       " '28': 579,\n",
       " 'here': 580,\n",
       " 'previous': 581,\n",
       " 'buying': 582,\n",
       " 'busty': 583,\n",
       " 'tiny': 584,\n",
       " 'immediately': 585,\n",
       " 'comes': 586,\n",
       " 'oversized': 587,\n",
       " 'special': 588,\n",
       " 'having': 589,\n",
       " 'lots': 590,\n",
       " 'she': 591,\n",
       " 'wedding': 592,\n",
       " 'mine': 593,\n",
       " \"won't\": 594,\n",
       " 'mentioned': 595,\n",
       " 'falls': 596,\n",
       " 'making': 597,\n",
       " 'ivory': 598,\n",
       " 'end': 599,\n",
       " 'adds': 600,\n",
       " 'elastic': 601,\n",
       " \"5'1\": 602,\n",
       " \"5'9\": 603,\n",
       " 'cover': 604,\n",
       " 'staple': 605,\n",
       " 'cold': 606,\n",
       " '115': 607,\n",
       " 'lower': 608,\n",
       " 'season': 609,\n",
       " 'higher': 610,\n",
       " 'athletic': 611,\n",
       " 'completely': 612,\n",
       " 'collar': 613,\n",
       " 'totally': 614,\n",
       " 'sandals': 615,\n",
       " 'booties': 616,\n",
       " 'flare': 617,\n",
       " 'shows': 618,\n",
       " 'mid': 619,\n",
       " 'leg': 620,\n",
       " 'weird': 621,\n",
       " 'texture': 622,\n",
       " 'second': 623,\n",
       " 'form': 624,\n",
       " 'jean': 625,\n",
       " 'knees': 626,\n",
       " 'wool': 627,\n",
       " \"there's\": 628,\n",
       " 'stiff': 629,\n",
       " 'jumpsuit': 630,\n",
       " 'read': 631,\n",
       " 'cream': 632,\n",
       " 'clothes': 633,\n",
       " 'often': 634,\n",
       " 'knew': 635,\n",
       " 'worried': 636,\n",
       " 'ok': 637,\n",
       " 'used': 638,\n",
       " 'curves': 639,\n",
       " 'months': 640,\n",
       " 'finally': 641,\n",
       " 'else': 642,\n",
       " 'neutral': 643,\n",
       " 'people': 644,\n",
       " 'slimming': 645,\n",
       " 'incredibly': 646,\n",
       " 'layering': 647,\n",
       " 'interesting': 648,\n",
       " 'odd': 649,\n",
       " 'thinking': 650,\n",
       " 'eye': 651,\n",
       " 'broad': 652,\n",
       " 'awesome': 653,\n",
       " 'basic': 654,\n",
       " 'similar': 655,\n",
       " 'half': 656,\n",
       " 'linen': 657,\n",
       " 'prefer': 658,\n",
       " '120': 659,\n",
       " 'clothing': 660,\n",
       " 'fact': 661,\n",
       " 'sexy': 662,\n",
       " 'hope': 663,\n",
       " 'throw': 664,\n",
       " 'wrong': 665,\n",
       " 'mind': 666,\n",
       " 'substantial': 667,\n",
       " 'flats': 668,\n",
       " 'hourglass': 669,\n",
       " 'brown': 670,\n",
       " 'bulky': 671,\n",
       " 'inside': 672,\n",
       " 'gotten': 673,\n",
       " 'amount': 674,\n",
       " 'dressy': 675,\n",
       " 'elegant': 676,\n",
       " 'gave': 677,\n",
       " 'deep': 678,\n",
       " 'hip': 679,\n",
       " 'sweaters': 680,\n",
       " 'outfit': 681,\n",
       " 'b': 682,\n",
       " 'upper': 683,\n",
       " 'rich': 684,\n",
       " 'addition': 685,\n",
       " 'closet': 686,\n",
       " 'maternity': 687,\n",
       " 'c': 688,\n",
       " 'next': 689,\n",
       " 'appears': 690,\n",
       " '30': 691,\n",
       " 'armholes': 692,\n",
       " 'flow': 693,\n",
       " 'point': 694,\n",
       " 'couple': 695,\n",
       " 'home': 696,\n",
       " 'reason': 697,\n",
       " 'during': 698,\n",
       " 'close': 699,\n",
       " 'appropriate': 700,\n",
       " 'mail': 701,\n",
       " '25': 702,\n",
       " 'subtle': 703,\n",
       " 'soon': 704,\n",
       " 'justice': 705,\n",
       " 'depending': 706,\n",
       " '135': 707,\n",
       " 'except': 708,\n",
       " '34b': 709,\n",
       " 'tell': 710,\n",
       " 'her': 711,\n",
       " 'washing': 712,\n",
       " 'stripes': 713,\n",
       " 'expect': 714,\n",
       " 'thicker': 715,\n",
       " 'thighs': 716,\n",
       " 'rise': 717,\n",
       " 'somewhat': 718,\n",
       " 'until': 719,\n",
       " 'detailing': 720,\n",
       " 'sad': 721,\n",
       " 'colored': 722,\n",
       " 'left': 723,\n",
       " 'nude': 724,\n",
       " 'peplum': 725,\n",
       " 'baby': 726,\n",
       " 'hang': 727,\n",
       " 'complaint': 728,\n",
       " 'pant': 729,\n",
       " 'hand': 730,\n",
       " 'seam': 731,\n",
       " 'silk': 732,\n",
       " 'purple': 733,\n",
       " 'yes': 734,\n",
       " 'forward': 735,\n",
       " 'case': 736,\n",
       " 'pleased': 737,\n",
       " '34c': 738,\n",
       " 'exchange': 739,\n",
       " 'build': 740,\n",
       " '125': 741,\n",
       " 'cannot': 742,\n",
       " '140': 743,\n",
       " 'w': 744,\n",
       " 'perhaps': 745,\n",
       " 'looser': 746,\n",
       " 'anyway': 747,\n",
       " 'idea': 748,\n",
       " 'tent': 749,\n",
       " 'expecting': 750,\n",
       " 'hold': 751,\n",
       " 'fairly': 752,\n",
       " 'product': 753,\n",
       " 'bodice': 754,\n",
       " 'place': 755,\n",
       " 'flows': 756,\n",
       " 'taller': 757,\n",
       " \"haven't\": 758,\n",
       " 'fan': 759,\n",
       " 'middle': 760,\n",
       " 'everywhere': 761,\n",
       " 'together': 762,\n",
       " '130': 763,\n",
       " 'darker': 764,\n",
       " 'bottoms': 765,\n",
       " 'deal': 766,\n",
       " 'blazer': 767,\n",
       " 'hung': 768,\n",
       " 'classy': 769,\n",
       " 'real': 770,\n",
       " 'maeve': 771,\n",
       " 'truly': 772,\n",
       " 'awkward': 773,\n",
       " 'added': 774,\n",
       " 'slight': 775,\n",
       " 'pieces': 776,\n",
       " 'along': 777,\n",
       " 'barely': 778,\n",
       " 'floral': 779,\n",
       " 'spot': 780,\n",
       " 'narrow': 781,\n",
       " 'inch': 782,\n",
       " 'gold': 783,\n",
       " 'zip': 784,\n",
       " 'office': 785,\n",
       " 'typical': 786,\n",
       " 'gone': 787,\n",
       " 'fabulous': 788,\n",
       " 'sweatshirt': 789,\n",
       " 'heavier': 790,\n",
       " 'motif': 791,\n",
       " 'butt': 792,\n",
       " 'chic': 793,\n",
       " 'old': 794,\n",
       " 'three': 795,\n",
       " 'band': 796,\n",
       " 'feeling': 797,\n",
       " 'opinion': 798,\n",
       " 'sort': 799,\n",
       " 'items': 800,\n",
       " '34': 801,\n",
       " 'imagine': 802,\n",
       " 'tag': 803,\n",
       " 'fantastic': 804,\n",
       " 'romper': 805,\n",
       " 'live': 806,\n",
       " 'issues': 807,\n",
       " 'past': 808,\n",
       " 'pulled': 809,\n",
       " 'noticed': 810,\n",
       " 'waistband': 811,\n",
       " 'anyone': 812,\n",
       " 'tummy': 813,\n",
       " 'whole': 814,\n",
       " 'showing': 815,\n",
       " 'we': 816,\n",
       " '34d': 817,\n",
       " 'stitching': 818,\n",
       " 'seen': 819,\n",
       " 'reading': 820,\n",
       " 'itself': 821,\n",
       " 'seams': 822,\n",
       " 'belly': 823,\n",
       " 'places': 824,\n",
       " 'unless': 825,\n",
       " '14': 826,\n",
       " 'meant': 827,\n",
       " 'leather': 828,\n",
       " 'lay': 829,\n",
       " 'sewn': 830,\n",
       " 'pairs': 831,\n",
       " 'chested': 832,\n",
       " 'styling': 833,\n",
       " 'strange': 834,\n",
       " 'says': 835,\n",
       " 'needs': 836,\n",
       " 'running': 837,\n",
       " 'each': 838,\n",
       " 'comfort': 839,\n",
       " 'coverage': 840,\n",
       " 'weekend': 841,\n",
       " 'lighter': 842,\n",
       " '100': 843,\n",
       " \"5'10\": 844,\n",
       " 'party': 845,\n",
       " 'generally': 846,\n",
       " 'women': 847,\n",
       " '29': 848,\n",
       " 'transition': 849,\n",
       " 'scratchy': 850,\n",
       " 'excellent': 851,\n",
       " 'rest': 852,\n",
       " 'necklace': 853,\n",
       " 'please': 854,\n",
       " 'done': 855,\n",
       " 'clingy': 856,\n",
       " 'relaxed': 857,\n",
       " 'husband': 858,\n",
       " 'believe': 859,\n",
       " 'stay': 860,\n",
       " 'pregnant': 861,\n",
       " 'wider': 862,\n",
       " 'stars': 863,\n",
       " 'glove': 864,\n",
       " 'beach': 865,\n",
       " 'frumpy': 866,\n",
       " 'height': 867,\n",
       " 'caught': 868,\n",
       " 'girls': 869,\n",
       " 'cup': 870,\n",
       " 'tucked': 871,\n",
       " 'difficult': 872,\n",
       " 'slender': 873,\n",
       " 'portion': 874,\n",
       " 'ago': 875,\n",
       " \"aren't\": 876,\n",
       " 'dinner': 877,\n",
       " 'chance': 878,\n",
       " 'lines': 879,\n",
       " 'sack': 880,\n",
       " 'airy': 881,\n",
       " 'help': 882,\n",
       " 'coral': 883,\n",
       " 'girl': 884,\n",
       " 'finding': 885,\n",
       " 'seasons': 886,\n",
       " 'forgiving': 887,\n",
       " 'bag': 888,\n",
       " 'house': 889,\n",
       " 'slits': 890,\n",
       " 'plenty': 891,\n",
       " 'shaped': 892,\n",
       " 'silhouette': 893,\n",
       " 'expensive': 894,\n",
       " 'care': 895,\n",
       " 'simply': 896,\n",
       " 'tailored': 897,\n",
       " 'maxi': 898,\n",
       " 'clean': 899,\n",
       " 'everyone': 900,\n",
       " 'money': 901,\n",
       " 'camisole': 902,\n",
       " 'd': 903,\n",
       " '39': 904,\n",
       " 'description': 905,\n",
       " 'prettier': 906,\n",
       " 'keeper': 907,\n",
       " 'stock': 908,\n",
       " 'p': 909,\n",
       " 'stomach': 910,\n",
       " 'solid': 911,\n",
       " '36': 912,\n",
       " 'pear': 913,\n",
       " 'pleats': 914,\n",
       " 'hide': 915,\n",
       " 'swingy': 916,\n",
       " 'silky': 917,\n",
       " 'etc': 918,\n",
       " 'option': 919,\n",
       " '38': 920,\n",
       " 'wow': 921,\n",
       " 'cooler': 922,\n",
       " 'shade': 923,\n",
       " 'structured': 924,\n",
       " 'guess': 925,\n",
       " 'life': 926,\n",
       " '40': 927,\n",
       " 'thigh': 928,\n",
       " 'adore': 929,\n",
       " 'given': 930,\n",
       " 'hanging': 931,\n",
       " 'average': 932,\n",
       " 'natural': 933,\n",
       " 'despite': 934,\n",
       " 'send': 935,\n",
       " 'website': 936,\n",
       " 'ladies': 937,\n",
       " 'round': 938,\n",
       " 'wrinkle': 939,\n",
       " 'note': 940,\n",
       " 'yesterday': 941,\n",
       " 'hole': 942,\n",
       " 'beige': 943,\n",
       " 'purchasing': 944,\n",
       " 'plaid': 945,\n",
       " 'uncomfortable': 946,\n",
       " 'polyester': 947,\n",
       " 'pencil': 948,\n",
       " 'considering': 949,\n",
       " 'disappointing': 950,\n",
       " 'originally': 951,\n",
       " 'jackets': 952,\n",
       " '32': 953,\n",
       " 'plain': 954,\n",
       " 'daughter': 955,\n",
       " 'surprise': 956,\n",
       " 'dressing': 957,\n",
       " 'ruffle': 958,\n",
       " 'recently': 959,\n",
       " 'layered': 960,\n",
       " 'beading': 961,\n",
       " 'patterns': 962,\n",
       " 'oh': 963,\n",
       " '36c': 964,\n",
       " 'afraid': 965,\n",
       " 'flowers': 966,\n",
       " 'sit': 967,\n",
       " 'ag': 968,\n",
       " 'hanger': 969,\n",
       " 'shapeless': 970,\n",
       " 'flowing': 971,\n",
       " 'pass': 972,\n",
       " 'pricey': 973,\n",
       " 'designed': 974,\n",
       " 'layers': 975,\n",
       " 'ways': 976,\n",
       " 'poor': 977,\n",
       " 'us': 978,\n",
       " 'swimming': 979,\n",
       " 'tend': 980,\n",
       " 'sent': 981,\n",
       " 'week': 982,\n",
       " 'pay': 983,\n",
       " 'sweet': 984,\n",
       " 'covers': 985,\n",
       " 'pale': 986,\n",
       " 'hides': 987,\n",
       " 'holiday': 988,\n",
       " 'stretched': 989,\n",
       " 'slit': 990,\n",
       " 'let': 991,\n",
       " 'snag': 992,\n",
       " 'stated': 993,\n",
       " 'okay': 994,\n",
       " 'twice': 995,\n",
       " 'everyday': 996,\n",
       " 'coming': 997,\n",
       " 'machine': 998,\n",
       " 'flares': 999,\n",
       " 'receive': 1000,\n",
       " ...}"
      ]
     },
     "execution_count": 127,
     "metadata": {},
     "output_type": "execute_result"
    }
   ],
   "source": [
    "tokenizer.word_index"
   ]
  },
  {
   "cell_type": "code",
   "execution_count": 128,
   "metadata": {},
   "outputs": [
    {
     "data": {
      "text/plain": [
       "14847"
      ]
     },
     "execution_count": 128,
     "metadata": {},
     "output_type": "execute_result"
    }
   ],
   "source": [
    "len(tokenizer.word_index)"
   ]
  },
  {
   "cell_type": "markdown",
   "metadata": {},
   "source": [
    "### Converting tokens to numeric"
   ]
  },
  {
   "cell_type": "code",
   "execution_count": 129,
   "metadata": {},
   "outputs": [],
   "source": [
    "X_num_tokens = tokenizer.texts_to_sequences(X)"
   ]
  },
  {
   "cell_type": "code",
   "execution_count": 130,
   "metadata": {},
   "outputs": [
    {
     "data": {
      "text/plain": [
       "\"The fabric felt cheap and i didn't find it to be a flattering top. for reference i am wearing a medium in the photos and my measurements are 38-30-40.\""
      ]
     },
     "execution_count": 130,
     "metadata": {},
     "output_type": "execute_result"
    }
   ],
   "source": [
    "X[100]"
   ]
  },
  {
   "cell_type": "code",
   "execution_count": 131,
   "metadata": {},
   "outputs": [
    {
     "name": "stdout",
     "output_type": "stream",
     "text": [
      "[1, 45, 267, 489, 3, 2, 124, 221, 5, 8, 29, 4, 58, 25, 12, 330, 2, 38, 141, 4, 97, 9, 1, 451, 3, 17, 1506, 27, 920, 691, 927]\n"
     ]
    }
   ],
   "source": [
    "print(X_num_tokens[100])"
   ]
  },
  {
   "cell_type": "code",
   "execution_count": 132,
   "metadata": {},
   "outputs": [
    {
     "data": {
      "application/javascript": [
       "\n",
       "        if (window._pyforest_update_imports_cell) { window._pyforest_update_imports_cell('from sklearn.model_selection import train_test_split\\nimport numpy as np'); }\n",
       "    "
      ],
      "text/plain": [
       "<IPython.core.display.Javascript object>"
      ]
     },
     "metadata": {},
     "output_type": "display_data"
    }
   ],
   "source": [
    "num_tokens = [len(tokens) for tokens in X_num_tokens]\n",
    "num_tokens = np.array(num_tokens)"
   ]
  },
  {
   "cell_type": "markdown",
   "metadata": {},
   "source": [
    "### Maximum number of tokens for all documents¶"
   ]
  },
  {
   "cell_type": "code",
   "execution_count": 133,
   "metadata": {},
   "outputs": [
    {
     "data": {
      "text/plain": [
       "60.60699615741354"
      ]
     },
     "execution_count": 133,
     "metadata": {},
     "output_type": "execute_result"
    }
   ],
   "source": [
    "num_tokens.mean()"
   ]
  },
  {
   "cell_type": "code",
   "execution_count": 134,
   "metadata": {},
   "outputs": [
    {
     "data": {
      "text/plain": [
       "116"
      ]
     },
     "execution_count": 134,
     "metadata": {},
     "output_type": "execute_result"
    }
   ],
   "source": [
    "num_tokens.max()"
   ]
  },
  {
   "cell_type": "code",
   "execution_count": 135,
   "metadata": {},
   "outputs": [
    {
     "data": {
      "text/plain": [
       "16263"
      ]
     },
     "execution_count": 135,
     "metadata": {},
     "output_type": "execute_result"
    }
   ],
   "source": [
    "num_tokens.argmax()"
   ]
  },
  {
   "cell_type": "code",
   "execution_count": 136,
   "metadata": {},
   "outputs": [
    {
     "data": {
      "text/plain": [
       "'So cute and comfy. great fit. i bought them in green and they look great with wedges, sneakers or sandals. dress up or down. pair with a t-shirt and cotton blazer--adorable!'"
      ]
     },
     "execution_count": 136,
     "metadata": {},
     "output_type": "execute_result"
    }
   ],
   "source": [
    "X[15417]"
   ]
  },
  {
   "cell_type": "code",
   "execution_count": 137,
   "metadata": {},
   "outputs": [],
   "source": [
    "max_tokens = 106"
   ]
  },
  {
   "cell_type": "code",
   "execution_count": 138,
   "metadata": {},
   "outputs": [
    {
     "data": {
      "text/plain": [
       "0.9840554745815114"
      ]
     },
     "execution_count": 138,
     "metadata": {},
     "output_type": "execute_result"
    }
   ],
   "source": [
    "sum(num_tokens < max_tokens) / len(num_tokens)"
   ]
  },
  {
   "cell_type": "markdown",
   "metadata": {},
   "source": [
    "### Fixing token counts of all documents (pad_sequences)"
   ]
  },
  {
   "cell_type": "code",
   "execution_count": 139,
   "metadata": {},
   "outputs": [],
   "source": [
    "X_pad = pad_sequences(X_num_tokens, maxlen=max_tokens)"
   ]
  },
  {
   "cell_type": "code",
   "execution_count": 140,
   "metadata": {},
   "outputs": [
    {
     "data": {
      "text/plain": [
       "(22641, 106)"
      ]
     },
     "execution_count": 140,
     "metadata": {},
     "output_type": "execute_result"
    }
   ],
   "source": [
    "X_pad.shape"
   ]
  },
  {
   "cell_type": "markdown",
   "metadata": {},
   "source": [
    "### Train Set Split"
   ]
  },
  {
   "cell_type": "code",
   "execution_count": 141,
   "metadata": {},
   "outputs": [],
   "source": [
    "from sklearn.model_selection import train_test_split"
   ]
  },
  {
   "cell_type": "code",
   "execution_count": 142,
   "metadata": {},
   "outputs": [],
   "source": [
    "from keras.layers import Bidirectional"
   ]
  },
  {
   "cell_type": "code",
   "execution_count": 143,
   "metadata": {},
   "outputs": [],
   "source": [
    "X_train, X_test, y_train, y_test = train_test_split(X_pad, y, test_size=0.1, stratify=y, random_state=42)"
   ]
  },
  {
   "cell_type": "markdown",
   "metadata": {},
   "source": [
    "### Modeling"
   ]
  },
  {
   "cell_type": "code",
   "execution_count": 144,
   "metadata": {},
   "outputs": [],
   "source": [
    "model = Sequential()"
   ]
  },
  {
   "cell_type": "code",
   "execution_count": 145,
   "metadata": {},
   "outputs": [],
   "source": [
    "embedding_size = 100"
   ]
  },
  {
   "cell_type": "code",
   "execution_count": 146,
   "metadata": {},
   "outputs": [],
   "source": [
    "model.add(Embedding(input_dim=num_words,\n",
    "                    output_dim=embedding_size,\n",
    "                    input_length=max_tokens,\n",
    "                    name='embedding_layer'))"
   ]
  },
  {
   "cell_type": "code",
   "execution_count": 147,
   "metadata": {},
   "outputs": [],
   "source": [
    "model.add(Bidirectional(GRU(units=48, return_sequences=True)))\n",
    "model.add(Dropout(0.5))\n",
    "model.add(Bidirectional(GRU(units=48, return_sequences=True)))\n",
    "model.add(Dropout(0.5))\n",
    "model.add(Bidirectional(GRU(units=48)))\n",
    "model.add(Dense(1, activation='sigmoid'))"
   ]
  },
  {
   "cell_type": "code",
   "execution_count": 148,
   "metadata": {},
   "outputs": [],
   "source": [
    "optimizer = Adam(lr=0.004)"
   ]
  },
  {
   "cell_type": "code",
   "execution_count": 149,
   "metadata": {},
   "outputs": [],
   "source": [
    "model.compile(loss='binary_crossentropy',\n",
    "              optimizer=optimizer,\n",
    "              metrics=[\"Recall\"])"
   ]
  },
  {
   "cell_type": "code",
   "execution_count": 150,
   "metadata": {},
   "outputs": [
    {
     "name": "stdout",
     "output_type": "stream",
     "text": [
      "Model: \"sequential\"\n",
      "_________________________________________________________________\n",
      " Layer (type)                Output Shape              Param #   \n",
      "=================================================================\n",
      " embedding_layer (Embedding)  (None, 106, 100)         1500000   \n",
      "                                                                 \n",
      " bidirectional (Bidirectiona  (None, 106, 96)          43200     \n",
      " l)                                                              \n",
      "                                                                 \n",
      " dropout (Dropout)           (None, 106, 96)           0         \n",
      "                                                                 \n",
      " bidirectional_1 (Bidirectio  (None, 106, 96)          42048     \n",
      " nal)                                                            \n",
      "                                                                 \n",
      " dropout_1 (Dropout)         (None, 106, 96)           0         \n",
      "                                                                 \n",
      " bidirectional_2 (Bidirectio  (None, 96)               42048     \n",
      " nal)                                                            \n",
      "                                                                 \n",
      " dense (Dense)               (None, 1)                 97        \n",
      "                                                                 \n",
      "=================================================================\n",
      "Total params: 1,627,393\n",
      "Trainable params: 1,627,393\n",
      "Non-trainable params: 0\n",
      "_________________________________________________________________\n"
     ]
    }
   ],
   "source": [
    "model.summary() \n",
    "# 3 x (n2 + nm + 2n) m= input, n= output\n",
    "# (48*48 + 100*48 +2*48)*3 ==> m = 100, n = 48\n",
    "# (48*48 + 48*48  +2*48)*3 ==> m =  48, n = 48\n",
    "# (48*48 + 48*48  +2*48)*3 ==> m =  48, n = 48"
   ]
  },
  {
   "cell_type": "code",
   "execution_count": 151,
   "metadata": {},
   "outputs": [],
   "source": [
    "from tensorflow.keras.callbacks import EarlyStopping\n",
    "\n",
    "early_stop = EarlyStopping(monitor=\"val_loss\", mode=\"auto\", \n",
    "                           verbose=1, patience = 3, restore_best_weights=True)"
   ]
  },
  {
   "cell_type": "code",
   "execution_count": 152,
   "metadata": {},
   "outputs": [
    {
     "data": {
      "text/plain": [
       "0    0.818856\n",
       "1    0.181144\n",
       "dtype: float64"
      ]
     },
     "execution_count": 152,
     "metadata": {},
     "output_type": "execute_result"
    }
   ],
   "source": [
    "pd.Series(y_train).value_counts(normalize=True)"
   ]
  },
  {
   "cell_type": "code",
   "execution_count": 153,
   "metadata": {},
   "outputs": [],
   "source": [
    "weights = {0:19, 1:81}"
   ]
  },
  {
   "cell_type": "code",
   "execution_count": 154,
   "metadata": {},
   "outputs": [
    {
     "name": "stdout",
     "output_type": "stream",
     "text": [
      "Epoch 1/25\n",
      "160/160 [==============================] - 139s 815ms/step - loss: 13.1684 - recall: 0.8120 - val_loss: 0.5303 - val_recall: 0.9561\n",
      "Epoch 2/25\n",
      "160/160 [==============================] - 113s 705ms/step - loss: 7.9206 - recall: 0.9222 - val_loss: 0.3411 - val_recall: 0.9049\n",
      "Epoch 3/25\n",
      "160/160 [==============================] - 112s 700ms/step - loss: 5.2972 - recall: 0.9623 - val_loss: 0.3872 - val_recall: 0.8854\n",
      "Epoch 4/25\n",
      "160/160 [==============================] - 111s 692ms/step - loss: 4.2394 - recall: 0.9661 - val_loss: 0.3543 - val_recall: 0.8732\n",
      "Epoch 5/25\n",
      "160/160 [==============================] - ETA: 0s - loss: 3.1758 - recall: 0.9783Restoring model weights from the end of the best epoch: 2.\n",
      "160/160 [==============================] - 113s 704ms/step - loss: 3.1758 - recall: 0.9783 - val_loss: 0.3912 - val_recall: 0.8585\n",
      "Epoch 5: early stopping\n"
     ]
    },
    {
     "data": {
      "text/plain": [
       "<keras.callbacks.History at 0x2c747f93ee0>"
      ]
     },
     "execution_count": 154,
     "metadata": {},
     "output_type": "execute_result"
    }
   ],
   "source": [
    "model.fit(X_train, y_train, epochs=25, batch_size=128, class_weight=weights,\n",
    "         validation_data=(X_test, y_test), callbacks=[early_stop])"
   ]
  },
  {
   "cell_type": "code",
   "execution_count": 155,
   "metadata": {},
   "outputs": [
    {
     "data": {
      "text/html": [
       "<div>\n",
       "<style scoped>\n",
       "    .dataframe tbody tr th:only-of-type {\n",
       "        vertical-align: middle;\n",
       "    }\n",
       "\n",
       "    .dataframe tbody tr th {\n",
       "        vertical-align: top;\n",
       "    }\n",
       "\n",
       "    .dataframe thead th {\n",
       "        text-align: right;\n",
       "    }\n",
       "</style>\n",
       "<table border=\"1\" class=\"dataframe\">\n",
       "  <thead>\n",
       "    <tr style=\"text-align: right;\">\n",
       "      <th></th>\n",
       "      <th>loss</th>\n",
       "      <th>recall</th>\n",
       "      <th>val_loss</th>\n",
       "      <th>val_recall</th>\n",
       "    </tr>\n",
       "  </thead>\n",
       "  <tbody>\n",
       "    <tr>\n",
       "      <th>0</th>\n",
       "      <td>13.168390</td>\n",
       "      <td>0.811975</td>\n",
       "      <td>0.530346</td>\n",
       "      <td>0.956098</td>\n",
       "    </tr>\n",
       "    <tr>\n",
       "      <th>1</th>\n",
       "      <td>7.920603</td>\n",
       "      <td>0.922243</td>\n",
       "      <td>0.341084</td>\n",
       "      <td>0.904878</td>\n",
       "    </tr>\n",
       "    <tr>\n",
       "      <th>2</th>\n",
       "      <td>5.297230</td>\n",
       "      <td>0.962341</td>\n",
       "      <td>0.387215</td>\n",
       "      <td>0.885366</td>\n",
       "    </tr>\n",
       "    <tr>\n",
       "      <th>3</th>\n",
       "      <td>4.239363</td>\n",
       "      <td>0.966134</td>\n",
       "      <td>0.354294</td>\n",
       "      <td>0.873171</td>\n",
       "    </tr>\n",
       "    <tr>\n",
       "      <th>4</th>\n",
       "      <td>3.175832</td>\n",
       "      <td>0.978326</td>\n",
       "      <td>0.391196</td>\n",
       "      <td>0.858537</td>\n",
       "    </tr>\n",
       "  </tbody>\n",
       "</table>\n",
       "</div>"
      ],
      "text/plain": [
       "        loss    recall  val_loss  val_recall\n",
       "0  13.168390  0.811975  0.530346    0.956098\n",
       "1   7.920603  0.922243  0.341084    0.904878\n",
       "2   5.297230  0.962341  0.387215    0.885366\n",
       "3   4.239363  0.966134  0.354294    0.873171\n",
       "4   3.175832  0.978326  0.391196    0.858537"
      ]
     },
     "execution_count": 155,
     "metadata": {},
     "output_type": "execute_result"
    }
   ],
   "source": [
    "model_loss = pd.DataFrame(model.history.history)\n",
    "model_loss.head()"
   ]
  },
  {
   "cell_type": "code",
   "execution_count": 156,
   "metadata": {},
   "outputs": [
    {
     "data": {
      "text/plain": [
       "<AxesSubplot:>"
      ]
     },
     "execution_count": 156,
     "metadata": {},
     "output_type": "execute_result"
    },
    {
     "data": {
      "image/png": "[encoded data removed]",
      "text/plain": [
       "<Figure size 576x396 with 1 Axes>"
      ]
     },
     "metadata": {},
     "output_type": "display_data"
    }
   ],
   "source": [
    "model_loss.plot()"
   ]
  },
  {
   "cell_type": "code",
   "execution_count": 157,
   "metadata": {},
   "outputs": [
    {
     "name": "stdout",
     "output_type": "stream",
     "text": [
      "637/637 [==============================] - 21s 34ms/step - loss: 0.2302 - recall: 0.9886\n"
     ]
    },
    {
     "data": {
      "text/plain": [
       "[0.23019284009933472, 0.9886209964752197]"
      ]
     },
     "execution_count": 157,
     "metadata": {},
     "output_type": "execute_result"
    }
   ],
   "source": [
    "model.evaluate(X_train, y_train)"
   ]
  },
  {
   "cell_type": "code",
   "execution_count": 158,
   "metadata": {},
   "outputs": [
    {
     "name": "stdout",
     "output_type": "stream",
     "text": [
      "71/71 [==============================] - 2s 34ms/step - loss: 0.3411 - recall: 0.9049\n"
     ]
    },
    {
     "data": {
      "text/plain": [
       "[0.34108367562294006, 0.9048780202865601]"
      ]
     },
     "execution_count": 158,
     "metadata": {},
     "output_type": "execute_result"
    }
   ],
   "source": [
    "model.evaluate(X_test, y_test)"
   ]
  },
  {
   "cell_type": "code",
   "execution_count": 159,
   "metadata": {},
   "outputs": [
    {
     "name": "stdout",
     "output_type": "stream",
     "text": [
      "637/637 [==============================] - 24s 35ms/step\n",
      "[[14789  1896]\n",
      " [   42  3649]]\n",
      "-------------------------------------------------------\n",
      "              precision    recall  f1-score   support\n",
      "\n",
      "           0       1.00      0.89      0.94     16685\n",
      "           1       0.66      0.99      0.79      3691\n",
      "\n",
      "    accuracy                           0.90     20376\n",
      "   macro avg       0.83      0.94      0.86     20376\n",
      "weighted avg       0.94      0.90      0.91     20376\n",
      "\n"
     ]
    }
   ],
   "source": [
    "from sklearn.metrics import confusion_matrix, classification_report, accuracy_score, f1_score, roc_auc_score\n",
    "\n",
    "y_train_pred = (model.predict(X_train) >= 0.5).astype(\"int32\")\n",
    "\n",
    "print(confusion_matrix(y_train, y_train_pred))\n",
    "print(\"-------------------------------------------------------\")\n",
    "print(classification_report(y_train, y_train_pred))"
   ]
  },
  {
   "cell_type": "code",
   "execution_count": 160,
   "metadata": {},
   "outputs": [
    {
     "name": "stdout",
     "output_type": "stream",
     "text": [
      "71/71 [==============================] - 3s 38ms/step\n",
      "[[1560  295]\n",
      " [  39  371]]\n",
      "-------------------------------------------------------\n",
      "              precision    recall  f1-score   support\n",
      "\n",
      "           0       0.98      0.84      0.90      1855\n",
      "           1       0.56      0.90      0.69       410\n",
      "\n",
      "    accuracy                           0.85      2265\n",
      "   macro avg       0.77      0.87      0.80      2265\n",
      "weighted avg       0.90      0.85      0.86      2265\n",
      "\n"
     ]
    }
   ],
   "source": [
    "y_pred = (model.predict(X_test) >= 0.5).astype(\"int32\")\n",
    "\n",
    "print(confusion_matrix(y_test, y_pred))\n",
    "print(\"-------------------------------------------------------\")\n",
    "print(classification_report(y_test, y_pred))"
   ]
  },
  {
   "cell_type": "code",
   "execution_count": 161,
   "metadata": {},
   "outputs": [],
   "source": [
    "from sklearn.metrics import precision_recall_curve, average_precision_score"
   ]
  },
  {
   "cell_type": "code",
   "execution_count": 162,
   "metadata": {},
   "outputs": [
    {
     "name": "stdout",
     "output_type": "stream",
     "text": [
      "71/71 [==============================] - 3s 36ms/step\n"
     ]
    },
    {
     "data": {
      "image/png": "[encoded data removed]",
      "text/plain": [
       "<Figure size 576x396 with 1 Axes>"
      ]
     },
     "metadata": {},
     "output_type": "display_data"
    }
   ],
   "source": [
    "y_pred_proba = model.predict(X_test)\n",
    "precision, recall, thresholds = precision_recall_curve(y_test, y_pred_proba)\n",
    "plt.plot([0,1],[0,1],'k--')\n",
    "plt.plot(precision, recall)\n",
    "plt.xlabel('precision')\n",
    "plt.ylabel('recall')\n",
    "plt.title('Precision Recall Curve')\n",
    "plt.show()"
   ]
  },
  {
   "cell_type": "code",
   "execution_count": 163,
   "metadata": {},
   "outputs": [],
   "source": [
    "DL_AP = average_precision_score(y_test, y_pred_proba)\n",
    "DL_f1 = f1_score(y_test, y_pred)\n",
    "DL_rec = recall_score(y_test, y_pred)"
   ]
  },
  {
   "cell_type": "code",
   "execution_count": null,
   "metadata": {},
   "outputs": [],
   "source": []
  },
  {
   "cell_type": "code",
   "execution_count": null,
   "metadata": {},
   "outputs": [],
   "source": []
  },
  {
   "cell_type": "code",
   "execution_count": null,
   "metadata": {},
   "outputs": [],
   "source": []
  },
  {
   "cell_type": "markdown",
   "metadata": {},
   "source": [
    "## BERT Modeling"
   ]
  },
  {
   "cell_type": "code",
   "execution_count": 164,
   "metadata": {},
   "outputs": [
    {
     "name": "stdout",
     "output_type": "stream",
     "text": [
      "Collecting transformers\n",
      "  Downloading transformers-4.20.1-py3-none-any.whl (4.4 MB)"
     ]
    },
    {
     "name": "stderr",
     "output_type": "stream",
     "text": [
      "WARNING: Ignoring invalid distribution -atplotlib (c:\\users\\44778\\anaconda3\\lib\\site-packages)\n",
      "WARNING: Ignoring invalid distribution -atplotlib (c:\\users\\44778\\anaconda3\\lib\\site-packages)\n",
      "WARNING: Ignoring invalid distribution -atplotlib (c:\\users\\44778\\anaconda3\\lib\\site-packages)\n",
      "WARNING: Ignoring invalid distribution -atplotlib (c:\\users\\44778\\anaconda3\\lib\\site-packages)\n",
      "WARNING: Ignoring invalid distribution -atplotlib (c:\\users\\44778\\anaconda3\\lib\\site-packages)\n",
      "WARNING: Ignoring invalid distribution -atplotlib (c:\\users\\44778\\anaconda3\\lib\\site-packages)\n",
      "WARNING: Ignoring invalid distribution -atplotlib (c:\\users\\44778\\anaconda3\\lib\\site-packages)\n",
      "WARNING: There was an error checking the latest version of pip.\n"
     ]
    },
    {
     "name": "stdout",
     "output_type": "stream",
     "text": [
      "\n",
      "     ---------------------------------------- 4.4/4.4 MB 11.8 MB/s eta 0:00:00\n",
      "Requirement already satisfied: pyyaml>=5.1 in c:\\users\\44778\\anaconda3\\lib\\site-packages (from transformers) (6.0)\n",
      "Requirement already satisfied: requests in c:\\users\\44778\\anaconda3\\lib\\site-packages (from transformers) (2.28.0)\n",
      "Requirement already satisfied: numpy>=1.17 in c:\\users\\44778\\appdata\\roaming\\python\\python39\\site-packages (from transformers) (1.20.3)\n",
      "Requirement already satisfied: packaging>=20.0 in c:\\users\\44778\\anaconda3\\lib\\site-packages (from transformers) (21.3)\n",
      "Requirement already satisfied: regex!=2019.12.17 in c:\\users\\44778\\anaconda3\\lib\\site-packages (from transformers) (2022.3.15)\n",
      "Requirement already satisfied: tqdm>=4.27 in c:\\users\\44778\\anaconda3\\lib\\site-packages (from transformers) (4.64.0)\n",
      "Requirement already satisfied: filelock in c:\\users\\44778\\anaconda3\\lib\\site-packages (from transformers) (3.6.0)\n",
      "Collecting huggingface-hub<1.0,>=0.1.0\n",
      "  Downloading huggingface_hub-0.8.1-py3-none-any.whl (101 kB)\n",
      "     -------------------------------------- 101.5/101.5 kB 5.7 MB/s eta 0:00:00\n",
      "Collecting tokenizers!=0.11.3,<0.13,>=0.11.1\n",
      "  Downloading tokenizers-0.12.1-cp39-cp39-win_amd64.whl (3.3 MB)\n",
      "     ---------------------------------------- 3.3/3.3 MB 11.0 MB/s eta 0:00:00\n",
      "Requirement already satisfied: typing-extensions>=3.7.4.3 in c:\\users\\44778\\anaconda3\\lib\\site-packages (from huggingface-hub<1.0,>=0.1.0->transformers) (4.1.1)\n",
      "Requirement already satisfied: pyparsing!=3.0.5,>=2.0.2 in c:\\users\\44778\\anaconda3\\lib\\site-packages (from packaging>=20.0->transformers) (3.0.4)\n",
      "Requirement already satisfied: colorama in c:\\users\\44778\\anaconda3\\lib\\site-packages (from tqdm>=4.27->transformers) (0.4.5)\n",
      "Requirement already satisfied: urllib3<1.27,>=1.21.1 in c:\\users\\44778\\anaconda3\\lib\\site-packages (from requests->transformers) (1.26.9)\n",
      "Requirement already satisfied: idna<4,>=2.5 in c:\\users\\44778\\anaconda3\\lib\\site-packages (from requests->transformers) (3.3)\n",
      "Requirement already satisfied: certifi>=2017.4.17 in c:\\users\\44778\\anaconda3\\lib\\site-packages (from requests->transformers) (2022.6.15)\n",
      "Requirement already satisfied: charset-normalizer~=2.0.0 in c:\\users\\44778\\anaconda3\\lib\\site-packages (from requests->transformers) (2.0.4)\n",
      "Installing collected packages: tokenizers, huggingface-hub, transformers\n",
      "Successfully installed huggingface-hub-0.8.1 tokenizers-0.12.1 transformers-4.20.1\n"
     ]
    }
   ],
   "source": [
    "!pip install transformers"
   ]
  },
  {
   "cell_type": "code",
   "execution_count": null,
   "metadata": {},
   "outputs": [],
   "source": []
  },
  {
   "cell_type": "markdown",
   "metadata": {},
   "source": [
    "### Tokenization"
   ]
  },
  {
   "cell_type": "code",
   "execution_count": 165,
   "metadata": {},
   "outputs": [],
   "source": [
    "import numpy as np\n",
    "import pandas as pd"
   ]
  },
  {
   "cell_type": "code",
   "execution_count": 166,
   "metadata": {},
   "outputs": [
    {
     "data": {
      "application/vnd.jupyter.widget-view+json": {
       "model_id": "86ea1f94254d47b1abde5236a440ef68",
       "version_major": 2,
       "version_minor": 0
      },
      "text/plain": [
       "Downloading:   0%|          | 0.00/28.0 [00:00<?, ?B/s]"
      ]
     },
     "metadata": {},
     "output_type": "display_data"
    },
    {
     "data": {
      "application/vnd.jupyter.widget-view+json": {
       "model_id": "624a25fd13ba46a38d65316675ae2190",
       "version_major": 2,
       "version_minor": 0
      },
      "text/plain": [
       "Downloading:   0%|          | 0.00/570 [00:00<?, ?B/s]"
      ]
     },
     "metadata": {},
     "output_type": "display_data"
    },
    {
     "data": {
      "application/vnd.jupyter.widget-view+json": {
       "model_id": "4af2c0253aa5484fa4949d28c149d1c5",
       "version_major": 2,
       "version_minor": 0
      },
      "text/plain": [
       "Downloading:   0%|          | 0.00/226k [00:00<?, ?B/s]"
      ]
     },
     "metadata": {},
     "output_type": "display_data"
    },
    {
     "data": {
      "application/vnd.jupyter.widget-view+json": {
       "model_id": "14b1647ca0e34168aabc23c90e18c35f",
       "version_major": 2,
       "version_minor": 0
      },
      "text/plain": [
       "Downloading:   0%|          | 0.00/455k [00:00<?, ?B/s]"
      ]
     },
     "metadata": {},
     "output_type": "display_data"
    },
    {
     "name": "stdout",
     "output_type": "stream",
     "text": [
      "Max sentence length:  162\n"
     ]
    }
   ],
   "source": [
    "from transformers import AutoTokenizer\n",
    "\n",
    "tokenizer = AutoTokenizer.from_pretrained(\"bert-base-uncased\")\n",
    "\n",
    "max_len = 0\n",
    "\n",
    "# For every sentence...\n",
    "max_token = []\n",
    "for sent in X:\n",
    "\n",
    "    # Tokenize the text and add `[CLS]` and `[SEP]` tokens.\n",
    "    \n",
    "    input_ids = tokenizer.encode(sent, add_special_tokens=True)\n",
    "    max_token.append(len(input_ids))\n",
    "\n",
    "    # Update the maximum sentence length.\n",
    "    max_len = max(max_len, len(input_ids))\n",
    "\n",
    "print('Max sentence length: ', max_len)"
   ]
  },
  {
   "cell_type": "code",
   "execution_count": 167,
   "metadata": {},
   "outputs": [],
   "source": [
    "def transformation(X):\n",
    "  # set array dimensions\n",
    "  seq_len = 162\n",
    "  num_samples = len(X)\n",
    "\n",
    "  # initialize empty zero arrays\n",
    "  Xids = np.zeros((num_samples, seq_len))\n",
    "  Xmask = np.zeros((num_samples, seq_len))\n",
    "\n",
    "    \n",
    "  for i, phrase in enumerate(X):\n",
    "      tokens = tokenizer.encode_plus(phrase, max_length=seq_len, truncation=True,\n",
    "                                      padding='max_length', add_special_tokens=True) \n",
    "      # assign tokenized outputs to respective rows in numpy arrays\n",
    "      Xids[i, :] = tokens['input_ids']\n",
    "      Xmask[i, :] = tokens['attention_mask']\n",
    "  return Xids, Xmask"
   ]
  },
  {
   "cell_type": "code",
   "execution_count": 168,
   "metadata": {},
   "outputs": [],
   "source": [
    "Xids, Xmask = transformation(X)"
   ]
  },
  {
   "cell_type": "code",
   "execution_count": 169,
   "metadata": {},
   "outputs": [
    {
     "data": {
      "text/plain": [
       "array([[0],\n",
       "       [0],\n",
       "       [1],\n",
       "       ...,\n",
       "       [1],\n",
       "       [0],\n",
       "       [0]], dtype=int64)"
      ]
     },
     "execution_count": 169,
     "metadata": {},
     "output_type": "execute_result"
    }
   ],
   "source": [
    "labels = y.reshape(-1,1)\n",
    "labels"
   ]
  },
  {
   "cell_type": "code",
   "execution_count": null,
   "metadata": {},
   "outputs": [],
   "source": []
  },
  {
   "cell_type": "code",
   "execution_count": null,
   "metadata": {},
   "outputs": [],
   "source": []
  },
  {
   "cell_type": "code",
   "execution_count": null,
   "metadata": {},
   "outputs": [],
   "source": []
  },
  {
   "cell_type": "markdown",
   "metadata": {},
   "source": [
    "### Transformation text to tensor"
   ]
  },
  {
   "cell_type": "code",
   "execution_count": 170,
   "metadata": {},
   "outputs": [],
   "source": [
    "import tensorflow as tf\n",
    "\n",
    "dataset = tf.data.Dataset.from_tensor_slices((Xids, Xmask, labels)) #tf.data.Dataset.from_tensors((Xids, Xmask, labels))\n",
    "\n",
    "def map_func(Xids, Xmask, labels):\n",
    "    # we convert our three-item tuple into a two-item tuple where the input item is a dictionary\n",
    "    return {'input_ids': Xids, 'attention_mask': Xmask}, labels\n",
    "\n",
    "# then we use the dataset map method to apply this transformation\n",
    "dataset = dataset.map(map_func)"
   ]
  },
  {
   "cell_type": "code",
   "execution_count": 171,
   "metadata": {},
   "outputs": [],
   "source": [
    "batch_size = 16\n",
    "length = len(X)\n",
    "# shuffle and batch\n",
    "# fit into a batch of 16\n",
    "dataset = dataset.shuffle(length, reshuffle_each_iteration=False).batch(batch_size, drop_remainder=True)"
   ]
  },
  {
   "cell_type": "code",
   "execution_count": null,
   "metadata": {},
   "outputs": [],
   "source": []
  },
  {
   "cell_type": "code",
   "execution_count": null,
   "metadata": {},
   "outputs": [],
   "source": []
  },
  {
   "cell_type": "markdown",
   "metadata": {},
   "source": [
    "### Train test split"
   ]
  },
  {
   "cell_type": "code",
   "execution_count": 172,
   "metadata": {},
   "outputs": [],
   "source": [
    "# set split size (90% training data) and calculate training set size\n",
    "split = 0.9\n",
    "size = int(len(dataset)*split) #int((Xids.shape[0]/batch_size)*split)\n",
    "\n",
    "# get training and validation sets\n",
    "train_ds = dataset.take(size)\n",
    "val_ds = dataset.skip(size)"
   ]
  },
  {
   "cell_type": "code",
   "execution_count": null,
   "metadata": {},
   "outputs": [],
   "source": []
  },
  {
   "cell_type": "markdown",
   "metadata": {},
   "source": [
    "### AdamW optimization"
   ]
  },
  {
   "cell_type": "code",
   "execution_count": null,
   "metadata": {},
   "outputs": [],
   "source": []
  },
  {
   "cell_type": "code",
   "execution_count": null,
   "metadata": {},
   "outputs": [],
   "source": []
  },
  {
   "cell_type": "markdown",
   "metadata": {},
   "source": [
    "### Creating Model"
   ]
  },
  {
   "cell_type": "code",
   "execution_count": 173,
   "metadata": {},
   "outputs": [],
   "source": [
    "def create_model():\n",
    "    from transformers import TFAutoModel\n",
    "    model = TFAutoModel.from_pretrained(\"bert-base-uncased\")\n",
    "    input_ids = tf.keras.layers.Input(shape=(162,), name='input_ids', dtype='int32')\n",
    "    attention_mask = tf.keras.layers.Input(shape=(162,), name='attention_mask', dtype='int32')\n",
    "\n",
    "    embeddings = model.bert(input_ids=input_ids, attention_mask=attention_mask)[\"pooler_output\"] #[1]\n",
    "\n",
    "    x = tf.keras.layers.Dense(80, activation='relu')(embeddings) \n",
    "    x = tf.keras.layers.Dropout(0.1, name=\"dropout\")(x) #0.1\n",
    "    y = tf.keras.layers.Dense(1, activation='sigmoid', name='outputs')(x)\n",
    "\n",
    "    return tf.keras.Model(inputs=[input_ids, attention_mask], outputs=y)"
   ]
  },
  {
   "cell_type": "code",
   "execution_count": 177,
   "metadata": {},
   "outputs": [
    {
     "ename": "KeyError",
     "evalue": "'COLAB_TPU_ADDR'",
     "output_type": "error",
     "traceback": [
      "\u001b[1;31m---------------------------------------------------------------------------\u001b[0m",
      "\u001b[1;31mKeyError\u001b[0m                                  Traceback (most recent call last)",
      "Input \u001b[1;32mIn [177]\u001b[0m, in \u001b[0;36m<cell line: 5>\u001b[1;34m()\u001b[0m\n\u001b[0;32m      2\u001b[0m \u001b[38;5;28;01mimport\u001b[39;00m \u001b[38;5;21;01mos\u001b[39;00m\n\u001b[0;32m      4\u001b[0m \u001b[38;5;66;03m# Note that the `tpu` argument is for Colab-only\u001b[39;00m\n\u001b[1;32m----> 5\u001b[0m resolver \u001b[38;5;241m=\u001b[39m tf\u001b[38;5;241m.\u001b[39mdistribute\u001b[38;5;241m.\u001b[39mcluster_resolver\u001b[38;5;241m.\u001b[39mTPUClusterResolver(tpu\u001b[38;5;241m=\u001b[39m\u001b[38;5;124m'\u001b[39m\u001b[38;5;124mgrpc://\u001b[39m\u001b[38;5;124m'\u001b[39m \u001b[38;5;241m+\u001b[39m \u001b[43mos\u001b[49m\u001b[38;5;241;43m.\u001b[39;49m\u001b[43menviron\u001b[49m\u001b[43m[\u001b[49m\u001b[38;5;124;43m'\u001b[39;49m\u001b[38;5;124;43mCOLAB_TPU_ADDR\u001b[39;49m\u001b[38;5;124;43m'\u001b[39;49m\u001b[43m]\u001b[49m)\n\u001b[0;32m      7\u001b[0m tf\u001b[38;5;241m.\u001b[39mconfig\u001b[38;5;241m.\u001b[39mexperimental_connect_to_cluster(resolver)\n\u001b[0;32m      8\u001b[0m tf\u001b[38;5;241m.\u001b[39mtpu\u001b[38;5;241m.\u001b[39mexperimental\u001b[38;5;241m.\u001b[39minitialize_tpu_system(resolver)\n",
      "File \u001b[1;32m~\\anaconda3\\lib\\os.py:679\u001b[0m, in \u001b[0;36m_Environ.__getitem__\u001b[1;34m(self, key)\u001b[0m\n\u001b[0;32m    676\u001b[0m     value \u001b[38;5;241m=\u001b[39m \u001b[38;5;28mself\u001b[39m\u001b[38;5;241m.\u001b[39m_data[\u001b[38;5;28mself\u001b[39m\u001b[38;5;241m.\u001b[39mencodekey(key)]\n\u001b[0;32m    677\u001b[0m \u001b[38;5;28;01mexcept\u001b[39;00m \u001b[38;5;167;01mKeyError\u001b[39;00m:\n\u001b[0;32m    678\u001b[0m     \u001b[38;5;66;03m# raise KeyError with the original key value\u001b[39;00m\n\u001b[1;32m--> 679\u001b[0m     \u001b[38;5;28;01mraise\u001b[39;00m \u001b[38;5;167;01mKeyError\u001b[39;00m(key) \u001b[38;5;28;01mfrom\u001b[39;00m \u001b[38;5;28mNone\u001b[39m\n\u001b[0;32m    680\u001b[0m \u001b[38;5;28;01mreturn\u001b[39;00m \u001b[38;5;28mself\u001b[39m\u001b[38;5;241m.\u001b[39mdecodevalue(value)\n",
      "\u001b[1;31mKeyError\u001b[0m: 'COLAB_TPU_ADDR'"
     ]
    }
   ],
   "source": [
    "import tensorflow as tf\n",
    "import os\n",
    "\n",
    "# Note that the `tpu` argument is for Colab-only\n",
    "resolver = tf.distribute.cluster_resolver.TPUClusterResolver(tpu='grpc://' + os.environ['COLAB_TPU_ADDR'])\n",
    "\n",
    "tf.config.experimental_connect_to_cluster(resolver)\n",
    "tf.tpu.experimental.initialize_tpu_system(resolver)\n",
    "print(\"All devices: \", tf.config.list_logical_devices('TPU'))"
   ]
  },
  {
   "cell_type": "code",
   "execution_count": 178,
   "metadata": {},
   "outputs": [
    {
     "ename": "NameError",
     "evalue": "name 'resolver' is not defined",
     "output_type": "error",
     "traceback": [
      "\u001b[1;31m---------------------------------------------------------------------------\u001b[0m",
      "\u001b[1;31mNameError\u001b[0m                                 Traceback (most recent call last)",
      "Input \u001b[1;32mIn [178]\u001b[0m, in \u001b[0;36m<cell line: 1>\u001b[1;34m()\u001b[0m\n\u001b[1;32m----> 1\u001b[0m strategy \u001b[38;5;241m=\u001b[39m tf\u001b[38;5;241m.\u001b[39mdistribute\u001b[38;5;241m.\u001b[39mTPUStrategy(\u001b[43mresolver\u001b[49m)\n",
      "\u001b[1;31mNameError\u001b[0m: name 'resolver' is not defined"
     ]
    }
   ],
   "source": [
    "strategy = tf.distribute.TPUStrategy(resolver)"
   ]
  },
  {
   "cell_type": "code",
   "execution_count": 179,
   "metadata": {},
   "outputs": [
    {
     "ename": "NameError",
     "evalue": "name 'strategy' is not defined",
     "output_type": "error",
     "traceback": [
      "\u001b[1;31m---------------------------------------------------------------------------\u001b[0m",
      "\u001b[1;31mNameError\u001b[0m                                 Traceback (most recent call last)",
      "Input \u001b[1;32mIn [179]\u001b[0m, in \u001b[0;36m<cell line: 1>\u001b[1;34m()\u001b[0m\n\u001b[1;32m----> 1\u001b[0m \u001b[38;5;28;01mwith\u001b[39;00m \u001b[43mstrategy\u001b[49m\u001b[38;5;241m.\u001b[39mscope():\n\u001b[0;32m      3\u001b[0m   optimizer \u001b[38;5;241m=\u001b[39m tf\u001b[38;5;241m.\u001b[39mkeras\u001b[38;5;241m.\u001b[39moptimizers\u001b[38;5;241m.\u001b[39mAdam(learning_rate\u001b[38;5;241m=\u001b[39m\u001b[38;5;241m2e-5\u001b[39m) \u001b[38;5;66;03m#3e-5, 5e-5\u001b[39;00m\n\u001b[0;32m      4\u001b[0m   loss \u001b[38;5;241m=\u001b[39m tf\u001b[38;5;241m.\u001b[39mkeras\u001b[38;5;241m.\u001b[39mlosses\u001b[38;5;241m.\u001b[39mBinaryCrossentropy()\n",
      "\u001b[1;31mNameError\u001b[0m: name 'strategy' is not defined"
     ]
    }
   ],
   "source": [
    "with strategy.scope():\n",
    "  \n",
    "  optimizer = tf.keras.optimizers.Adam(learning_rate=2e-5) #3e-5, 5e-5\n",
    "  loss = tf.keras.losses.BinaryCrossentropy()\n",
    "  recall = tf.keras.metrics.Recall()\n",
    "  model3 = create_model()\n",
    "  model3.compile(optimizer=optimizer, loss=loss, metrics=[recall])"
   ]
  },
  {
   "cell_type": "code",
   "execution_count": null,
   "metadata": {},
   "outputs": [],
   "source": [
    "model3.summary()"
   ]
  },
  {
   "cell_type": "code",
   "execution_count": null,
   "metadata": {},
   "outputs": [],
   "source": [
    "history = model3.fit(\n",
    "    train_ds, validation_data= val_ds,\n",
    "    epochs=1)"
   ]
  },
  {
   "cell_type": "code",
   "execution_count": null,
   "metadata": {},
   "outputs": [],
   "source": []
  },
  {
   "cell_type": "code",
   "execution_count": null,
   "metadata": {},
   "outputs": [],
   "source": []
  },
  {
   "cell_type": "code",
   "execution_count": null,
   "metadata": {},
   "outputs": [],
   "source": []
  },
  {
   "cell_type": "markdown",
   "metadata": {},
   "source": [
    "### Model evaluation"
   ]
  },
  {
   "cell_type": "code",
   "execution_count": null,
   "metadata": {},
   "outputs": [],
   "source": [
    "from sklearn.metrics import classification_report, confusion_matrix\n",
    "\n",
    "y_pred = model3.predict(val_ds) >= 0.5\n",
    "\n",
    "y_test = [j for i in val_ds for j in np.array(i[1])]\n",
    "\n",
    "\n",
    "print(classification_report(y_test, y_pred))"
   ]
  },
  {
   "cell_type": "code",
   "execution_count": null,
   "metadata": {},
   "outputs": [],
   "source": [
    "y_train_pred = model3.predict(train_ds) >= 0.5\n",
    "\n",
    "y_train = [j for i in train_ds for j in np.array(i[1])]\n",
    "\n",
    "print(classification_report(y_train, y_train_pred)) "
   ]
  },
  {
   "cell_type": "code",
   "execution_count": null,
   "metadata": {},
   "outputs": [],
   "source": [
    "from sklearn.metrics import precision_recall_curve, average_precision_score\n",
    "import matplotlib.pyplot as plt\n",
    "\n",
    "y_pred_proba = model3.predict(val_ds)\n",
    "precision, recall, thresholds = precision_recall_curve(y_test, y_pred_proba)\n",
    "plt.plot([1,0],[0,1],'k--')\n",
    "plt.plot(recall, precision)\n",
    "plt.xlabel('recall')\n",
    "plt.ylabel('precision')\n",
    "plt.title('precision recall curve')\n",
    "plt.show()"
   ]
  },
  {
   "cell_type": "code",
   "execution_count": null,
   "metadata": {},
   "outputs": [],
   "source": [
    "average_precision_score(y_test, y_pred_proba)"
   ]
  },
  {
   "cell_type": "code",
   "execution_count": null,
   "metadata": {},
   "outputs": [],
   "source": [
    "BERT_without_weighted_AP = average_precision_score(y_test, y_pred_proba)\n",
    "BERT_without_weighted_f1 = f1_score(y_test, y_pred)\n",
    "BERT_without_weighted_rec = recall_score(y_test, y_pred)"
   ]
  },
  {
   "cell_type": "code",
   "execution_count": null,
   "metadata": {},
   "outputs": [],
   "source": []
  },
  {
   "cell_type": "code",
   "execution_count": null,
   "metadata": {},
   "outputs": [],
   "source": []
  },
  {
   "cell_type": "markdown",
   "metadata": {},
   "source": [
    "### BERT Model with Weighted"
   ]
  },
  {
   "cell_type": "code",
   "execution_count": null,
   "metadata": {},
   "outputs": [],
   "source": [
    "def create_model():\n",
    "    from transformers import TFAutoModel\n",
    "    model = TFAutoModel.from_pretrained(\"bert-base-uncased\")\n",
    "    input_ids = tf.keras.layers.Input(shape=(162,), name='input_ids', dtype='int32')\n",
    "    attention_mask = tf.keras.layers.Input(shape=(162,), name='attention_mask', dtype='int32')\n",
    "\n",
    "    embeddings = model.bert(input_ids=input_ids, attention_mask=attention_mask)[\"pooler_output\"] #[1]\n",
    "\n",
    "    x = tf.keras.layers.Dense(80, activation='relu')(embeddings) \n",
    "    x = tf.keras.layers.Dropout(0.2, name=\"dropout\")(x) #0.1\n",
    "    y = tf.keras.layers.Dense(1, activation='sigmoid', name='outputs')(x)\n",
    "\n",
    "    return tf.keras.Model(inputs=[input_ids, attention_mask], outputs=y)"
   ]
  },
  {
   "cell_type": "code",
   "execution_count": null,
   "metadata": {},
   "outputs": [],
   "source": [
    "with strategy.scope():\n",
    "  \n",
    "  optimizer = tf.keras.optimizers.Adam(learning_rate=5e-5) #3e-5, 2e-5\n",
    "  loss = tf.keras.losses.BinaryCrossentropy()\n",
    "  precision = tf.keras.metrics.Precision()\n",
    "  model3 = create_model()\n",
    "  model3.compile(optimizer=optimizer, loss=loss, metrics=[precision])"
   ]
  },
  {
   "cell_type": "code",
   "execution_count": null,
   "metadata": {},
   "outputs": [],
   "source": [
    "pd.Series(y).value_counts(normalize=True)"
   ]
  },
  {
   "cell_type": "code",
   "execution_count": null,
   "metadata": {},
   "outputs": [],
   "source": [
    "weights = {0:0.2, 1:0.8}"
   ]
  },
  {
   "cell_type": "code",
   "execution_count": null,
   "metadata": {},
   "outputs": [],
   "source": [
    "history = model3.fit(\n",
    "    train_ds, validation_data= val_ds,\n",
    "    epochs=1, class_weight=weights)"
   ]
  },
  {
   "cell_type": "code",
   "execution_count": null,
   "metadata": {},
   "outputs": [],
   "source": [
    "y_pred = model3.predict(val_ds) >= 0.5\n",
    "\n",
    "y_test = [j for i in val_ds for j in np.array(i[1])]\n",
    "\n",
    "\n",
    "print(classification_report(y_test, y_pred))"
   ]
  },
  {
   "cell_type": "code",
   "execution_count": null,
   "metadata": {},
   "outputs": [],
   "source": [
    "y_train_pred = model3.predict(train_ds) >= 0.5\n",
    "\n",
    "y_train = [j for i in train_ds for j in np.array(i[1])]\n",
    "\n",
    "print(classification_report(y_train, y_train_pred)) "
   ]
  },
  {
   "cell_type": "code",
   "execution_count": null,
   "metadata": {},
   "outputs": [],
   "source": [
    "y_pred_proba = model3.predict(val_ds)\n",
    "average_precision_score(y_test, y_pred_proba)"
   ]
  },
  {
   "cell_type": "code",
   "execution_count": null,
   "metadata": {},
   "outputs": [],
   "source": [
    "BERT_with_weighted_AP = average_precision_score(y_test, y_pred_proba)\n",
    "BERT_with_weighted_f1 = f1_score(y_test, y_pred)\n",
    "BERT_with_weighted_rec = recall_score(y_test, y_pred)"
   ]
  },
  {
   "cell_type": "code",
   "execution_count": null,
   "metadata": {},
   "outputs": [],
   "source": []
  },
  {
   "cell_type": "code",
   "execution_count": null,
   "metadata": {},
   "outputs": [],
   "source": []
  },
  {
   "cell_type": "code",
   "execution_count": null,
   "metadata": {},
   "outputs": [],
   "source": []
  },
  {
   "cell_type": "markdown",
   "metadata": {
    "id": "Hdc5JYOXCV4A"
   },
   "source": [
    "### Compare Models F1 Scores, Recall Scores and Average Precision Score"
   ]
  },
  {
   "cell_type": "code",
   "execution_count": null,
   "metadata": {},
   "outputs": [],
   "source": [
    "compare = pd.DataFrame({\"Model\": [\"NaiveBayes_count\", \"LogReg_count\", \"SVM_count\", \"Random Forest_count\", \n",
    "                                  \"AdaBoost_count\", \"NaiveBayes_tfidf\", \"LogReg_tfidf\", \"SVM_tfidf\", \n",
    "                                  \"Random Forest_tfidf\", \"AdaBoost_tfidf\", \"DL\", \"BERT_Weighted\", \"BERT_Without_Weighted\"],\n",
    "                        \n",
    "                        \"F1_Score\": [nb_count_f1, log_count_f1, svc_count_f1,\n",
    "                                             rf_count_f1, ada_count_f1, nb_tfidf_f1, log_tfidf_f1,\n",
    "                                             svc_tfidf_f1, rf_tfidf_f1, ada_tfidf_f1, DL_f1, BERT_with_weighted_f1, BERT_without_weighted_f1],\n",
    "                        \n",
    "                        \"Recall_Score\": [nb_count_rec, log_count_rec, svc_count_rec, \n",
    "                                                   rf_count_rec, ada_count_rec, \n",
    "                                                  nb_tfidf_rec, log_tfidf_rec, svc_tfidf_rec, \n",
    "                                                  rf_tfidf_rec, ada_tfidf_rec, DL_rec, BERT_with_weighted_rec, BERT_without_weighted_rec],\n",
    "                        \n",
    "                        \"Average_Precision_Score\": [nb_AP_count, log_AP_count, svc_AP_count, rf_AP_count,\n",
    "                                                   ada_AP_count, nb_AP_tfidf, log_AP_tfidf, svc_AP_tfidf,\n",
    "                                                   rf_AP_tfidf, ada_AP_tfidf, DL_AP, BERT_with_weighted_AP, BERT_without_weighted_AP]})\n",
    "\n",
    "def labels(ax):\n",
    "                        \n",
    "     for p in ax.patches:\n",
    "        ax.bar_label(ax.containers[0],fmt=\"%.3f\")\n",
    "    \n",
    "plt.figure(figsize=(15,30))\n",
    "plt.subplot(311)\n",
    "compare = compare.sort_values(by=\"Recall_Score\", ascending=False)\n",
    "ax=sns.barplot(x=\"Recall_Score\", y=\"Model\", data=compare, palette=\"Blues_d\")\n",
    "labels(ax)\n",
    "\n",
    "plt.subplot(312)\n",
    "compare = compare.sort_values(by=\"F1_Score\", ascending=False)\n",
    "ax=sns.barplot(x=\"F1_Score\", y=\"Model\", data=compare, palette=\"Blues_d\")\n",
    "labels(ax)\n",
    "\n",
    "\n",
    "plt.subplot(313)\n",
    "compare = compare.sort_values(by=\"Average_Precision_Score\", ascending=False)\n",
    "ax=sns.barplot(x=\"Average_Precision_Score\", y=\"Model\", data=compare, palette=\"Blues_d\")\n",
    "labels(ax)\n",
    "plt.show();"
   ]
  },
  {
   "cell_type": "code",
   "execution_count": null,
   "metadata": {},
   "outputs": [],
   "source": []
  },
  {
   "cell_type": "code",
   "execution_count": null,
   "metadata": {},
   "outputs": [],
   "source": []
  },
  {
   "cell_type": "code",
   "execution_count": null,
   "metadata": {},
   "outputs": [],
   "source": []
  },
  {
   "cell_type": "code",
   "execution_count": null,
   "metadata": {},
   "outputs": [],
   "source": []
  },
  {
   "cell_type": "code",
   "execution_count": null,
   "metadata": {},
   "outputs": [],
   "source": []
  },
  {
   "cell_type": "code",
   "execution_count": null,
   "metadata": {},
   "outputs": [],
   "source": []
  },
  {
   "cell_type": "code",
   "execution_count": null,
   "metadata": {},
   "outputs": [],
   "source": []
  },
  {
   "cell_type": "code",
   "execution_count": null,
   "metadata": {},
   "outputs": [],
   "source": []
  },
  {
   "cell_type": "code",
   "execution_count": null,
   "metadata": {},
   "outputs": [],
   "source": []
  },
  {
   "cell_type": "code",
   "execution_count": null,
   "metadata": {},
   "outputs": [],
   "source": []
  },
  {
   "cell_type": "code",
   "execution_count": null,
   "metadata": {},
   "outputs": [],
   "source": []
  },
  {
   "cell_type": "markdown",
   "metadata": {
    "id": "mfUL4ZaXCV4A"
   },
   "source": [
    "### Conclusion"
   ]
  },
  {
   "cell_type": "code",
   "execution_count": null,
   "metadata": {
    "id": "gtY0hTdRCV4A"
   },
   "outputs": [],
   "source": []
  },
  {
   "cell_type": "markdown",
   "metadata": {},
   "source": [
    "___\n",
    "\n",
    "<p style=\"text-align: center;\"><img src=\"https://docs.google.com/uc?id=1lY0Uj5R04yMY3-ZppPWxqCr5pvBLYPnV\" class=\"img-fluid\" alt=\"CLRSWY\"></p>\n",
    "\n",
    "___"
   ]
  }
 ],
 "metadata": {
  "colab": {
   "collapsed_sections": [],
   "name": "Copy of sentiment_analysis_classifier.ipynb",
   "provenance": []
  },
  "kernelspec": {
   "display_name": "Python 3 (ipykernel)",
   "language": "python",
   "name": "python3"
  },
  "language_info": {
   "codemirror_mode": {
    "name": "ipython",
    "version": 3
   },
   "file_extension": ".py",
   "mimetype": "text/x-python",
   "name": "python",
   "nbconvert_exporter": "python",
   "pygments_lexer": "ipython3",
   "version": "3.9.12"
  },
  "toc": {
   "base_numbering": 1,
   "nav_menu": {},
   "number_sections": true,
   "sideBar": true,
   "skip_h1_title": false,
   "title_cell": "Table of Contents",
   "title_sidebar": "Contents",
   "toc_cell": false,
   "toc_position": {},
   "toc_section_display": true,
   "toc_window_display": true
  }
 },
 "nbformat": 4,
 "nbformat_minor": 4
}
